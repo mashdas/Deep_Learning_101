{
  "nbformat": 4,
  "nbformat_minor": 0,
  "metadata": {
    "colab": {
      "name": "heaton_bc_detect.ipynb",
      "provenance": [],
      "authorship_tag": "ABX9TyMAeP9IgEbqWy1yZXGMipvf",
      "include_colab_link": true
    },
    "kernelspec": {
      "name": "python3",
      "display_name": "Python 3"
    }
  },
  "cells": [
    {
      "cell_type": "markdown",
      "metadata": {
        "id": "view-in-github",
        "colab_type": "text"
      },
      "source": [
        "<a href=\"https://colab.research.google.com/github/mashdas/Deep_Learning_101/blob/master/heaton_bc_detect.ipynb\" target=\"_parent\"><img src=\"https://colab.research.google.com/assets/colab-badge.svg\" alt=\"Open In Colab\"/></a>"
      ]
    },
    {
      "cell_type": "code",
      "metadata": {
        "id": "2UARi6W0M-ER",
        "colab_type": "code",
        "colab": {
          "base_uri": "https://localhost:8080/",
          "height": 218
        },
        "outputId": "2fc50bfa-fb47-407f-eeb4-cacd0fbafff5"
      },
      "source": [
        "import pandas as pd\n",
        "\n",
        "df = pd.read_csv(\n",
        "    \"https://data.heatonresearch.com/data/t81-558/wcbreast_wdbc.csv\",\n",
        "    na_values=['NA','?'])\n",
        "\n",
        "pd.set_option('display.max_columns', 6)\n",
        "pd.set_option('display.max_rows', 5)\n",
        "\n",
        "display(df)\n"
      ],
      "execution_count": 6,
      "outputs": [
        {
          "output_type": "display_data",
          "data": {
            "text/html": [
              "<div>\n",
              "<style scoped>\n",
              "    .dataframe tbody tr th:only-of-type {\n",
              "        vertical-align: middle;\n",
              "    }\n",
              "\n",
              "    .dataframe tbody tr th {\n",
              "        vertical-align: top;\n",
              "    }\n",
              "\n",
              "    .dataframe thead th {\n",
              "        text-align: right;\n",
              "    }\n",
              "</style>\n",
              "<table border=\"1\" class=\"dataframe\">\n",
              "  <thead>\n",
              "    <tr style=\"text-align: right;\">\n",
              "      <th></th>\n",
              "      <th>id</th>\n",
              "      <th>diagnosis</th>\n",
              "      <th>mean_radius</th>\n",
              "      <th>...</th>\n",
              "      <th>worst_concave_points</th>\n",
              "      <th>worst_symmetry</th>\n",
              "      <th>worst_fractal_dimension</th>\n",
              "    </tr>\n",
              "  </thead>\n",
              "  <tbody>\n",
              "    <tr>\n",
              "      <th>0</th>\n",
              "      <td>842302</td>\n",
              "      <td>M</td>\n",
              "      <td>17.99</td>\n",
              "      <td>...</td>\n",
              "      <td>0.2654</td>\n",
              "      <td>0.4601</td>\n",
              "      <td>0.11890</td>\n",
              "    </tr>\n",
              "    <tr>\n",
              "      <th>1</th>\n",
              "      <td>842517</td>\n",
              "      <td>M</td>\n",
              "      <td>20.57</td>\n",
              "      <td>...</td>\n",
              "      <td>0.1860</td>\n",
              "      <td>0.2750</td>\n",
              "      <td>0.08902</td>\n",
              "    </tr>\n",
              "    <tr>\n",
              "      <th>...</th>\n",
              "      <td>...</td>\n",
              "      <td>...</td>\n",
              "      <td>...</td>\n",
              "      <td>...</td>\n",
              "      <td>...</td>\n",
              "      <td>...</td>\n",
              "      <td>...</td>\n",
              "    </tr>\n",
              "    <tr>\n",
              "      <th>567</th>\n",
              "      <td>927241</td>\n",
              "      <td>M</td>\n",
              "      <td>20.60</td>\n",
              "      <td>...</td>\n",
              "      <td>0.2650</td>\n",
              "      <td>0.4087</td>\n",
              "      <td>0.12400</td>\n",
              "    </tr>\n",
              "    <tr>\n",
              "      <th>568</th>\n",
              "      <td>92751</td>\n",
              "      <td>B</td>\n",
              "      <td>7.76</td>\n",
              "      <td>...</td>\n",
              "      <td>0.0000</td>\n",
              "      <td>0.2871</td>\n",
              "      <td>0.07039</td>\n",
              "    </tr>\n",
              "  </tbody>\n",
              "</table>\n",
              "<p>569 rows × 32 columns</p>\n",
              "</div>"
            ],
            "text/plain": [
              "         id diagnosis  mean_radius  ...  worst_concave_points  worst_symmetry  \\\n",
              "0    842302         M        17.99  ...                0.2654          0.4601   \n",
              "1    842517         M        20.57  ...                0.1860          0.2750   \n",
              "..      ...       ...          ...  ...                   ...             ...   \n",
              "567  927241         M        20.60  ...                0.2650          0.4087   \n",
              "568   92751         B         7.76  ...                0.0000          0.2871   \n",
              "\n",
              "     worst_fractal_dimension  \n",
              "0                    0.11890  \n",
              "1                    0.08902  \n",
              "..                       ...  \n",
              "567                  0.12400  \n",
              "568                  0.07039  \n",
              "\n",
              "[569 rows x 32 columns]"
            ]
          },
          "metadata": {
            "tags": []
          }
        }
      ]
    },
    {
      "cell_type": "code",
      "metadata": {
        "id": "_0SvS952N_Il",
        "colab_type": "code",
        "colab": {}
      },
      "source": [
        "# %matplotlib inline\n",
        "# import matplotlib.pyplot as plt\n",
        "# import numpy as np\n",
        "# import scipy.stats as stats\n",
        "# import math\n",
        "\n",
        "# mu1 = -2\n",
        "# mu2 = 2\n",
        "# variance = 1\n",
        "# sigma = math.sqrt(variance)\n",
        "# x1 = np.linspace(mu1 - 5*sigma, mu1 + 4*sigma, 100)\n",
        "# x2 = np.linspace(mu2 - 5*sigma, mu2 + 4*sigma, 100)\n",
        "# plt.plot(x1, stats.norm.pdf(x1, mu1, sigma)/1,color=\"green\")\n",
        "# plt.plot(x2, stats.norm.pdf(x2, mu2, sigma)/1,color=\"red\")\n",
        "# plt.axvline(x=-2,color=\"black\")\n",
        "# plt.axvline(x=0,color=\"black\")\n",
        "# plt.axvline(x=+2,color=\"black\")\n",
        "# plt.text(-2.7,0.55,\"Sensitive\")\n",
        "# plt.text(-0.7,0.55,\"Balanced\")\n",
        "# plt.text(1.7,0.55,\"Specific\")\n",
        "# plt.ylim([0,0.53])\n",
        "# plt.xlim([-5,5])\n",
        "# plt.legend(['Negative','Positive'])\n",
        "# plt.yticks([])\n",
        "# #plt.set_yticklabels([])\n",
        "# plt.show()"
      ],
      "execution_count": 0,
      "outputs": []
    },
    {
      "cell_type": "code",
      "metadata": {
        "id": "I5fiLeffOFHz",
        "colab_type": "code",
        "colab": {}
      },
      "source": [
        "\n",
        "from scipy.stats import zscore\n",
        "\n",
        "# Prepare data - apply z-score to ALL x columns\n",
        "# Only do this if you have no categoricals (and are sure you \n",
        "# want to use z-score across the board)\n",
        "x_columns = df.columns.drop('diagnosis').drop('id')\n",
        "for col in x_columns:\n",
        "    df[col] = zscore(df[col])\n",
        "\n",
        "# Convert to numpy - Regression\n",
        "x = df[x_columns].values\n",
        "y = df['diagnosis'].map({'M':1,\"B\":0}).values # Binary classification, \n",
        "                                              # M is 1 and B is 0"
      ],
      "execution_count": 0,
      "outputs": []
    },
    {
      "cell_type": "code",
      "metadata": {
        "id": "uZ2zjnPGOII-",
        "colab_type": "code",
        "colab": {}
      },
      "source": [
        "# %matplotlib inline\n",
        "# import matplotlib.pyplot as plt\n",
        "# from sklearn.metrics import roc_curve, auc\n",
        "\n",
        "# # Plot a confusion matrix.\n",
        "# # cm is the confusion matrix, names are the names of the classes.\n",
        "# def plot_confusion_matrix(cm, names, title='Confusion matrix', \n",
        "#                             cmap=plt.cm.Blues):\n",
        "#     plt.imshow(cm, interpolation='nearest', cmap=cmap)\n",
        "#     plt.title(title)\n",
        "#     plt.colorbar()\n",
        "#     tick_marks = np.arange(len(names))\n",
        "#     plt.xticks(tick_marks, names, rotation=45)\n",
        "#     plt.yticks(tick_marks, names)\n",
        "#     plt.tight_layout()\n",
        "#     plt.ylabel('True label')\n",
        "#     plt.xlabel('Predicted label')\n",
        "    \n",
        "\n",
        "# # Plot an ROC. pred - the predictions, y - the expected output.\n",
        "# def plot_roc(pred,y):\n",
        "#     fpr, tpr, _ = roc_curve(y, pred)\n",
        "#     roc_auc = auc(fpr, tpr)\n",
        "\n",
        "#     plt.figure()\n",
        "#     plt.plot(fpr, tpr, label='ROC curve (area = %0.2f)' % roc_auc)\n",
        "#     plt.plot([0, 1], [0, 1], 'k--')\n",
        "#     plt.xlim([0.0, 1.0])\n",
        "#     plt.ylim([0.0, 1.05])\n",
        "#     plt.xlabel('False Positive Rate')\n",
        "#     plt.ylabel('True Positive Rate')\n",
        "#     plt.title('Receiver Operating Characteristic (ROC)')\n",
        "#     plt.legend(loc=\"lower right\")\n",
        "#     plt.show()"
      ],
      "execution_count": 0,
      "outputs": []
    },
    {
      "cell_type": "code",
      "metadata": {
        "id": "sf4vcdZWOM2A",
        "colab_type": "code",
        "colab": {
          "base_uri": "https://localhost:8080/",
          "height": 537
        },
        "outputId": "7d0dc548-9172-4681-f96d-cf72985d8bc7"
      },
      "source": [
        "# Classification neural network\n",
        "import numpy as np\n",
        "import tensorflow.keras\n",
        "from tensorflow.keras.models import Sequential\n",
        "from tensorflow.keras.layers import Dense, Activation\n",
        "from tensorflow.keras.callbacks import EarlyStopping\n",
        "from sklearn.model_selection import train_test_split\n",
        "\n",
        "# Split into train/test\n",
        "x_train, x_test, y_train, y_test = train_test_split(    \n",
        "    x, y, test_size=0.25, random_state=42)\n",
        "\n",
        "model = Sequential()\n",
        "model.add(Dense(100, input_dim=x.shape[1], activation='relu',\n",
        "                kernel_initializer='random_normal'))\n",
        "model.add(Dense(50,activation='relu',kernel_initializer='random_normal'))\n",
        "model.add(Dense(25,activation='relu',kernel_initializer='random_normal'))\n",
        "model.add(Dense(1,activation='sigmoid',kernel_initializer='random_normal'))\n",
        "model.compile(loss='binary_crossentropy', \n",
        "              optimizer=tensorflow.keras.optimizers.Adam(),\n",
        "              metrics =['accuracy'])\n",
        "monitor = EarlyStopping(monitor='val_loss', min_delta=1e-3, \n",
        "    patience=5, verbose=1, mode='auto', restore_best_weights=True)\n",
        "\n",
        "history=model.fit(x_train,y_train,validation_data=(x_test,y_test),\n",
        "          callbacks=[monitor],verbose=2,epochs=1000)\n"
      ],
      "execution_count": 13,
      "outputs": [
        {
          "output_type": "stream",
          "text": [
            "Epoch 1/1000\n",
            "14/14 - 0s - loss: 0.6851 - accuracy: 0.8732 - val_loss: 0.6666 - val_accuracy: 0.9650\n",
            "Epoch 2/1000\n",
            "14/14 - 0s - loss: 0.6268 - accuracy: 0.9249 - val_loss: 0.5476 - val_accuracy: 0.9510\n",
            "Epoch 3/1000\n",
            "14/14 - 0s - loss: 0.4580 - accuracy: 0.9343 - val_loss: 0.2996 - val_accuracy: 0.9580\n",
            "Epoch 4/1000\n",
            "14/14 - 0s - loss: 0.2211 - accuracy: 0.9601 - val_loss: 0.1171 - val_accuracy: 0.9720\n",
            "Epoch 5/1000\n",
            "14/14 - 0s - loss: 0.1066 - accuracy: 0.9695 - val_loss: 0.0665 - val_accuracy: 0.9790\n",
            "Epoch 6/1000\n",
            "14/14 - 0s - loss: 0.0848 - accuracy: 0.9765 - val_loss: 0.0559 - val_accuracy: 0.9790\n",
            "Epoch 7/1000\n",
            "14/14 - 0s - loss: 0.0755 - accuracy: 0.9789 - val_loss: 0.0521 - val_accuracy: 0.9860\n",
            "Epoch 8/1000\n",
            "14/14 - 0s - loss: 0.0731 - accuracy: 0.9789 - val_loss: 0.0490 - val_accuracy: 0.9930\n",
            "Epoch 9/1000\n",
            "14/14 - 0s - loss: 0.0608 - accuracy: 0.9859 - val_loss: 0.0486 - val_accuracy: 0.9860\n",
            "Epoch 10/1000\n",
            "14/14 - 0s - loss: 0.0545 - accuracy: 0.9836 - val_loss: 0.0478 - val_accuracy: 0.9860\n",
            "Epoch 11/1000\n",
            "14/14 - 0s - loss: 0.0560 - accuracy: 0.9836 - val_loss: 0.0480 - val_accuracy: 0.9860\n",
            "Epoch 12/1000\n",
            "14/14 - 0s - loss: 0.0490 - accuracy: 0.9859 - val_loss: 0.0541 - val_accuracy: 0.9860\n",
            "Epoch 13/1000\n",
            "14/14 - 0s - loss: 0.0473 - accuracy: 0.9836 - val_loss: 0.0610 - val_accuracy: 0.9790\n",
            "Epoch 14/1000\n",
            "14/14 - 0s - loss: 0.0427 - accuracy: 0.9883 - val_loss: 0.0527 - val_accuracy: 0.9860\n",
            "Epoch 15/1000\n",
            "Restoring model weights from the end of the best epoch.\n",
            "14/14 - 0s - loss: 0.0396 - accuracy: 0.9906 - val_loss: 0.0536 - val_accuracy: 0.9860\n",
            "Epoch 00015: early stopping\n"
          ],
          "name": "stdout"
        }
      ]
    },
    {
      "cell_type": "code",
      "metadata": {
        "id": "IkXEIlz8ORLz",
        "colab_type": "code",
        "colab": {}
      },
      "source": [
        "df"
      ],
      "execution_count": 0,
      "outputs": []
    },
    {
      "cell_type": "code",
      "metadata": {
        "id": "R-lb1HbwOjqg",
        "colab_type": "code",
        "colab": {}
      },
      "source": [
        "\n",
        "def plot_lc(history,epochs):\n",
        "  ##Accuracy\n",
        "  epoch_range=range(1,epochs+1)\n",
        "  plt.plot(epoch_range,history.history['accuracy'])\n",
        "  plt.plot(epoch_range,history.history['val_accuracy'])\n",
        "  plt.title(\"Model_accuracy\")\n",
        "  plt.ylabel(\"Accuracy\")\n",
        "  plt.xlabel(\"Epoch\")\n",
        "  plt.show()\n",
        "\n",
        "\n",
        "   ##Loss\n",
        "  epoch_range=range(1,epochs+1)\n",
        "  plt.plot(epoch_range,history.history['loss'])\n",
        "  plt.plot(epoch_range,history.history['val_loss'])\n",
        "  plt.title(\"Model_loss\")\n",
        "  plt.ylabel(\"Loss\")\n",
        "  plt.xlabel(\"Epoch\")\n",
        "\n",
        "  plt.legend([\"Train\",\"Val\"],loc=\"upper left\")\n",
        "  plt.show()"
      ],
      "execution_count": 0,
      "outputs": []
    },
    {
      "cell_type": "code",
      "metadata": {
        "id": "XJW4m_9NPILH",
        "colab_type": "code",
        "colab": {
          "base_uri": "https://localhost:8080/",
          "height": 572
        },
        "outputId": "0a87983f-0eae-4ba9-ec16-fbdd19a28e91"
      },
      "source": [
        "plot_lc(history,15)"
      ],
      "execution_count": 14,
      "outputs": [
        {
          "output_type": "display_data",
          "data": {
            "image/png": "[encoded data removed]",
            "text/plain": [
              "<Figure size 432x288 with 1 Axes>"
            ]
          },
          "metadata": {
            "tags": [],
            "needs_background": "light"
          }
        },
        {
          "output_type": "display_data",
          "data": {
            "image/png": "[encoded data removed]",
            "text/plain": [
              "<Figure size 432x288 with 1 Axes>"
            ]
          },
          "metadata": {
            "tags": [],
            "needs_background": "light"
          }
        }
      ]
    },
    {
      "cell_type": "code",
      "metadata": {
        "id": "WozTUyIuPRo-",
        "colab_type": "code",
        "colab": {}
      },
      "source": [
        ""
      ],
      "execution_count": 0,
      "outputs": []
    }
  ]
}