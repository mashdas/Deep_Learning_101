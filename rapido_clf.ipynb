{
  "nbformat": 4,
  "nbformat_minor": 0,
  "metadata": {
    "colab": {
      "name": "rapido_clf.ipynb",
      "provenance": [],
      "collapsed_sections": [],
      "machine_shape": "hm",
      "authorship_tag": "ABX9TyPxERIzxX+tnzaVhubzL16n",
      "include_colab_link": true
    },
    "kernelspec": {
      "name": "python3",
      "display_name": "Python 3"
    }
  },
  "cells": [
    {
      "cell_type": "markdown",
      "metadata": {
        "id": "view-in-github",
        "colab_type": "text"
      },
      "source": [
        "<a href=\"https://colab.research.google.com/github/mashdas/Deep_Learning_101/blob/master/rapido_clf.ipynb\" target=\"_parent\"><img src=\"https://colab.research.google.com/assets/colab-badge.svg\" alt=\"Open In Colab\"/></a>"
      ]
    },
    {
      "cell_type": "code",
      "metadata": {
        "id": "3YqFrm02kUmk",
        "colab_type": "code",
        "colab": {}
      },
      "source": [
        "import pandas as pd\n",
        "import numpy as np"
      ],
      "execution_count": 0,
      "outputs": []
    },
    {
      "cell_type": "code",
      "metadata": {
        "id": "Z9X8DBCfkl8r",
        "colab_type": "code",
        "colab": {}
      },
      "source": [
        "data=pd.read_csv(\"ct_rr.csv\",dtype={'numbers':np.int32},na_values=[' None'])"
      ],
      "execution_count": 0,
      "outputs": []
    },
    {
      "cell_type": "code",
      "metadata": {
        "id": "zAIEfzOBkqA2",
        "colab_type": "code",
        "outputId": "5fc5a5d5-f5f5-4b5f-f3f5-9384883b91ab",
        "colab": {
          "base_uri": "https://localhost:8080/",
          "height": 202
        }
      },
      "source": [
        "\n",
        "data.dropna(axis=0,inplace=True)\n",
        "data.shape\n",
        "data.head()\n"
      ],
      "execution_count": 61,
      "outputs": [
        {
          "output_type": "execute_result",
          "data": {
            "text/html": [
              "<div>\n",
              "<style scoped>\n",
              "    .dataframe tbody tr th:only-of-type {\n",
              "        vertical-align: middle;\n",
              "    }\n",
              "\n",
              "    .dataframe tbody tr th {\n",
              "        vertical-align: top;\n",
              "    }\n",
              "\n",
              "    .dataframe thead th {\n",
              "        text-align: right;\n",
              "    }\n",
              "</style>\n",
              "<table border=\"1\" class=\"dataframe\">\n",
              "  <thead>\n",
              "    <tr style=\"text-align: right;\">\n",
              "      <th></th>\n",
              "      <th>ts</th>\n",
              "      <th>number</th>\n",
              "      <th>pick_lat</th>\n",
              "      <th>pick_lng</th>\n",
              "      <th>drop_lat</th>\n",
              "      <th>drop_lng</th>\n",
              "    </tr>\n",
              "  </thead>\n",
              "  <tbody>\n",
              "    <tr>\n",
              "      <th>0</th>\n",
              "      <td>2018-04-07 07:07:17</td>\n",
              "      <td>14626.0</td>\n",
              "      <td>12.313621</td>\n",
              "      <td>76.658195</td>\n",
              "      <td>12.287301</td>\n",
              "      <td>76.602280</td>\n",
              "    </tr>\n",
              "    <tr>\n",
              "      <th>1</th>\n",
              "      <td>2018-04-07 07:32:27</td>\n",
              "      <td>85490.0</td>\n",
              "      <td>12.943947</td>\n",
              "      <td>77.560745</td>\n",
              "      <td>12.954014</td>\n",
              "      <td>77.543770</td>\n",
              "    </tr>\n",
              "    <tr>\n",
              "      <th>2</th>\n",
              "      <td>2018-04-07 07:36:44</td>\n",
              "      <td>5408.0</td>\n",
              "      <td>12.899603</td>\n",
              "      <td>77.587300</td>\n",
              "      <td>12.934780</td>\n",
              "      <td>77.569950</td>\n",
              "    </tr>\n",
              "    <tr>\n",
              "      <th>3</th>\n",
              "      <td>2018-04-07 07:38:00</td>\n",
              "      <td>58940.0</td>\n",
              "      <td>12.918229</td>\n",
              "      <td>77.607544</td>\n",
              "      <td>12.968971</td>\n",
              "      <td>77.636375</td>\n",
              "    </tr>\n",
              "    <tr>\n",
              "      <th>4</th>\n",
              "      <td>2018-04-07 07:39:29</td>\n",
              "      <td>5408.0</td>\n",
              "      <td>12.899490</td>\n",
              "      <td>77.587270</td>\n",
              "      <td>12.934780</td>\n",
              "      <td>77.569950</td>\n",
              "    </tr>\n",
              "  </tbody>\n",
              "</table>\n",
              "</div>"
            ],
            "text/plain": [
              "                    ts   number   pick_lat   pick_lng   drop_lat   drop_lng\n",
              "0  2018-04-07 07:07:17  14626.0  12.313621  76.658195  12.287301  76.602280\n",
              "1  2018-04-07 07:32:27  85490.0  12.943947  77.560745  12.954014  77.543770\n",
              "2  2018-04-07 07:36:44   5408.0  12.899603  77.587300  12.934780  77.569950\n",
              "3  2018-04-07 07:38:00  58940.0  12.918229  77.607544  12.968971  77.636375\n",
              "4  2018-04-07 07:39:29   5408.0  12.899490  77.587270  12.934780  77.569950"
            ]
          },
          "metadata": {
            "tags": []
          },
          "execution_count": 61
        }
      ]
    },
    {
      "cell_type": "code",
      "metadata": {
        "id": "brANiHyxkudA",
        "colab_type": "code",
        "colab": {}
      },
      "source": [
        "data.head()\n",
        "num_holder=data[\"number\"].values"
      ],
      "execution_count": 0,
      "outputs": []
    },
    {
      "cell_type": "code",
      "metadata": {
        "id": "EIziphoZZPxf",
        "colab_type": "code",
        "colab": {}
      },
      "source": [
        "from dateutil import parser"
      ],
      "execution_count": 0,
      "outputs": []
    },
    {
      "cell_type": "code",
      "metadata": {
        "id": "FiANgS_ZlyVE",
        "colab_type": "code",
        "colab": {}
      },
      "source": [
        "data[\"Day\"]= data.apply(lambda row : parser.parse(row['ts']).isoweekday(), axis = 1) \n",
        "#data[\"Month\"]= data.apply(lambda row : parser.parse(row['ts']).month, axis = 1)  \n",
        "#\n"
      ],
      "execution_count": 0,
      "outputs": []
    },
    {
      "cell_type": "code",
      "metadata": {
        "id": "GiwyBVHYnbDN",
        "colab_type": "code",
        "colab": {}
      },
      "source": [
        "def hourmapper(x):\n",
        "  stuff=x.split(' ')[1].split(':')\n",
        "  return int(stuff[0])+int(stuff[1])/60+int(stuff[2])/3600\n"
      ],
      "execution_count": 0,
      "outputs": []
    },
    {
      "cell_type": "code",
      "metadata": {
        "id": "1V436BRAISWZ",
        "colab_type": "code",
        "colab": {}
      },
      "source": [
        "data[\"time\"]=data.apply(lambda row: hourmapper(row['ts']),axis=1)"
      ],
      "execution_count": 0,
      "outputs": []
    },
    {
      "cell_type": "code",
      "metadata": {
        "id": "NMWmkO-WyCFb",
        "colab_type": "code",
        "colab": {}
      },
      "source": [
        "data[\"Day\"]=data[\"Day\"].map({1:\"Mon\",2:\"Tue\",3:\"Wed\",4:\"Thr\",5:\"Fri\",6:\"Sat\",7:\"Sun\"})"
      ],
      "execution_count": 0,
      "outputs": []
    },
    {
      "cell_type": "code",
      "metadata": {
        "id": "cr-LINzKyZ-D",
        "colab_type": "code",
        "outputId": "26784232-8220-4689-ab9e-418721b30eb2",
        "colab": {
          "base_uri": "https://localhost:8080/",
          "height": 202
        }
      },
      "source": [
        "data.head()"
      ],
      "execution_count": 72,
      "outputs": [
        {
          "output_type": "execute_result",
          "data": {
            "text/html": [
              "<div>\n",
              "<style scoped>\n",
              "    .dataframe tbody tr th:only-of-type {\n",
              "        vertical-align: middle;\n",
              "    }\n",
              "\n",
              "    .dataframe tbody tr th {\n",
              "        vertical-align: top;\n",
              "    }\n",
              "\n",
              "    .dataframe thead th {\n",
              "        text-align: right;\n",
              "    }\n",
              "</style>\n",
              "<table border=\"1\" class=\"dataframe\">\n",
              "  <thead>\n",
              "    <tr style=\"text-align: right;\">\n",
              "      <th></th>\n",
              "      <th>ts</th>\n",
              "      <th>number</th>\n",
              "      <th>pick_lat</th>\n",
              "      <th>pick_lng</th>\n",
              "      <th>drop_lat</th>\n",
              "      <th>drop_lng</th>\n",
              "      <th>Day</th>\n",
              "      <th>time</th>\n",
              "    </tr>\n",
              "  </thead>\n",
              "  <tbody>\n",
              "    <tr>\n",
              "      <th>0</th>\n",
              "      <td>2018-04-07 07:07:17</td>\n",
              "      <td>14626.0</td>\n",
              "      <td>12.313621</td>\n",
              "      <td>76.658195</td>\n",
              "      <td>12.287301</td>\n",
              "      <td>76.602280</td>\n",
              "      <td>Sat</td>\n",
              "      <td>7.121389</td>\n",
              "    </tr>\n",
              "    <tr>\n",
              "      <th>1</th>\n",
              "      <td>2018-04-07 07:32:27</td>\n",
              "      <td>85490.0</td>\n",
              "      <td>12.943947</td>\n",
              "      <td>77.560745</td>\n",
              "      <td>12.954014</td>\n",
              "      <td>77.543770</td>\n",
              "      <td>Sat</td>\n",
              "      <td>7.540833</td>\n",
              "    </tr>\n",
              "    <tr>\n",
              "      <th>2</th>\n",
              "      <td>2018-04-07 07:36:44</td>\n",
              "      <td>5408.0</td>\n",
              "      <td>12.899603</td>\n",
              "      <td>77.587300</td>\n",
              "      <td>12.934780</td>\n",
              "      <td>77.569950</td>\n",
              "      <td>Sat</td>\n",
              "      <td>7.612222</td>\n",
              "    </tr>\n",
              "    <tr>\n",
              "      <th>3</th>\n",
              "      <td>2018-04-07 07:38:00</td>\n",
              "      <td>58940.0</td>\n",
              "      <td>12.918229</td>\n",
              "      <td>77.607544</td>\n",
              "      <td>12.968971</td>\n",
              "      <td>77.636375</td>\n",
              "      <td>Sat</td>\n",
              "      <td>7.633333</td>\n",
              "    </tr>\n",
              "    <tr>\n",
              "      <th>4</th>\n",
              "      <td>2018-04-07 07:39:29</td>\n",
              "      <td>5408.0</td>\n",
              "      <td>12.899490</td>\n",
              "      <td>77.587270</td>\n",
              "      <td>12.934780</td>\n",
              "      <td>77.569950</td>\n",
              "      <td>Sat</td>\n",
              "      <td>7.658056</td>\n",
              "    </tr>\n",
              "  </tbody>\n",
              "</table>\n",
              "</div>"
            ],
            "text/plain": [
              "                    ts   number   pick_lat  ...   drop_lng  Day      time\n",
              "0  2018-04-07 07:07:17  14626.0  12.313621  ...  76.602280  Sat  7.121389\n",
              "1  2018-04-07 07:32:27  85490.0  12.943947  ...  77.543770  Sat  7.540833\n",
              "2  2018-04-07 07:36:44   5408.0  12.899603  ...  77.569950  Sat  7.612222\n",
              "3  2018-04-07 07:38:00  58940.0  12.918229  ...  77.636375  Sat  7.633333\n",
              "4  2018-04-07 07:39:29   5408.0  12.899490  ...  77.569950  Sat  7.658056\n",
              "\n",
              "[5 rows x 8 columns]"
            ]
          },
          "metadata": {
            "tags": []
          },
          "execution_count": 72
        }
      ]
    },
    {
      "cell_type": "code",
      "metadata": {
        "id": "YesNPgKiAf4Q",
        "colab_type": "code",
        "colab": {}
      },
      "source": [
        "#data[\"Month\"]=data[\"Month\"].map({1:\"Jan\",2:\"Feb\",3:\"Mar\",4:\"Apr\",5:\"May\",6:\"Jun\",7:\"Jul\",8:\"Aug\",9:\"Sept\",10:\"Oct\",11:\"Nov\",12:\"Dec\"})"
      ],
      "execution_count": 0,
      "outputs": []
    },
    {
      "cell_type": "code",
      "metadata": {
        "id": "DJCABk4dDxyW",
        "colab_type": "code",
        "colab": {}
      },
      "source": [
        "df=pd.get_dummies(data[\"Day\"])\n",
        "data.drop([\"ts\",\"Day\"],axis=1,inplace=True)"
      ],
      "execution_count": 0,
      "outputs": []
    },
    {
      "cell_type": "code",
      "metadata": {
        "id": "HFgLdd3tD9ND",
        "colab_type": "code",
        "outputId": "c09ad979-1606-435e-ba43-07262cf7f06b",
        "colab": {
          "base_uri": "https://localhost:8080/",
          "height": 202
        }
      },
      "source": [
        "data.head()"
      ],
      "execution_count": 75,
      "outputs": [
        {
          "output_type": "execute_result",
          "data": {
            "text/html": [
              "<div>\n",
              "<style scoped>\n",
              "    .dataframe tbody tr th:only-of-type {\n",
              "        vertical-align: middle;\n",
              "    }\n",
              "\n",
              "    .dataframe tbody tr th {\n",
              "        vertical-align: top;\n",
              "    }\n",
              "\n",
              "    .dataframe thead th {\n",
              "        text-align: right;\n",
              "    }\n",
              "</style>\n",
              "<table border=\"1\" class=\"dataframe\">\n",
              "  <thead>\n",
              "    <tr style=\"text-align: right;\">\n",
              "      <th></th>\n",
              "      <th>number</th>\n",
              "      <th>pick_lat</th>\n",
              "      <th>pick_lng</th>\n",
              "      <th>drop_lat</th>\n",
              "      <th>drop_lng</th>\n",
              "      <th>time</th>\n",
              "    </tr>\n",
              "  </thead>\n",
              "  <tbody>\n",
              "    <tr>\n",
              "      <th>0</th>\n",
              "      <td>14626.0</td>\n",
              "      <td>12.313621</td>\n",
              "      <td>76.658195</td>\n",
              "      <td>12.287301</td>\n",
              "      <td>76.602280</td>\n",
              "      <td>7.121389</td>\n",
              "    </tr>\n",
              "    <tr>\n",
              "      <th>1</th>\n",
              "      <td>85490.0</td>\n",
              "      <td>12.943947</td>\n",
              "      <td>77.560745</td>\n",
              "      <td>12.954014</td>\n",
              "      <td>77.543770</td>\n",
              "      <td>7.540833</td>\n",
              "    </tr>\n",
              "    <tr>\n",
              "      <th>2</th>\n",
              "      <td>5408.0</td>\n",
              "      <td>12.899603</td>\n",
              "      <td>77.587300</td>\n",
              "      <td>12.934780</td>\n",
              "      <td>77.569950</td>\n",
              "      <td>7.612222</td>\n",
              "    </tr>\n",
              "    <tr>\n",
              "      <th>3</th>\n",
              "      <td>58940.0</td>\n",
              "      <td>12.918229</td>\n",
              "      <td>77.607544</td>\n",
              "      <td>12.968971</td>\n",
              "      <td>77.636375</td>\n",
              "      <td>7.633333</td>\n",
              "    </tr>\n",
              "    <tr>\n",
              "      <th>4</th>\n",
              "      <td>5408.0</td>\n",
              "      <td>12.899490</td>\n",
              "      <td>77.587270</td>\n",
              "      <td>12.934780</td>\n",
              "      <td>77.569950</td>\n",
              "      <td>7.658056</td>\n",
              "    </tr>\n",
              "  </tbody>\n",
              "</table>\n",
              "</div>"
            ],
            "text/plain": [
              "    number   pick_lat   pick_lng   drop_lat   drop_lng      time\n",
              "0  14626.0  12.313621  76.658195  12.287301  76.602280  7.121389\n",
              "1  85490.0  12.943947  77.560745  12.954014  77.543770  7.540833\n",
              "2   5408.0  12.899603  77.587300  12.934780  77.569950  7.612222\n",
              "3  58940.0  12.918229  77.607544  12.968971  77.636375  7.633333\n",
              "4   5408.0  12.899490  77.587270  12.934780  77.569950  7.658056"
            ]
          },
          "metadata": {
            "tags": []
          },
          "execution_count": 75
        }
      ]
    },
    {
      "cell_type": "code",
      "metadata": {
        "id": "VXZap6kBEp43",
        "colab_type": "code",
        "colab": {}
      },
      "source": [
        "data=pd.concat([data,df],axis=1)"
      ],
      "execution_count": 0,
      "outputs": []
    },
    {
      "cell_type": "code",
      "metadata": {
        "id": "snuH8Kj9FJKM",
        "colab_type": "code",
        "outputId": "2a304eea-d366-40be-dce7-380a1ec95b50",
        "colab": {
          "base_uri": "https://localhost:8080/",
          "height": 202
        }
      },
      "source": [
        "data.head()"
      ],
      "execution_count": 77,
      "outputs": [
        {
          "output_type": "execute_result",
          "data": {
            "text/html": [
              "<div>\n",
              "<style scoped>\n",
              "    .dataframe tbody tr th:only-of-type {\n",
              "        vertical-align: middle;\n",
              "    }\n",
              "\n",
              "    .dataframe tbody tr th {\n",
              "        vertical-align: top;\n",
              "    }\n",
              "\n",
              "    .dataframe thead th {\n",
              "        text-align: right;\n",
              "    }\n",
              "</style>\n",
              "<table border=\"1\" class=\"dataframe\">\n",
              "  <thead>\n",
              "    <tr style=\"text-align: right;\">\n",
              "      <th></th>\n",
              "      <th>number</th>\n",
              "      <th>pick_lat</th>\n",
              "      <th>pick_lng</th>\n",
              "      <th>drop_lat</th>\n",
              "      <th>drop_lng</th>\n",
              "      <th>time</th>\n",
              "      <th>Fri</th>\n",
              "      <th>Mon</th>\n",
              "      <th>Sat</th>\n",
              "      <th>Sun</th>\n",
              "      <th>Thr</th>\n",
              "      <th>Tue</th>\n",
              "      <th>Wed</th>\n",
              "    </tr>\n",
              "  </thead>\n",
              "  <tbody>\n",
              "    <tr>\n",
              "      <th>0</th>\n",
              "      <td>14626.0</td>\n",
              "      <td>12.313621</td>\n",
              "      <td>76.658195</td>\n",
              "      <td>12.287301</td>\n",
              "      <td>76.602280</td>\n",
              "      <td>7.121389</td>\n",
              "      <td>0</td>\n",
              "      <td>0</td>\n",
              "      <td>1</td>\n",
              "      <td>0</td>\n",
              "      <td>0</td>\n",
              "      <td>0</td>\n",
              "      <td>0</td>\n",
              "    </tr>\n",
              "    <tr>\n",
              "      <th>1</th>\n",
              "      <td>85490.0</td>\n",
              "      <td>12.943947</td>\n",
              "      <td>77.560745</td>\n",
              "      <td>12.954014</td>\n",
              "      <td>77.543770</td>\n",
              "      <td>7.540833</td>\n",
              "      <td>0</td>\n",
              "      <td>0</td>\n",
              "      <td>1</td>\n",
              "      <td>0</td>\n",
              "      <td>0</td>\n",
              "      <td>0</td>\n",
              "      <td>0</td>\n",
              "    </tr>\n",
              "    <tr>\n",
              "      <th>2</th>\n",
              "      <td>5408.0</td>\n",
              "      <td>12.899603</td>\n",
              "      <td>77.587300</td>\n",
              "      <td>12.934780</td>\n",
              "      <td>77.569950</td>\n",
              "      <td>7.612222</td>\n",
              "      <td>0</td>\n",
              "      <td>0</td>\n",
              "      <td>1</td>\n",
              "      <td>0</td>\n",
              "      <td>0</td>\n",
              "      <td>0</td>\n",
              "      <td>0</td>\n",
              "    </tr>\n",
              "    <tr>\n",
              "      <th>3</th>\n",
              "      <td>58940.0</td>\n",
              "      <td>12.918229</td>\n",
              "      <td>77.607544</td>\n",
              "      <td>12.968971</td>\n",
              "      <td>77.636375</td>\n",
              "      <td>7.633333</td>\n",
              "      <td>0</td>\n",
              "      <td>0</td>\n",
              "      <td>1</td>\n",
              "      <td>0</td>\n",
              "      <td>0</td>\n",
              "      <td>0</td>\n",
              "      <td>0</td>\n",
              "    </tr>\n",
              "    <tr>\n",
              "      <th>4</th>\n",
              "      <td>5408.0</td>\n",
              "      <td>12.899490</td>\n",
              "      <td>77.587270</td>\n",
              "      <td>12.934780</td>\n",
              "      <td>77.569950</td>\n",
              "      <td>7.658056</td>\n",
              "      <td>0</td>\n",
              "      <td>0</td>\n",
              "      <td>1</td>\n",
              "      <td>0</td>\n",
              "      <td>0</td>\n",
              "      <td>0</td>\n",
              "      <td>0</td>\n",
              "    </tr>\n",
              "  </tbody>\n",
              "</table>\n",
              "</div>"
            ],
            "text/plain": [
              "    number   pick_lat   pick_lng   drop_lat   drop_lng  ...  Sat  Sun  Thr  Tue  Wed\n",
              "0  14626.0  12.313621  76.658195  12.287301  76.602280  ...    1    0    0    0    0\n",
              "1  85490.0  12.943947  77.560745  12.954014  77.543770  ...    1    0    0    0    0\n",
              "2   5408.0  12.899603  77.587300  12.934780  77.569950  ...    1    0    0    0    0\n",
              "3  58940.0  12.918229  77.607544  12.968971  77.636375  ...    1    0    0    0    0\n",
              "4   5408.0  12.899490  77.587270  12.934780  77.569950  ...    1    0    0    0    0\n",
              "\n",
              "[5 rows x 13 columns]"
            ]
          },
          "metadata": {
            "tags": []
          },
          "execution_count": 77
        }
      ]
    },
    {
      "cell_type": "code",
      "metadata": {
        "id": "inpNqcgcFVIF",
        "colab_type": "code",
        "outputId": "a65a99a6-2d42-42ff-fdc1-e71685762ea5",
        "colab": {
          "base_uri": "https://localhost:8080/",
          "height": 34
        }
      },
      "source": [
        "data.shape"
      ],
      "execution_count": 78,
      "outputs": [
        {
          "output_type": "execute_result",
          "data": {
            "text/plain": [
              "(1344160, 13)"
            ]
          },
          "metadata": {
            "tags": []
          },
          "execution_count": 78
        }
      ]
    },
    {
      "cell_type": "code",
      "metadata": {
        "id": "y8lCwf28NDbr",
        "colab_type": "code",
        "outputId": "4d5e7130-9721-42ad-d84a-e4f35705f95d",
        "colab": {
          "base_uri": "https://localhost:8080/",
          "height": 34
        }
      },
      "source": [
        "data.shape"
      ],
      "execution_count": 79,
      "outputs": [
        {
          "output_type": "execute_result",
          "data": {
            "text/plain": [
              "(1344160, 13)"
            ]
          },
          "metadata": {
            "tags": []
          },
          "execution_count": 79
        }
      ]
    },
    {
      "cell_type": "code",
      "metadata": {
        "id": "YtXLcKsUNGT5",
        "colab_type": "code",
        "colab": {}
      },
      "source": [
        "d_copy=pd.DataFrame()"
      ],
      "execution_count": 0,
      "outputs": []
    },
    {
      "cell_type": "code",
      "metadata": {
        "id": "xH3ZBOr1N1v7",
        "colab_type": "code",
        "colab": {}
      },
      "source": [
        "d_copy=data.copy()"
      ],
      "execution_count": 0,
      "outputs": []
    },
    {
      "cell_type": "code",
      "metadata": {
        "id": "kNytKkvRPJEM",
        "colab_type": "code",
        "outputId": "40ad553a-633e-44ad-e922-e43d2c6560f8",
        "colab": {
          "base_uri": "https://localhost:8080/",
          "height": 416
        }
      },
      "source": [
        "d_copy"
      ],
      "execution_count": 82,
      "outputs": [
        {
          "output_type": "execute_result",
          "data": {
            "text/html": [
              "<div>\n",
              "<style scoped>\n",
              "    .dataframe tbody tr th:only-of-type {\n",
              "        vertical-align: middle;\n",
              "    }\n",
              "\n",
              "    .dataframe tbody tr th {\n",
              "        vertical-align: top;\n",
              "    }\n",
              "\n",
              "    .dataframe thead th {\n",
              "        text-align: right;\n",
              "    }\n",
              "</style>\n",
              "<table border=\"1\" class=\"dataframe\">\n",
              "  <thead>\n",
              "    <tr style=\"text-align: right;\">\n",
              "      <th></th>\n",
              "      <th>number</th>\n",
              "      <th>pick_lat</th>\n",
              "      <th>pick_lng</th>\n",
              "      <th>drop_lat</th>\n",
              "      <th>drop_lng</th>\n",
              "      <th>time</th>\n",
              "      <th>Fri</th>\n",
              "      <th>Mon</th>\n",
              "      <th>Sat</th>\n",
              "      <th>Sun</th>\n",
              "      <th>Thr</th>\n",
              "      <th>Tue</th>\n",
              "      <th>Wed</th>\n",
              "    </tr>\n",
              "  </thead>\n",
              "  <tbody>\n",
              "    <tr>\n",
              "      <th>0</th>\n",
              "      <td>14626.0</td>\n",
              "      <td>12.313621</td>\n",
              "      <td>76.658195</td>\n",
              "      <td>12.287301</td>\n",
              "      <td>76.602280</td>\n",
              "      <td>7.121389</td>\n",
              "      <td>0</td>\n",
              "      <td>0</td>\n",
              "      <td>1</td>\n",
              "      <td>0</td>\n",
              "      <td>0</td>\n",
              "      <td>0</td>\n",
              "      <td>0</td>\n",
              "    </tr>\n",
              "    <tr>\n",
              "      <th>1</th>\n",
              "      <td>85490.0</td>\n",
              "      <td>12.943947</td>\n",
              "      <td>77.560745</td>\n",
              "      <td>12.954014</td>\n",
              "      <td>77.543770</td>\n",
              "      <td>7.540833</td>\n",
              "      <td>0</td>\n",
              "      <td>0</td>\n",
              "      <td>1</td>\n",
              "      <td>0</td>\n",
              "      <td>0</td>\n",
              "      <td>0</td>\n",
              "      <td>0</td>\n",
              "    </tr>\n",
              "    <tr>\n",
              "      <th>2</th>\n",
              "      <td>5408.0</td>\n",
              "      <td>12.899603</td>\n",
              "      <td>77.587300</td>\n",
              "      <td>12.934780</td>\n",
              "      <td>77.569950</td>\n",
              "      <td>7.612222</td>\n",
              "      <td>0</td>\n",
              "      <td>0</td>\n",
              "      <td>1</td>\n",
              "      <td>0</td>\n",
              "      <td>0</td>\n",
              "      <td>0</td>\n",
              "      <td>0</td>\n",
              "    </tr>\n",
              "    <tr>\n",
              "      <th>3</th>\n",
              "      <td>58940.0</td>\n",
              "      <td>12.918229</td>\n",
              "      <td>77.607544</td>\n",
              "      <td>12.968971</td>\n",
              "      <td>77.636375</td>\n",
              "      <td>7.633333</td>\n",
              "      <td>0</td>\n",
              "      <td>0</td>\n",
              "      <td>1</td>\n",
              "      <td>0</td>\n",
              "      <td>0</td>\n",
              "      <td>0</td>\n",
              "      <td>0</td>\n",
              "    </tr>\n",
              "    <tr>\n",
              "      <th>4</th>\n",
              "      <td>5408.0</td>\n",
              "      <td>12.899490</td>\n",
              "      <td>77.587270</td>\n",
              "      <td>12.934780</td>\n",
              "      <td>77.569950</td>\n",
              "      <td>7.658056</td>\n",
              "      <td>0</td>\n",
              "      <td>0</td>\n",
              "      <td>1</td>\n",
              "      <td>0</td>\n",
              "      <td>0</td>\n",
              "      <td>0</td>\n",
              "      <td>0</td>\n",
              "    </tr>\n",
              "    <tr>\n",
              "      <th>...</th>\n",
              "      <td>...</td>\n",
              "      <td>...</td>\n",
              "      <td>...</td>\n",
              "      <td>...</td>\n",
              "      <td>...</td>\n",
              "      <td>...</td>\n",
              "      <td>...</td>\n",
              "      <td>...</td>\n",
              "      <td>...</td>\n",
              "      <td>...</td>\n",
              "      <td>...</td>\n",
              "      <td>...</td>\n",
              "      <td>...</td>\n",
              "    </tr>\n",
              "    <tr>\n",
              "      <th>1344198</th>\n",
              "      <td>35684.0</td>\n",
              "      <td>13.016794</td>\n",
              "      <td>77.549225</td>\n",
              "      <td>12.992449</td>\n",
              "      <td>77.593280</td>\n",
              "      <td>22.983056</td>\n",
              "      <td>0</td>\n",
              "      <td>0</td>\n",
              "      <td>0</td>\n",
              "      <td>0</td>\n",
              "      <td>0</td>\n",
              "      <td>0</td>\n",
              "      <td>1</td>\n",
              "    </tr>\n",
              "    <tr>\n",
              "      <th>1344199</th>\n",
              "      <td>35684.0</td>\n",
              "      <td>13.016794</td>\n",
              "      <td>77.549225</td>\n",
              "      <td>12.992449</td>\n",
              "      <td>77.593280</td>\n",
              "      <td>22.985278</td>\n",
              "      <td>0</td>\n",
              "      <td>0</td>\n",
              "      <td>0</td>\n",
              "      <td>0</td>\n",
              "      <td>0</td>\n",
              "      <td>0</td>\n",
              "      <td>1</td>\n",
              "    </tr>\n",
              "    <tr>\n",
              "      <th>1344200</th>\n",
              "      <td>35684.0</td>\n",
              "      <td>13.016794</td>\n",
              "      <td>77.549225</td>\n",
              "      <td>12.992449</td>\n",
              "      <td>77.593280</td>\n",
              "      <td>22.985833</td>\n",
              "      <td>0</td>\n",
              "      <td>0</td>\n",
              "      <td>0</td>\n",
              "      <td>0</td>\n",
              "      <td>0</td>\n",
              "      <td>0</td>\n",
              "      <td>1</td>\n",
              "    </tr>\n",
              "    <tr>\n",
              "      <th>1344201</th>\n",
              "      <td>35684.0</td>\n",
              "      <td>13.016794</td>\n",
              "      <td>77.549225</td>\n",
              "      <td>12.992449</td>\n",
              "      <td>77.593280</td>\n",
              "      <td>22.990278</td>\n",
              "      <td>0</td>\n",
              "      <td>0</td>\n",
              "      <td>0</td>\n",
              "      <td>0</td>\n",
              "      <td>0</td>\n",
              "      <td>0</td>\n",
              "      <td>1</td>\n",
              "    </tr>\n",
              "    <tr>\n",
              "      <th>1344202</th>\n",
              "      <td>35684.0</td>\n",
              "      <td>13.016794</td>\n",
              "      <td>77.549225</td>\n",
              "      <td>12.992449</td>\n",
              "      <td>77.593280</td>\n",
              "      <td>22.991389</td>\n",
              "      <td>0</td>\n",
              "      <td>0</td>\n",
              "      <td>0</td>\n",
              "      <td>0</td>\n",
              "      <td>0</td>\n",
              "      <td>0</td>\n",
              "      <td>1</td>\n",
              "    </tr>\n",
              "  </tbody>\n",
              "</table>\n",
              "<p>1344160 rows × 13 columns</p>\n",
              "</div>"
            ],
            "text/plain": [
              "          number   pick_lat   pick_lng   drop_lat  ...  Sun  Thr  Tue  Wed\n",
              "0        14626.0  12.313621  76.658195  12.287301  ...    0    0    0    0\n",
              "1        85490.0  12.943947  77.560745  12.954014  ...    0    0    0    0\n",
              "2         5408.0  12.899603  77.587300  12.934780  ...    0    0    0    0\n",
              "3        58940.0  12.918229  77.607544  12.968971  ...    0    0    0    0\n",
              "4         5408.0  12.899490  77.587270  12.934780  ...    0    0    0    0\n",
              "...          ...        ...        ...        ...  ...  ...  ...  ...  ...\n",
              "1344198  35684.0  13.016794  77.549225  12.992449  ...    0    0    0    1\n",
              "1344199  35684.0  13.016794  77.549225  12.992449  ...    0    0    0    1\n",
              "1344200  35684.0  13.016794  77.549225  12.992449  ...    0    0    0    1\n",
              "1344201  35684.0  13.016794  77.549225  12.992449  ...    0    0    0    1\n",
              "1344202  35684.0  13.016794  77.549225  12.992449  ...    0    0    0    1\n",
              "\n",
              "[1344160 rows x 13 columns]"
            ]
          },
          "metadata": {
            "tags": []
          },
          "execution_count": 82
        }
      ]
    },
    {
      "cell_type": "code",
      "metadata": {
        "id": "6yq1SnKDPOFu",
        "colab_type": "code",
        "outputId": "17c7bc79-1ace-4b9a-a5ef-f6060758ef4c",
        "colab": {
          "base_uri": "https://localhost:8080/",
          "height": 34
        }
      },
      "source": [
        "d_copy[d_copy[\"number\"]==35684.0].shape[0]"
      ],
      "execution_count": 83,
      "outputs": [
        {
          "output_type": "execute_result",
          "data": {
            "text/plain": [
              "216"
            ]
          },
          "metadata": {
            "tags": []
          },
          "execution_count": 83
        }
      ]
    },
    {
      "cell_type": "code",
      "metadata": {
        "id": "uVzukYvZPyGB",
        "colab_type": "code",
        "colab": {}
      },
      "source": [
        "x_num=d_copy[\"number\"].unique()\n",
        "tup=[]"
      ],
      "execution_count": 0,
      "outputs": []
    },
    {
      "cell_type": "code",
      "metadata": {
        "id": "pU2Ichr1P-ud",
        "colab_type": "code",
        "colab": {}
      },
      "source": [
        "for i in range(len(x_num)):\n",
        "  tup.append((x_num[i],d_copy[d_copy[\"number\"]==x_num[i]].shape[0]))\n"
      ],
      "execution_count": 0,
      "outputs": []
    },
    {
      "cell_type": "code",
      "metadata": {
        "id": "PaHS8uRBQ0vT",
        "colab_type": "code",
        "colab": {}
      },
      "source": [
        "tup.sort(key=lambda x:x[1],reverse=True)"
      ],
      "execution_count": 0,
      "outputs": []
    },
    {
      "cell_type": "code",
      "metadata": {
        "id": "ZbUkfR4QQ1_1",
        "colab_type": "code",
        "outputId": "6beaefd8-c532-4553-dcf7-d4c169a7c950",
        "colab": {
          "base_uri": "https://localhost:8080/",
          "height": 34
        }
      },
      "source": [
        "len(tup)"
      ],
      "execution_count": 87,
      "outputs": [
        {
          "output_type": "execute_result",
          "data": {
            "text/plain": [
              "58305"
            ]
          },
          "metadata": {
            "tags": []
          },
          "execution_count": 87
        }
      ]
    },
    {
      "cell_type": "code",
      "metadata": {
        "id": "W5P09ak7gF4z",
        "colab_type": "code",
        "colab": {}
      },
      "source": [
        "filtered_tup=filter(lambda x:x[1]>35,tup)"
      ],
      "execution_count": 0,
      "outputs": []
    },
    {
      "cell_type": "code",
      "metadata": {
        "id": "gBFEkU1igtcd",
        "colab_type": "code",
        "colab": {}
      },
      "source": [
        "f_tup=list(filtered_tup)"
      ],
      "execution_count": 0,
      "outputs": []
    },
    {
      "cell_type": "code",
      "metadata": {
        "id": "F0Frl65MgwQy",
        "colab_type": "code",
        "colab": {}
      },
      "source": [
        "f_tup"
      ],
      "execution_count": 0,
      "outputs": []
    },
    {
      "cell_type": "code",
      "metadata": {
        "id": "gD0AkZPdhG-P",
        "colab_type": "code",
        "colab": {}
      },
      "source": [
        "num_filter=[x[0] for x in f_tup ]"
      ],
      "execution_count": 0,
      "outputs": []
    },
    {
      "cell_type": "code",
      "metadata": {
        "id": "sjyp2bjDhMQ9",
        "colab_type": "code",
        "colab": {}
      },
      "source": [
        ""
      ],
      "execution_count": 0,
      "outputs": []
    },
    {
      "cell_type": "code",
      "metadata": {
        "id": "4tu7a2dQmlTC",
        "colab_type": "code",
        "colab": {}
      },
      "source": [
        "col_names =  [\"number\",\"pick_lat\",\"pick_lng\",\"drop_lat\",\"drop_lng\",\"time\",\"Fri\",\"Mon\",\"Sat\",\"Sun\",\"Thr\",\"Tue\",\"Wed\"]\n",
        "x_copy= pd.DataFrame(columns = col_names)\n",
        "for x in num_filter:\n",
        "  x_copy=pd.concat([x_copy,d_copy[d_copy[\"number\"]==x]],axis=0)\n"
      ],
      "execution_count": 0,
      "outputs": []
    },
    {
      "cell_type": "code",
      "metadata": {
        "id": "WuN94qMIn088",
        "colab_type": "code",
        "colab": {}
      },
      "source": [
        "x_copy\n",
        "x_copy.to_csv('filtered.csv')"
      ],
      "execution_count": 0,
      "outputs": []
    },
    {
      "cell_type": "code",
      "metadata": {
        "id": "Eq36f6xXpTkE",
        "colab_type": "code",
        "colab": {}
      },
      "source": [
        "##Monday Classfier\n",
        "x_copy_mon=pd.read_csv(\"filtered.csv\")\n",
        "x_copy_mon=x_copy_mon[x_copy_mon[\"Mon\"]==1].copy()"
      ],
      "execution_count": 0,
      "outputs": []
    },
    {
      "cell_type": "code",
      "metadata": {
        "id": "nET-xI6ozXWL",
        "colab_type": "code",
        "colab": {}
      },
      "source": [
        "x_copy_mon.drop([\"drop_lat\",\"drop_lng\",\"Fri\",\"Mon\",\"Sat\",\"Sun\",\"Thr\",\"Tue\",\"Wed\"],inplace=True,axis=1)"
      ],
      "execution_count": 0,
      "outputs": []
    },
    {
      "cell_type": "code",
      "metadata": {
        "id": "mYGcJGtr2ZtE",
        "colab_type": "code",
        "colab": {
          "base_uri": "https://localhost:8080/",
          "height": 416
        },
        "outputId": "282d321a-d51b-4259-db7a-6c5ade218634"
      },
      "source": [
        "x_copy_mon"
      ],
      "execution_count": 5,
      "outputs": [
        {
          "output_type": "execute_result",
          "data": {
            "text/html": [
              "<div>\n",
              "<style scoped>\n",
              "    .dataframe tbody tr th:only-of-type {\n",
              "        vertical-align: middle;\n",
              "    }\n",
              "\n",
              "    .dataframe tbody tr th {\n",
              "        vertical-align: top;\n",
              "    }\n",
              "\n",
              "    .dataframe thead th {\n",
              "        text-align: right;\n",
              "    }\n",
              "</style>\n",
              "<table border=\"1\" class=\"dataframe\">\n",
              "  <thead>\n",
              "    <tr style=\"text-align: right;\">\n",
              "      <th></th>\n",
              "      <th>Unnamed: 0</th>\n",
              "      <th>number</th>\n",
              "      <th>pick_lat</th>\n",
              "      <th>pick_lng</th>\n",
              "      <th>time</th>\n",
              "    </tr>\n",
              "  </thead>\n",
              "  <tbody>\n",
              "    <tr>\n",
              "      <th>77</th>\n",
              "      <td>92692</td>\n",
              "      <td>50291.0</td>\n",
              "      <td>12.946865</td>\n",
              "      <td>77.62481</td>\n",
              "      <td>12.341667</td>\n",
              "    </tr>\n",
              "    <tr>\n",
              "      <th>78</th>\n",
              "      <td>92767</td>\n",
              "      <td>50291.0</td>\n",
              "      <td>12.934498</td>\n",
              "      <td>77.63542</td>\n",
              "      <td>16.387500</td>\n",
              "    </tr>\n",
              "    <tr>\n",
              "      <th>79</th>\n",
              "      <td>92773</td>\n",
              "      <td>50291.0</td>\n",
              "      <td>12.934805</td>\n",
              "      <td>77.63482</td>\n",
              "      <td>16.884167</td>\n",
              "    </tr>\n",
              "    <tr>\n",
              "      <th>80</th>\n",
              "      <td>92953</td>\n",
              "      <td>50291.0</td>\n",
              "      <td>12.946960</td>\n",
              "      <td>77.62475</td>\n",
              "      <td>21.369167</td>\n",
              "    </tr>\n",
              "    <tr>\n",
              "      <th>96</th>\n",
              "      <td>153294</td>\n",
              "      <td>50291.0</td>\n",
              "      <td>12.947096</td>\n",
              "      <td>77.62444</td>\n",
              "      <td>9.653889</td>\n",
              "    </tr>\n",
              "    <tr>\n",
              "      <th>...</th>\n",
              "      <td>...</td>\n",
              "      <td>...</td>\n",
              "      <td>...</td>\n",
              "      <td>...</td>\n",
              "      <td>...</td>\n",
              "    </tr>\n",
              "    <tr>\n",
              "      <th>34269</th>\n",
              "      <td>606823</td>\n",
              "      <td>46866.0</td>\n",
              "      <td>12.897175</td>\n",
              "      <td>77.58807</td>\n",
              "      <td>9.833056</td>\n",
              "    </tr>\n",
              "    <tr>\n",
              "      <th>34270</th>\n",
              "      <td>606845</td>\n",
              "      <td>46866.0</td>\n",
              "      <td>12.897175</td>\n",
              "      <td>77.58807</td>\n",
              "      <td>9.860556</td>\n",
              "    </tr>\n",
              "    <tr>\n",
              "      <th>34286</th>\n",
              "      <td>667528</td>\n",
              "      <td>46866.0</td>\n",
              "      <td>12.897217</td>\n",
              "      <td>77.58808</td>\n",
              "      <td>10.269167</td>\n",
              "    </tr>\n",
              "    <tr>\n",
              "      <th>34287</th>\n",
              "      <td>667542</td>\n",
              "      <td>46866.0</td>\n",
              "      <td>12.910467</td>\n",
              "      <td>77.60254</td>\n",
              "      <td>11.026667</td>\n",
              "    </tr>\n",
              "    <tr>\n",
              "      <th>34288</th>\n",
              "      <td>667763</td>\n",
              "      <td>46866.0</td>\n",
              "      <td>12.933147</td>\n",
              "      <td>77.60259</td>\n",
              "      <td>19.786111</td>\n",
              "    </tr>\n",
              "  </tbody>\n",
              "</table>\n",
              "<p>7039 rows × 5 columns</p>\n",
              "</div>"
            ],
            "text/plain": [
              "       Unnamed: 0   number   pick_lat  pick_lng       time\n",
              "77          92692  50291.0  12.946865  77.62481  12.341667\n",
              "78          92767  50291.0  12.934498  77.63542  16.387500\n",
              "79          92773  50291.0  12.934805  77.63482  16.884167\n",
              "80          92953  50291.0  12.946960  77.62475  21.369167\n",
              "96         153294  50291.0  12.947096  77.62444   9.653889\n",
              "...           ...      ...        ...       ...        ...\n",
              "34269      606823  46866.0  12.897175  77.58807   9.833056\n",
              "34270      606845  46866.0  12.897175  77.58807   9.860556\n",
              "34286      667528  46866.0  12.897217  77.58808  10.269167\n",
              "34287      667542  46866.0  12.910467  77.60254  11.026667\n",
              "34288      667763  46866.0  12.933147  77.60259  19.786111\n",
              "\n",
              "[7039 rows x 5 columns]"
            ]
          },
          "metadata": {
            "tags": []
          },
          "execution_count": 5
        }
      ]
    },
    {
      "cell_type": "code",
      "metadata": {
        "id": "8zU1yTIq4c78",
        "colab_type": "code",
        "colab": {
          "base_uri": "https://localhost:8080/",
          "height": 416
        },
        "outputId": "f8d11fe4-a698-4f05-dbc4-5d5181842115"
      },
      "source": [
        "from scipy.stats import zscore\n",
        "x_copy_mon[\"time\"]=x_copy_mon.apply(lambda row: round(row['time'],2)*100,axis=1)\n",
        "x_copy_mon[\"pick_lat\"]=x_copy_mon.apply(lambda row: round(row['pick_lat'],4)*10000,axis=1)\n",
        "x_copy_mon[\"pick_lng\"]=x_copy_mon.apply(lambda row: round(row['pick_lng'],4)*10000,axis=1)\n",
        "y=zscore(x_copy_mon[\"time\"])\n",
        "x_copy_mon"
      ],
      "execution_count": 6,
      "outputs": [
        {
          "output_type": "execute_result",
          "data": {
            "text/html": [
              "<div>\n",
              "<style scoped>\n",
              "    .dataframe tbody tr th:only-of-type {\n",
              "        vertical-align: middle;\n",
              "    }\n",
              "\n",
              "    .dataframe tbody tr th {\n",
              "        vertical-align: top;\n",
              "    }\n",
              "\n",
              "    .dataframe thead th {\n",
              "        text-align: right;\n",
              "    }\n",
              "</style>\n",
              "<table border=\"1\" class=\"dataframe\">\n",
              "  <thead>\n",
              "    <tr style=\"text-align: right;\">\n",
              "      <th></th>\n",
              "      <th>Unnamed: 0</th>\n",
              "      <th>number</th>\n",
              "      <th>pick_lat</th>\n",
              "      <th>pick_lng</th>\n",
              "      <th>time</th>\n",
              "    </tr>\n",
              "  </thead>\n",
              "  <tbody>\n",
              "    <tr>\n",
              "      <th>77</th>\n",
              "      <td>92692</td>\n",
              "      <td>50291.0</td>\n",
              "      <td>129469.0</td>\n",
              "      <td>776248.0</td>\n",
              "      <td>1234.0</td>\n",
              "    </tr>\n",
              "    <tr>\n",
              "      <th>78</th>\n",
              "      <td>92767</td>\n",
              "      <td>50291.0</td>\n",
              "      <td>129345.0</td>\n",
              "      <td>776354.0</td>\n",
              "      <td>1639.0</td>\n",
              "    </tr>\n",
              "    <tr>\n",
              "      <th>79</th>\n",
              "      <td>92773</td>\n",
              "      <td>50291.0</td>\n",
              "      <td>129348.0</td>\n",
              "      <td>776348.0</td>\n",
              "      <td>1688.0</td>\n",
              "    </tr>\n",
              "    <tr>\n",
              "      <th>80</th>\n",
              "      <td>92953</td>\n",
              "      <td>50291.0</td>\n",
              "      <td>129470.0</td>\n",
              "      <td>776248.0</td>\n",
              "      <td>2137.0</td>\n",
              "    </tr>\n",
              "    <tr>\n",
              "      <th>96</th>\n",
              "      <td>153294</td>\n",
              "      <td>50291.0</td>\n",
              "      <td>129471.0</td>\n",
              "      <td>776244.0</td>\n",
              "      <td>965.0</td>\n",
              "    </tr>\n",
              "    <tr>\n",
              "      <th>...</th>\n",
              "      <td>...</td>\n",
              "      <td>...</td>\n",
              "      <td>...</td>\n",
              "      <td>...</td>\n",
              "      <td>...</td>\n",
              "    </tr>\n",
              "    <tr>\n",
              "      <th>34269</th>\n",
              "      <td>606823</td>\n",
              "      <td>46866.0</td>\n",
              "      <td>128972.0</td>\n",
              "      <td>775881.0</td>\n",
              "      <td>983.0</td>\n",
              "    </tr>\n",
              "    <tr>\n",
              "      <th>34270</th>\n",
              "      <td>606845</td>\n",
              "      <td>46866.0</td>\n",
              "      <td>128972.0</td>\n",
              "      <td>775881.0</td>\n",
              "      <td>986.0</td>\n",
              "    </tr>\n",
              "    <tr>\n",
              "      <th>34286</th>\n",
              "      <td>667528</td>\n",
              "      <td>46866.0</td>\n",
              "      <td>128972.0</td>\n",
              "      <td>775881.0</td>\n",
              "      <td>1027.0</td>\n",
              "    </tr>\n",
              "    <tr>\n",
              "      <th>34287</th>\n",
              "      <td>667542</td>\n",
              "      <td>46866.0</td>\n",
              "      <td>129105.0</td>\n",
              "      <td>776025.0</td>\n",
              "      <td>1103.0</td>\n",
              "    </tr>\n",
              "    <tr>\n",
              "      <th>34288</th>\n",
              "      <td>667763</td>\n",
              "      <td>46866.0</td>\n",
              "      <td>129331.0</td>\n",
              "      <td>776026.0</td>\n",
              "      <td>1979.0</td>\n",
              "    </tr>\n",
              "  </tbody>\n",
              "</table>\n",
              "<p>7039 rows × 5 columns</p>\n",
              "</div>"
            ],
            "text/plain": [
              "       Unnamed: 0   number  pick_lat  pick_lng    time\n",
              "77          92692  50291.0  129469.0  776248.0  1234.0\n",
              "78          92767  50291.0  129345.0  776354.0  1639.0\n",
              "79          92773  50291.0  129348.0  776348.0  1688.0\n",
              "80          92953  50291.0  129470.0  776248.0  2137.0\n",
              "96         153294  50291.0  129471.0  776244.0   965.0\n",
              "...           ...      ...       ...       ...     ...\n",
              "34269      606823  46866.0  128972.0  775881.0   983.0\n",
              "34270      606845  46866.0  128972.0  775881.0   986.0\n",
              "34286      667528  46866.0  128972.0  775881.0  1027.0\n",
              "34287      667542  46866.0  129105.0  776025.0  1103.0\n",
              "34288      667763  46866.0  129331.0  776026.0  1979.0\n",
              "\n",
              "[7039 rows x 5 columns]"
            ]
          },
          "metadata": {
            "tags": []
          },
          "execution_count": 6
        }
      ]
    },
    {
      "cell_type": "code",
      "metadata": {
        "id": "CdO06CGM6ccF",
        "colab_type": "code",
        "colab": {
          "base_uri": "https://localhost:8080/",
          "height": 34
        },
        "outputId": "3f053ce7-08df-4c6b-e8a3-ab4b44c46750"
      },
      "source": [
        ""
      ],
      "execution_count": 16,
      "outputs": [
        {
          "output_type": "execute_result",
          "data": {
            "text/plain": [
              "49"
            ]
          },
          "metadata": {
            "tags": []
          },
          "execution_count": 16
        }
      ]
    },
    {
      "cell_type": "code",
      "metadata": {
        "id": "XJRyUL-N7Dre",
        "colab_type": "code",
        "colab": {}
      },
      "source": [
        "dums=pd.get_dummies(x_copy_mon,columns=[\"number\"]) "
      ],
      "execution_count": 0,
      "outputs": []
    },
    {
      "cell_type": "code",
      "metadata": {
        "id": "kc5xpihH7ROX",
        "colab_type": "code",
        "colab": {}
      },
      "source": [
        "X=dums.iloc[:,1:]"
      ],
      "execution_count": 0,
      "outputs": []
    },
    {
      "cell_type": "code",
      "metadata": {
        "id": "umH9dT1p7svh",
        "colab_type": "code",
        "colab": {}
      },
      "source": [
        "X.to_csv('filteredx.csv')"
      ],
      "execution_count": 0,
      "outputs": []
    },
    {
      "cell_type": "code",
      "metadata": {
        "id": "qpJyKskj72Tz",
        "colab_type": "code",
        "colab": {}
      },
      "source": [
        "\n",
        "\n",
        "x_columns = [\"pick_lat\",\"pick_lng\",\"time\"]\n",
        "for col in x_columns:\n",
        "    X[col] = zscore(X[col])\n",
        "\n",
        "# Convert to numpy - Regression\n"
      ],
      "execution_count": 0,
      "outputs": []
    },
    {
      "cell_type": "code",
      "metadata": {
        "id": "xDbZHG3K8Gj4",
        "colab_type": "code",
        "colab": {
          "base_uri": "https://localhost:8080/",
          "height": 34
        },
        "outputId": "f6e4f8dd-d717-49f2-cfc6-043796a14508"
      },
      "source": [
        "from sklearn import preprocessing\n",
        "lab_enc = preprocessing.LabelEncoder()\n",
        "y=lab_enc.fit_transform(y)\n",
        "y"
      ],
      "execution_count": 54,
      "outputs": [
        {
          "output_type": "execute_result",
          "data": {
            "text/plain": [
              "array([ 472,  682,  723, ...,  294,  370, 1002])"
            ]
          },
          "metadata": {
            "tags": []
          },
          "execution_count": 54
        }
      ]
    },
    {
      "cell_type": "code",
      "metadata": {
        "id": "OnCjOYLe8oeN",
        "colab_type": "code",
        "colab": {}
      },
      "source": [
        "#X=X.iloc[:,:].values\n",
        "from sklearn.model_selection import train_test_split\n",
        "\n",
        "X_train,X_test,y_train,y_test=train_test_split(X,y,test_size=0.01)"
      ],
      "execution_count": 0,
      "outputs": []
    },
    {
      "cell_type": "code",
      "metadata": {
        "id": "w0koMhUv8rQL",
        "colab_type": "code",
        "colab": {
          "base_uri": "https://localhost:8080/",
          "height": 242
        },
        "outputId": "98f75df8-91e0-41d0-9d7d-a0e1bd43f8ee"
      },
      "source": [
        "X_train"
      ],
      "execution_count": 57,
      "outputs": [
        {
          "output_type": "execute_result",
          "data": {
            "text/plain": [
              "array([[-0.31997206, -0.20976928,  1.58801788, ...,  0.        ,\n",
              "         0.        ,  0.        ],\n",
              "       [ 0.16830326, -0.03197343, -0.95153397, ...,  0.        ,\n",
              "         0.        ,  0.        ],\n",
              "       [-0.46991488, -0.26056809, -0.82213006, ...,  0.        ,\n",
              "         0.        ,  0.        ],\n",
              "       ...,\n",
              "       [-0.28536987,  0.39981649, -0.92929267, ...,  0.        ,\n",
              "         0.        ,  0.        ],\n",
              "       [-0.06622268,  0.20932094, -0.8302178 , ...,  0.        ,\n",
              "         0.        ,  0.        ],\n",
              "       [-0.58525551, -0.24151854, -0.82617393, ...,  0.        ,\n",
              "         0.        ,  0.        ]])"
            ]
          },
          "metadata": {
            "tags": []
          },
          "execution_count": 57
        }
      ]
    },
    {
      "cell_type": "code",
      "metadata": {
        "id": "njQaa0q197aP",
        "colab_type": "code",
        "colab": {}
      },
      "source": [
        "from sklearn import tree\n",
        "clf = tree.DecisionTreeClassifier()\n",
        "clf = clf.fit(X_train,y_train)"
      ],
      "execution_count": 0,
      "outputs": []
    },
    {
      "cell_type": "code",
      "metadata": {
        "id": "bMzhkkGl-5Zw",
        "colab_type": "code",
        "colab": {
          "base_uri": "https://localhost:8080/",
          "height": 34
        },
        "outputId": "430f93df-b71b-4c63-bf2d-d17e4c30d842"
      },
      "source": [
        "clf.score(X_test,y_test)"
      ],
      "execution_count": 63,
      "outputs": [
        {
          "output_type": "execute_result",
          "data": {
            "text/plain": [
              "0.8732394366197183"
            ]
          },
          "metadata": {
            "tags": []
          },
          "execution_count": 63
        }
      ]
    },
    {
      "cell_type": "code",
      "metadata": {
        "id": "UnCdVAIk_HvZ",
        "colab_type": "code",
        "colab": {}
      },
      "source": [
        ""
      ],
      "execution_count": 0,
      "outputs": []
    },
    {
      "cell_type": "code",
      "metadata": {
        "id": "USkJ7bSzhExZ",
        "colab_type": "code",
        "colab": {}
      },
      "source": [
        ""
      ],
      "execution_count": 0,
      "outputs": []
    },
    {
      "cell_type": "code",
      "metadata": {
        "id": "s67NF2EZhH4Q",
        "colab_type": "code",
        "colab": {}
      },
      "source": [
        ""
      ],
      "execution_count": 0,
      "outputs": []
    }
  ]
}