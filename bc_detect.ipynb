{
  "nbformat": 4,
  "nbformat_minor": 0,
  "metadata": {
    "colab": {
      "name": "bc_detect.ipynb",
      "provenance": [],
      "authorship_tag": "ABX9TyNyH8YA9KRfp9erm2r/NS4X",
      "include_colab_link": true
    },
    "kernelspec": {
      "name": "python3",
      "display_name": "Python 3"
    }
  },
  "cells": [
    {
      "cell_type": "markdown",
      "metadata": {
        "id": "view-in-github",
        "colab_type": "text"
      },
      "source": [
        "<a href=\"https://colab.research.google.com/github/mashdas/Deep_Learning_101/blob/master/bc_detect.ipynb\" target=\"_parent\"><img src=\"https://colab.research.google.com/assets/colab-badge.svg\" alt=\"Open In Colab\"/></a>"
      ]
    },
    {
      "cell_type": "code",
      "metadata": {
        "id": "gJqmVd985NnV",
        "colab_type": "code",
        "colab": {}
      },
      "source": [
        "import pandas as pd\n",
        "import numpy as np\n",
        "import matplotlib.pyplot as plt\n",
        "from sklearn.metrics import roc_curve,auc"
      ],
      "execution_count": 0,
      "outputs": []
    },
    {
      "cell_type": "code",
      "metadata": {
        "id": "4DZHVOc25cfu",
        "colab_type": "code",
        "colab": {}
      },
      "source": [
        "df=pd.read_csv(\"data.csv\")"
      ],
      "execution_count": 0,
      "outputs": []
    },
    {
      "cell_type": "code",
      "metadata": {
        "id": "s3b8jGCQ5hyx",
        "colab_type": "code",
        "colab": {}
      },
      "source": [
        "X=df.iloc[:,2:-1].values\n",
        "y=df.iloc[:,1]"
      ],
      "execution_count": 0,
      "outputs": []
    },
    {
      "cell_type": "code",
      "metadata": {
        "id": "bI4cCdxA5jIL",
        "colab_type": "code",
        "colab": {
          "base_uri": "https://localhost:8080/",
          "height": 228
        },
        "outputId": "5c0d4faa-5494-486c-c034-a14cd97d5d3b"
      },
      "source": [
        "X"
      ],
      "execution_count": 77,
      "outputs": [
        {
          "output_type": "execute_result",
          "data": {
            "text/plain": [
              "array([[1.799e+01, 1.038e+01, 1.228e+02, ..., 2.654e-01, 4.601e-01,\n",
              "        1.189e-01],\n",
              "       [2.057e+01, 1.777e+01, 1.329e+02, ..., 1.860e-01, 2.750e-01,\n",
              "        8.902e-02],\n",
              "       [1.969e+01, 2.125e+01, 1.300e+02, ..., 2.430e-01, 3.613e-01,\n",
              "        8.758e-02],\n",
              "       ...,\n",
              "       [1.660e+01, 2.808e+01, 1.083e+02, ..., 1.418e-01, 2.218e-01,\n",
              "        7.820e-02],\n",
              "       [2.060e+01, 2.933e+01, 1.401e+02, ..., 2.650e-01, 4.087e-01,\n",
              "        1.240e-01],\n",
              "       [7.760e+00, 2.454e+01, 4.792e+01, ..., 0.000e+00, 2.871e-01,\n",
              "        7.039e-02]])"
            ]
          },
          "metadata": {
            "tags": []
          },
          "execution_count": 77
        }
      ]
    },
    {
      "cell_type": "code",
      "metadata": {
        "id": "bPU7JCXq5unB",
        "colab_type": "code",
        "colab": {
          "base_uri": "https://localhost:8080/",
          "height": 440
        },
        "outputId": "2e67916b-cdee-4727-e418-4ee5e0d6d09b"
      },
      "source": [
        "y=df[\"diagnosis\"].map({'M':0,\"B\":1})\n",
        "y=y.values\n",
        "y"
      ],
      "execution_count": 78,
      "outputs": [
        {
          "output_type": "execute_result",
          "data": {
            "text/plain": [
              "array([0, 0, 0, 0, 0, 0, 0, 0, 0, 0, 0, 0, 0, 0, 0, 0, 0, 0, 0, 1, 1, 1,\n",
              "       0, 0, 0, 0, 0, 0, 0, 0, 0, 0, 0, 0, 0, 0, 0, 1, 0, 0, 0, 0, 0, 0,\n",
              "       0, 0, 1, 0, 1, 1, 1, 1, 1, 0, 0, 1, 0, 0, 1, 1, 1, 1, 0, 1, 0, 0,\n",
              "       1, 1, 1, 1, 0, 1, 0, 0, 1, 0, 1, 0, 0, 1, 1, 1, 0, 0, 1, 0, 0, 0,\n",
              "       1, 1, 1, 0, 1, 1, 0, 0, 1, 1, 1, 0, 0, 1, 1, 1, 1, 0, 1, 1, 0, 1,\n",
              "       1, 1, 1, 1, 1, 1, 1, 0, 0, 0, 1, 0, 0, 1, 1, 1, 0, 0, 1, 0, 1, 0,\n",
              "       0, 1, 0, 0, 1, 1, 0, 1, 1, 0, 1, 1, 1, 1, 0, 1, 1, 1, 1, 1, 1, 1,\n",
              "       1, 1, 0, 1, 1, 1, 1, 0, 0, 1, 0, 1, 1, 0, 0, 1, 1, 0, 0, 1, 1, 1,\n",
              "       1, 0, 1, 1, 0, 0, 0, 1, 0, 1, 0, 1, 1, 1, 0, 1, 1, 0, 0, 1, 0, 0,\n",
              "       0, 0, 1, 0, 0, 0, 1, 0, 1, 0, 1, 1, 0, 1, 0, 0, 0, 0, 1, 1, 0, 0,\n",
              "       1, 1, 1, 0, 1, 1, 1, 1, 1, 0, 0, 1, 1, 0, 1, 1, 0, 0, 1, 0, 1, 1,\n",
              "       1, 1, 0, 1, 1, 1, 1, 1, 0, 1, 0, 0, 0, 0, 0, 0, 0, 0, 0, 0, 0, 0,\n",
              "       0, 0, 1, 1, 1, 1, 1, 1, 0, 1, 0, 1, 1, 0, 1, 1, 0, 1, 0, 0, 1, 1,\n",
              "       1, 1, 1, 1, 1, 1, 1, 1, 1, 1, 1, 0, 1, 1, 0, 1, 0, 1, 1, 1, 1, 1,\n",
              "       1, 1, 1, 1, 1, 1, 1, 1, 1, 0, 1, 1, 1, 0, 1, 0, 1, 1, 1, 1, 0, 0,\n",
              "       0, 1, 1, 1, 1, 0, 1, 0, 1, 0, 1, 1, 1, 0, 1, 1, 1, 1, 1, 1, 1, 0,\n",
              "       0, 0, 1, 1, 1, 1, 1, 1, 1, 1, 1, 1, 1, 0, 0, 1, 0, 0, 0, 1, 0, 0,\n",
              "       1, 1, 1, 1, 1, 0, 1, 1, 1, 1, 1, 0, 1, 1, 1, 0, 1, 1, 0, 0, 1, 1,\n",
              "       1, 1, 1, 1, 0, 1, 1, 1, 1, 1, 1, 1, 0, 1, 1, 1, 1, 1, 0, 1, 1, 0,\n",
              "       1, 1, 1, 1, 1, 1, 1, 1, 1, 1, 1, 1, 0, 1, 0, 0, 1, 0, 1, 1, 1, 1,\n",
              "       1, 0, 1, 1, 0, 1, 0, 1, 1, 0, 1, 0, 1, 1, 1, 1, 1, 1, 1, 1, 0, 0,\n",
              "       1, 1, 1, 1, 1, 1, 0, 1, 1, 1, 1, 1, 1, 1, 1, 1, 1, 0, 1, 1, 1, 1,\n",
              "       1, 1, 1, 0, 1, 0, 1, 1, 0, 1, 1, 1, 1, 1, 0, 0, 1, 0, 1, 0, 1, 1,\n",
              "       1, 1, 1, 0, 1, 1, 0, 1, 0, 1, 0, 0, 1, 1, 1, 0, 1, 1, 1, 1, 1, 1,\n",
              "       1, 1, 1, 1, 1, 0, 1, 0, 0, 1, 1, 1, 1, 1, 1, 1, 1, 1, 1, 1, 1, 1,\n",
              "       1, 1, 1, 1, 1, 1, 1, 1, 1, 1, 1, 1, 0, 0, 0, 0, 0, 0, 1])"
            ]
          },
          "metadata": {
            "tags": []
          },
          "execution_count": 78
        }
      ]
    },
    {
      "cell_type": "code",
      "metadata": {
        "id": "kQFLbz2F_0TJ",
        "colab_type": "code",
        "colab": {},
        "cellView": "code"
      },
      "source": [
        "\n",
        "# X_columns=df.columns.drop(['diagnosis','id',\"Unnamed: 32\"])"
      ],
      "execution_count": 0,
      "outputs": []
    },
    {
      "cell_type": "code",
      "metadata": {
        "id": "_rMAY4msGrlP",
        "colab_type": "code",
        "colab": {}
      },
      "source": [
        "# from scipy.stats import zcore\n",
        "\n",
        "# for x in X_columns:\n",
        "#   df[x]=zscore(df[x])\n",
        "# X=df[X_columns].values  "
      ],
      "execution_count": 0,
      "outputs": []
    },
    {
      "cell_type": "code",
      "metadata": {
        "id": "165B1NDIHDGo",
        "colab_type": "code",
        "colab": {
          "base_uri": "https://localhost:8080/",
          "height": 228
        },
        "outputId": "44cb676b-a2ec-41ef-927b-acbcfdf1e5de"
      },
      "source": [
        "X"
      ],
      "execution_count": 79,
      "outputs": [
        {
          "output_type": "execute_result",
          "data": {
            "text/plain": [
              "array([[1.799e+01, 1.038e+01, 1.228e+02, ..., 2.654e-01, 4.601e-01,\n",
              "        1.189e-01],\n",
              "       [2.057e+01, 1.777e+01, 1.329e+02, ..., 1.860e-01, 2.750e-01,\n",
              "        8.902e-02],\n",
              "       [1.969e+01, 2.125e+01, 1.300e+02, ..., 2.430e-01, 3.613e-01,\n",
              "        8.758e-02],\n",
              "       ...,\n",
              "       [1.660e+01, 2.808e+01, 1.083e+02, ..., 1.418e-01, 2.218e-01,\n",
              "        7.820e-02],\n",
              "       [2.060e+01, 2.933e+01, 1.401e+02, ..., 2.650e-01, 4.087e-01,\n",
              "        1.240e-01],\n",
              "       [7.760e+00, 2.454e+01, 4.792e+01, ..., 0.000e+00, 2.871e-01,\n",
              "        7.039e-02]])"
            ]
          },
          "metadata": {
            "tags": []
          },
          "execution_count": 79
        }
      ]
    },
    {
      "cell_type": "code",
      "metadata": {
        "id": "Fx8nzl1u_4zJ",
        "colab_type": "code",
        "colab": {}
      },
      "source": [
        "from sklearn.model_selection import train_test_split\n",
        "\n",
        "X_train,X_test,y_train,y_test=train_test_split(X,y,random_state=0,test_size=0.2)\n"
      ],
      "execution_count": 0,
      "outputs": []
    },
    {
      "cell_type": "code",
      "metadata": {
        "id": "-LJ2Dds5A_G4",
        "colab_type": "code",
        "colab": {}
      },
      "source": [
        "from sklearn.preprocessing import StandardScaler\n",
        "\n",
        "sc=StandardScaler()\n",
        "X_train=sc.fit_transform(X_train)\n",
        "X_test=sc.transform(X_test)"
      ],
      "execution_count": 0,
      "outputs": []
    },
    {
      "cell_type": "code",
      "metadata": {
        "id": "JZG_MJagBJR2",
        "colab_type": "code",
        "colab": {
          "base_uri": "https://localhost:8080/",
          "height": 228
        },
        "outputId": "c130c1b5-ac8a-499b-ee41-3e900bb69a68"
      },
      "source": [
        "\n",
        "##Building ze model\n",
        "X_test"
      ],
      "execution_count": 82,
      "outputs": [
        {
          "output_type": "execute_result",
          "data": {
            "text/plain": [
              "array([[-0.20175604,  0.3290786 , -0.13086754, ...,  1.3893291 ,\n",
              "         1.08203284,  1.54029664],\n",
              "       [-0.25555773,  1.46763319, -0.31780437, ..., -0.83369364,\n",
              "        -0.73131577, -0.87732522],\n",
              "       [-0.02619262, -0.8407682 , -0.09175081, ..., -0.49483785,\n",
              "        -1.22080864, -0.92115937],\n",
              "       ...,\n",
              "       [ 1.71811488,  0.09318356,  1.7286186 , ...,  1.57630515,\n",
              "         0.20317063, -0.15406178],\n",
              "       [ 1.18859296,  0.34352115,  1.19333694, ...,  0.56019755,\n",
              "         0.26991966, -0.27320074],\n",
              "       [ 0.26263752, -0.58080224,  0.28459338, ..., -0.19383705,\n",
              "        -1.15564888,  0.11231497]])"
            ]
          },
          "metadata": {
            "tags": []
          },
          "execution_count": 82
        }
      ]
    },
    {
      "cell_type": "code",
      "metadata": {
        "id": "LsBii7B0BL8l",
        "colab_type": "code",
        "colab": {
          "base_uri": "https://localhost:8080/",
          "height": 1000
        },
        "outputId": "cee8a685-4165-4918-dc4d-e7a3fd8bd7b3"
      },
      "source": [
        "import tensorflow.keras\n",
        "from tensorflow.keras.models  import Sequential\n",
        "from tensorflow.keras.layers import Dense,Activation,BatchNormalization,Dropout\n",
        "from tensorflow.keras.callbacks import EarlyStopping\n",
        "from tensorflow.keras.callbacks import ModelCheckpoint\n",
        "\n",
        "\n",
        "model=Sequential()\n",
        "model.add(Dense(100,input_dim=X_train.shape[1],activation=\"relu\",kernel_initializer='random_normal'))\n",
        "model.add(BatchNormalization())\n",
        "model.add(Dropout(0.2))\n",
        "model.add(Dense(50,activation=\"relu\",kernel_initializer=\"random_normal\"))\n",
        "model.add(BatchNormalization())\n",
        "model.add(Dropout(0.3))\n",
        "model.add(Dense(25,activation=\"relu\",kernel_initializer=\"random_normal\"))\n",
        "model.add(BatchNormalization())\n",
        "model.add(Dropout(0.3))\n",
        "model.add(Dense(1,activation=\"linear\",kernel_initializer=\"random_normal\"))\n",
        "model.compile(loss=\"binary_crossentropy\",optimizer=\"adam\",metrics=[\"accuracy\"])\n",
        "\n",
        "monitor=EarlyStopping(monitor=\"val_loss\",min_delta=1e-3,patience=5,verbose=1,mode='auto', restore_best_weights=True)\n",
        "##checkpointer=ModelCheckpoint(filepath=\"best_weights.hdf5\",verbose=0,save_best_weights=True)\n",
        "\n",
        "history=model.fit(X_train,y_train,validation_data=(X_test,y_test),\n",
        "          callbacks=[monitor],verbose=2,epochs=50)"
      ],
      "execution_count": 104,
      "outputs": [
        {
          "output_type": "stream",
          "text": [
            "Epoch 1/50\n",
            "15/15 - 0s - loss: 3.6234 - accuracy: 0.5055 - val_loss: 1.9490 - val_accuracy: 0.4123\n",
            "Epoch 2/50\n",
            "15/15 - 0s - loss: 1.6476 - accuracy: 0.6681 - val_loss: 1.5184 - val_accuracy: 0.4123\n",
            "Epoch 3/50\n",
            "15/15 - 0s - loss: 1.1330 - accuracy: 0.7538 - val_loss: 1.2648 - val_accuracy: 0.4123\n",
            "Epoch 4/50\n",
            "15/15 - 0s - loss: 0.8574 - accuracy: 0.8198 - val_loss: 1.0653 - val_accuracy: 0.4123\n",
            "Epoch 5/50\n",
            "15/15 - 0s - loss: 0.6029 - accuracy: 0.8505 - val_loss: 0.9035 - val_accuracy: 0.4123\n",
            "Epoch 6/50\n",
            "15/15 - 0s - loss: 0.4252 - accuracy: 0.8857 - val_loss: 0.7654 - val_accuracy: 0.4123\n",
            "Epoch 7/50\n",
            "15/15 - 0s - loss: 0.3067 - accuracy: 0.9011 - val_loss: 0.6534 - val_accuracy: 0.4123\n",
            "Epoch 8/50\n",
            "15/15 - 0s - loss: 0.2781 - accuracy: 0.9297 - val_loss: 0.5492 - val_accuracy: 0.4123\n",
            "Epoch 9/50\n",
            "15/15 - 0s - loss: 0.2771 - accuracy: 0.9231 - val_loss: 0.4647 - val_accuracy: 0.7807\n",
            "Epoch 10/50\n",
            "15/15 - 0s - loss: 0.2739 - accuracy: 0.9297 - val_loss: 0.3971 - val_accuracy: 0.9298\n",
            "Epoch 11/50\n",
            "15/15 - 0s - loss: 0.2030 - accuracy: 0.9516 - val_loss: 0.3263 - val_accuracy: 0.9561\n",
            "Epoch 12/50\n",
            "15/15 - 0s - loss: 0.3674 - accuracy: 0.9341 - val_loss: 0.2749 - val_accuracy: 0.9737\n",
            "Epoch 13/50\n",
            "15/15 - 0s - loss: 0.4402 - accuracy: 0.9451 - val_loss: 0.2294 - val_accuracy: 0.9737\n",
            "Epoch 14/50\n",
            "15/15 - 0s - loss: 0.2754 - accuracy: 0.9429 - val_loss: 0.1806 - val_accuracy: 0.9737\n",
            "Epoch 15/50\n",
            "15/15 - 0s - loss: 0.2306 - accuracy: 0.9560 - val_loss: 0.1540 - val_accuracy: 0.9474\n",
            "Epoch 16/50\n",
            "15/15 - 0s - loss: 0.1982 - accuracy: 0.9714 - val_loss: 0.1136 - val_accuracy: 0.9825\n",
            "Epoch 17/50\n",
            "15/15 - 0s - loss: 0.6937 - accuracy: 0.9451 - val_loss: 0.0989 - val_accuracy: 0.9649\n",
            "Epoch 18/50\n",
            "15/15 - 0s - loss: 0.2874 - accuracy: 0.9385 - val_loss: 0.0740 - val_accuracy: 0.9737\n",
            "Epoch 19/50\n",
            "15/15 - 0s - loss: 0.3850 - accuracy: 0.9407 - val_loss: 0.0851 - val_accuracy: 0.9649\n",
            "Epoch 20/50\n",
            "15/15 - 0s - loss: 0.2438 - accuracy: 0.9582 - val_loss: 0.0818 - val_accuracy: 0.9649\n",
            "Epoch 21/50\n",
            "15/15 - 0s - loss: 0.3449 - accuracy: 0.9407 - val_loss: 0.0676 - val_accuracy: 0.9825\n",
            "Epoch 22/50\n",
            "15/15 - 0s - loss: 0.1809 - accuracy: 0.9582 - val_loss: 0.0589 - val_accuracy: 0.9825\n",
            "Epoch 23/50\n",
            "15/15 - 0s - loss: 0.2173 - accuracy: 0.9538 - val_loss: 0.0567 - val_accuracy: 0.9825\n",
            "Epoch 24/50\n",
            "15/15 - 0s - loss: 0.2846 - accuracy: 0.9582 - val_loss: 0.0646 - val_accuracy: 0.9649\n",
            "Epoch 25/50\n",
            "15/15 - 0s - loss: 0.3928 - accuracy: 0.9495 - val_loss: 0.0565 - val_accuracy: 0.9825\n",
            "Epoch 26/50\n",
            "15/15 - 0s - loss: 0.2756 - accuracy: 0.9297 - val_loss: 0.0497 - val_accuracy: 0.9825\n",
            "Epoch 27/50\n",
            "15/15 - 0s - loss: 0.1067 - accuracy: 0.9714 - val_loss: 0.0496 - val_accuracy: 0.9825\n",
            "Epoch 28/50\n",
            "15/15 - 0s - loss: 0.3766 - accuracy: 0.9538 - val_loss: 0.0510 - val_accuracy: 0.9825\n",
            "Epoch 29/50\n",
            "15/15 - 0s - loss: 0.1482 - accuracy: 0.9670 - val_loss: 0.0502 - val_accuracy: 0.9825\n",
            "Epoch 30/50\n",
            "15/15 - 0s - loss: 0.1837 - accuracy: 0.9516 - val_loss: 0.0516 - val_accuracy: 0.9825\n",
            "Epoch 31/50\n",
            "15/15 - 0s - loss: 0.3570 - accuracy: 0.9560 - val_loss: 0.0349 - val_accuracy: 0.9912\n",
            "Epoch 32/50\n",
            "15/15 - 0s - loss: 0.3111 - accuracy: 0.9407 - val_loss: 0.0361 - val_accuracy: 0.9912\n",
            "Epoch 33/50\n",
            "15/15 - 0s - loss: 0.1141 - accuracy: 0.9560 - val_loss: 0.0311 - val_accuracy: 1.0000\n",
            "Epoch 34/50\n",
            "15/15 - 0s - loss: 0.1404 - accuracy: 0.9604 - val_loss: 0.0348 - val_accuracy: 0.9912\n",
            "Epoch 35/50\n",
            "15/15 - 0s - loss: 0.2171 - accuracy: 0.9670 - val_loss: 0.0453 - val_accuracy: 0.9912\n",
            "Epoch 36/50\n",
            "15/15 - 0s - loss: 0.1596 - accuracy: 0.9648 - val_loss: 0.0363 - val_accuracy: 0.9912\n",
            "Epoch 37/50\n",
            "15/15 - 0s - loss: 0.2134 - accuracy: 0.9626 - val_loss: 0.0277 - val_accuracy: 0.9912\n",
            "Epoch 38/50\n",
            "15/15 - 0s - loss: 0.3140 - accuracy: 0.9516 - val_loss: 0.0219 - val_accuracy: 1.0000\n",
            "Epoch 39/50\n",
            "15/15 - 0s - loss: 0.3005 - accuracy: 0.9648 - val_loss: 0.0321 - val_accuracy: 0.9912\n",
            "Epoch 40/50\n",
            "15/15 - 0s - loss: 0.1878 - accuracy: 0.9648 - val_loss: 0.0389 - val_accuracy: 0.9737\n",
            "Epoch 41/50\n",
            "15/15 - 0s - loss: 0.1362 - accuracy: 0.9714 - val_loss: 0.0406 - val_accuracy: 0.9825\n",
            "Epoch 42/50\n",
            "15/15 - 0s - loss: 0.1852 - accuracy: 0.9648 - val_loss: 0.0851 - val_accuracy: 0.9649\n",
            "Epoch 43/50\n",
            "Restoring model weights from the end of the best epoch.\n",
            "15/15 - 0s - loss: 0.2128 - accuracy: 0.9714 - val_loss: 0.0678 - val_accuracy: 0.9825\n",
            "Epoch 00043: early stopping\n"
          ],
          "name": "stdout"
        }
      ]
    },
    {
      "cell_type": "code",
      "metadata": {
        "id": "rIFKeY1WEQ0Y",
        "colab_type": "code",
        "colab": {}
      },
      "source": [
        "\n",
        "def plot_lc(history,epochs):\n",
        "  ##Accuracy\n",
        "  epoch_range=range(1,epochs+1)\n",
        "  plt.plot(epoch_range,history.history['accuracy'])\n",
        "  plt.plot(epoch_range,history.history['val_accuracy'])\n",
        "  plt.title(\"Model_accuracy\")\n",
        "  plt.ylabel(\"Accuracy\")\n",
        "  plt.xlabel(\"Epoch\")\n",
        "  plt.show()\n",
        "\n",
        "\n",
        "   ##Loss\n",
        "  epoch_range=range(1,epochs+1)\n",
        "  plt.plot(epoch_range,history.history['loss'])\n",
        "  plt.plot(epoch_range,history.history['val_loss'])\n",
        "  plt.title(\"Model_loss\")\n",
        "  plt.ylabel(\"Loss\")\n",
        "  plt.xlabel(\"Epoch\")\n",
        "\n",
        "  plt.legend([\"Train\",\"Val\"],loc=\"upper left\")\n",
        "  plt.show()"
      ],
      "execution_count": 0,
      "outputs": []
    },
    {
      "cell_type": "code",
      "metadata": {
        "id": "oxw-YeOkFIJ3",
        "colab_type": "code",
        "colab": {
          "base_uri": "https://localhost:8080/",
          "height": 572
        },
        "outputId": "0471082f-306c-4725-867c-e2ee46d61035"
      },
      "source": [
        "plot_lc(history,43)"
      ],
      "execution_count": 106,
      "outputs": [
        {
          "output_type": "display_data",
          "data": {
            "image/png": "[encoded data removed]",
            "text/plain": [
              "<Figure size 432x288 with 1 Axes>"
            ]
          },
          "metadata": {
            "tags": [],
            "needs_background": "light"
          }
        },
        {
          "output_type": "display_data",
          "data": {
            "image/png": "[encoded data removed]",
            "text/plain": [
              "<Figure size 432x288 with 1 Axes>"
            ]
          },
          "metadata": {
            "tags": [],
            "needs_background": "light"
          }
        }
      ]
    },
    {
      "cell_type": "code",
      "metadata": {
        "id": "ttZnMWkTFPC6",
        "colab_type": "code",
        "colab": {}
      },
      "source": [
        ""
      ],
      "execution_count": 0,
      "outputs": []
    }
  ]
}