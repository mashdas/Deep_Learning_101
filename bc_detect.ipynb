{
  "nbformat": 4,
  "nbformat_minor": 0,
  "metadata": {
    "colab": {
      "name": "bc_detect.ipynb",
      "provenance": [],
      "authorship_tag": "ABX9TyOARhiuADmm7pSOludgy/La",
      "include_colab_link": true
    },
    "kernelspec": {
      "name": "python3",
      "display_name": "Python 3"
    }
  },
  "cells": [
    {
      "cell_type": "markdown",
      "metadata": {
        "id": "view-in-github",
        "colab_type": "text"
      },
      "source": [
        "<a href=\"https://colab.research.google.com/github/mashdas/Deep_Learning_101/blob/master/bc_detect.ipynb\" target=\"_parent\"><img src=\"https://colab.research.google.com/assets/colab-badge.svg\" alt=\"Open In Colab\"/></a>"
      ]
    },
    {
      "cell_type": "code",
      "metadata": {
        "id": "gJqmVd985NnV",
        "colab_type": "code",
        "colab": {}
      },
      "source": [
        "import pandas as pd\n",
        "import numpy as np\n",
        "import matplotlib.pyplot as plt\n",
        "from sklearn.metrics import roc_curve,auc"
      ],
      "execution_count": 0,
      "outputs": []
    },
    {
      "cell_type": "code",
      "metadata": {
        "id": "4DZHVOc25cfu",
        "colab_type": "code",
        "colab": {}
      },
      "source": [
        "df = pd.read_csv(\n",
        "    \"https://data.heatonresearch.com/data/t81-558/wcbreast_wdbc.csv\",\n",
        "    na_values=['NA','?'])\n"
      ],
      "execution_count": 0,
      "outputs": []
    },
    {
      "cell_type": "code",
      "metadata": {
        "id": "s3b8jGCQ5hyx",
        "colab_type": "code",
        "colab": {}
      },
      "source": [
        "# X=df.iloc[:,2:].values"
      ],
      "execution_count": 0,
      "outputs": []
    },
    {
      "cell_type": "code",
      "metadata": {
        "id": "bI4cCdxA5jIL",
        "colab_type": "code",
        "colab": {}
      },
      "source": [
        "x_columns = df.columns.drop('diagnosis').drop('id')\n",
        "for col in x_columns:\n",
        "    df[col] = zscore(df[col])\n",
        "\n",
        "# Convert to numpy - Regression\n",
        "X = df[x_columns].values"
      ],
      "execution_count": 0,
      "outputs": []
    },
    {
      "cell_type": "code",
      "metadata": {
        "id": "bPU7JCXq5unB",
        "colab_type": "code",
        "outputId": "eae88eca-d60a-49c9-9c77-4518de9fff94",
        "colab": {
          "base_uri": "https://localhost:8080/",
          "height": 440
        }
      },
      "source": [
        "y=df[\"diagnosis\"].map({'M':0,\"B\":1})\n",
        "y=y.values\n",
        "y"
      ],
      "execution_count": 0,
      "outputs": [
        {
          "output_type": "execute_result",
          "data": {
            "text/plain": [
              "array([0, 0, 0, 0, 0, 0, 0, 0, 0, 0, 0, 0, 0, 0, 0, 0, 0, 0, 0, 1, 1, 1,\n",
              "       0, 0, 0, 0, 0, 0, 0, 0, 0, 0, 0, 0, 0, 0, 0, 1, 0, 0, 0, 0, 0, 0,\n",
              "       0, 0, 1, 0, 1, 1, 1, 1, 1, 0, 0, 1, 0, 0, 1, 1, 1, 1, 0, 1, 0, 0,\n",
              "       1, 1, 1, 1, 0, 1, 0, 0, 1, 0, 1, 0, 0, 1, 1, 1, 0, 0, 1, 0, 0, 0,\n",
              "       1, 1, 1, 0, 1, 1, 0, 0, 1, 1, 1, 0, 0, 1, 1, 1, 1, 0, 1, 1, 0, 1,\n",
              "       1, 1, 1, 1, 1, 1, 1, 0, 0, 0, 1, 0, 0, 1, 1, 1, 0, 0, 1, 0, 1, 0,\n",
              "       0, 1, 0, 0, 1, 1, 0, 1, 1, 0, 1, 1, 1, 1, 0, 1, 1, 1, 1, 1, 1, 1,\n",
              "       1, 1, 0, 1, 1, 1, 1, 0, 0, 1, 0, 1, 1, 0, 0, 1, 1, 0, 0, 1, 1, 1,\n",
              "       1, 0, 1, 1, 0, 0, 0, 1, 0, 1, 0, 1, 1, 1, 0, 1, 1, 0, 0, 1, 0, 0,\n",
              "       0, 0, 1, 0, 0, 0, 1, 0, 1, 0, 1, 1, 0, 1, 0, 0, 0, 0, 1, 1, 0, 0,\n",
              "       1, 1, 1, 0, 1, 1, 1, 1, 1, 0, 0, 1, 1, 0, 1, 1, 0, 0, 1, 0, 1, 1,\n",
              "       1, 1, 0, 1, 1, 1, 1, 1, 0, 1, 0, 0, 0, 0, 0, 0, 0, 0, 0, 0, 0, 0,\n",
              "       0, 0, 1, 1, 1, 1, 1, 1, 0, 1, 0, 1, 1, 0, 1, 1, 0, 1, 0, 0, 1, 1,\n",
              "       1, 1, 1, 1, 1, 1, 1, 1, 1, 1, 1, 0, 1, 1, 0, 1, 0, 1, 1, 1, 1, 1,\n",
              "       1, 1, 1, 1, 1, 1, 1, 1, 1, 0, 1, 1, 1, 0, 1, 0, 1, 1, 1, 1, 0, 0,\n",
              "       0, 1, 1, 1, 1, 0, 1, 0, 1, 0, 1, 1, 1, 0, 1, 1, 1, 1, 1, 1, 1, 0,\n",
              "       0, 0, 1, 1, 1, 1, 1, 1, 1, 1, 1, 1, 1, 0, 0, 1, 0, 0, 0, 1, 0, 0,\n",
              "       1, 1, 1, 1, 1, 0, 1, 1, 1, 1, 1, 0, 1, 1, 1, 0, 1, 1, 0, 0, 1, 1,\n",
              "       1, 1, 1, 1, 0, 1, 1, 1, 1, 1, 1, 1, 0, 1, 1, 1, 1, 1, 0, 1, 1, 0,\n",
              "       1, 1, 1, 1, 1, 1, 1, 1, 1, 1, 1, 1, 0, 1, 0, 0, 1, 0, 1, 1, 1, 1,\n",
              "       1, 0, 1, 1, 0, 1, 0, 1, 1, 0, 1, 0, 1, 1, 1, 1, 1, 1, 1, 1, 0, 0,\n",
              "       1, 1, 1, 1, 1, 1, 0, 1, 1, 1, 1, 1, 1, 1, 1, 1, 1, 0, 1, 1, 1, 1,\n",
              "       1, 1, 1, 0, 1, 0, 1, 1, 0, 1, 1, 1, 1, 1, 0, 0, 1, 0, 1, 0, 1, 1,\n",
              "       1, 1, 1, 0, 1, 1, 0, 1, 0, 1, 0, 0, 1, 1, 1, 0, 1, 1, 1, 1, 1, 1,\n",
              "       1, 1, 1, 1, 1, 0, 1, 0, 0, 1, 1, 1, 1, 1, 1, 1, 1, 1, 1, 1, 1, 1,\n",
              "       1, 1, 1, 1, 1, 1, 1, 1, 1, 1, 1, 1, 0, 0, 0, 0, 0, 0, 1])"
            ]
          },
          "metadata": {
            "tags": []
          },
          "execution_count": 154
        }
      ]
    },
    {
      "cell_type": "code",
      "metadata": {
        "id": "kQFLbz2F_0TJ",
        "colab_type": "code",
        "cellView": "code",
        "colab": {}
      },
      "source": [
        "\n",
        "# X_columns=df.columns.drop(['diagnosis','id',\"Unnamed: 32\"])"
      ],
      "execution_count": 0,
      "outputs": []
    },
    {
      "cell_type": "code",
      "metadata": {
        "id": "_rMAY4msGrlP",
        "colab_type": "code",
        "colab": {}
      },
      "source": [
        "# from scipy.stats import zcore\n",
        "\n",
        "# for x in X_columns:\n",
        "#   df[x]=zscore(df[x])\n",
        "# X=df[X_columns].values  "
      ],
      "execution_count": 0,
      "outputs": []
    },
    {
      "cell_type": "code",
      "metadata": {
        "id": "165B1NDIHDGo",
        "colab_type": "code",
        "outputId": "4f423326-f544-4d82-89c9-16d048e71fae",
        "colab": {
          "base_uri": "https://localhost:8080/",
          "height": 228
        }
      },
      "source": [
        "X"
      ],
      "execution_count": 0,
      "outputs": [
        {
          "output_type": "execute_result",
          "data": {
            "text/plain": [
              "array([[ 1.09706398, -2.07333501,  1.26993369, ...,  2.29607613,\n",
              "         2.75062224,  1.93701461],\n",
              "       [ 1.82982061, -0.35363241,  1.68595471, ...,  1.0870843 ,\n",
              "        -0.24388967,  0.28118999],\n",
              "       [ 1.57988811,  0.45618695,  1.56650313, ...,  1.95500035,\n",
              "         1.152255  ,  0.20139121],\n",
              "       ...,\n",
              "       [ 0.70228425,  2.0455738 ,  0.67267578, ...,  0.41406869,\n",
              "        -1.10454895, -0.31840916],\n",
              "       [ 1.83834103,  2.33645719,  1.98252415, ...,  2.28998549,\n",
              "         1.91908301,  2.21963528],\n",
              "       [-1.80840125,  1.22179204, -1.81438851, ..., -1.74506282,\n",
              "        -0.04813821, -0.75120669]])"
            ]
          },
          "metadata": {
            "tags": []
          },
          "execution_count": 157
        }
      ]
    },
    {
      "cell_type": "code",
      "metadata": {
        "id": "Fx8nzl1u_4zJ",
        "colab_type": "code",
        "colab": {}
      },
      "source": [
        "from sklearn.model_selection import train_test_split\n",
        "\n",
        "X_train,X_test,y_train,y_test=train_test_split(X,y,random_state=42,test_size=0.25)\n"
      ],
      "execution_count": 0,
      "outputs": []
    },
    {
      "cell_type": "code",
      "metadata": {
        "id": "-LJ2Dds5A_G4",
        "colab_type": "code",
        "colab": {}
      },
      "source": [
        "# from sklearn.preprocessing import StandardScaler\n",
        "\n",
        "# sc=StandardScaler()\n",
        "# X_train=sc.fit_transform(X_train)\n",
        "# X_test=sc.transform(X_test)"
      ],
      "execution_count": 0,
      "outputs": []
    },
    {
      "cell_type": "code",
      "metadata": {
        "id": "JZG_MJagBJR2",
        "colab_type": "code",
        "outputId": "6dde59f8-faee-425d-dcb7-b57acbc0217b",
        "colab": {
          "base_uri": "https://localhost:8080/",
          "height": 228
        }
      },
      "source": [
        "\n",
        "##Building ze model\n",
        "X_test"
      ],
      "execution_count": 0,
      "outputs": [
        {
          "output_type": "execute_result",
          "data": {
            "text/plain": [
              "array([[-0.47069438, -0.16048584, -0.44810956, ..., -0.19956318,\n",
              "         0.18320441,  0.19695794],\n",
              "       [ 1.36687747,  0.47014935,  1.30288585, ...,  0.97897545,\n",
              "        -0.56582801, -1.00057787],\n",
              "       [ 0.37850807,  0.04429607,  0.40082046, ...,  0.56024403,\n",
              "        -0.10314275, -0.20813168],\n",
              "       ...,\n",
              "       [-0.87683468, -0.57237672, -0.8670139 , ..., -0.61357437,\n",
              "         0.15731992, -0.28460551],\n",
              "       [ 1.61396982,  0.66562299,  1.56650313, ...,  1.89104864,\n",
              "        -0.21476962, -0.43201158],\n",
              "       [-1.09836575, -1.64515466, -1.07996724, ..., -0.72548986,\n",
              "         0.05863531, -0.37271666]])"
            ]
          },
          "metadata": {
            "tags": []
          },
          "execution_count": 168
        }
      ]
    },
    {
      "cell_type": "code",
      "metadata": {
        "id": "LsBii7B0BL8l",
        "colab_type": "code",
        "outputId": "47006992-818a-4f70-b7ef-692d5bf7ea16",
        "colab": {
          "base_uri": "https://localhost:8080/",
          "height": 1000
        }
      },
      "source": [
        "import tensorflow.keras\n",
        "from tensorflow.keras.models  import Sequential\n",
        "from tensorflow.keras.layers import Dense,Activation,BatchNormalization,Dropout\n",
        "from tensorflow.keras.callbacks import EarlyStopping\n",
        "from tensorflow.keras.callbacks import ModelCheckpoint\n",
        "\n",
        "\n",
        "model=Sequential()\n",
        "model.add(Dense(100,input_dim=X_train.shape[1],activation=\"relu\",kernel_initializer='random_normal'))\n",
        "model.add(BatchNormalization())\n",
        "model.add(Dropout(0.2))\n",
        "model.add(Dense(50,activation=\"relu\",kernel_initializer=\"random_normal\"))\n",
        "model.add(BatchNormalization())\n",
        "model.add(Dropout(0.3))\n",
        "model.add(Dense(25,activation=\"relu\",kernel_initializer=\"random_normal\"))\n",
        "model.add(BatchNormalization())\n",
        "model.add(Dropout(0.3))\n",
        "model.add(Dense(1,activation=\"linear\",kernel_initializer=\"random_normal\"))\n",
        "model.compile(loss=\"binary_crossentropy\",optimizer=\"adam\",metrics=[\"accuracy\"])\n",
        "\n",
        "monitor=EarlyStopping(monitor=\"val_loss\",min_delta=1e-3,patience=5,verbose=1,mode='auto', restore_best_weights=True)\n",
        "##checkpointer=ModelCheckpoint(filepath=\"best_weights.hdf5\",verbose=0,save_best_weights=True)\n",
        "\n",
        "history=model.fit(X_train,y_train,validation_data=(X_test,y_test),\n",
        "          callbacks=[monitor],verbose=2,epochs=50)"
      ],
      "execution_count": 175,
      "outputs": [
        {
          "output_type": "stream",
          "text": [
            "Epoch 1/50\n",
            "14/14 - 0s - loss: 4.5081 - accuracy: 0.3826 - val_loss: 2.4361 - val_accuracy: 0.3776\n",
            "Epoch 2/50\n",
            "14/14 - 0s - loss: 2.7095 - accuracy: 0.4366 - val_loss: 1.9108 - val_accuracy: 0.3776\n",
            "Epoch 3/50\n",
            "14/14 - 0s - loss: 1.9242 - accuracy: 0.5117 - val_loss: 1.6069 - val_accuracy: 0.3776\n",
            "Epoch 4/50\n",
            "14/14 - 0s - loss: 1.0789 - accuracy: 0.5704 - val_loss: 1.4108 - val_accuracy: 0.3776\n",
            "Epoch 5/50\n",
            "14/14 - 0s - loss: 0.7575 - accuracy: 0.5798 - val_loss: 1.2056 - val_accuracy: 0.3776\n",
            "Epoch 6/50\n",
            "14/14 - 0s - loss: 0.6090 - accuracy: 0.6338 - val_loss: 1.0736 - val_accuracy: 0.3776\n",
            "Epoch 7/50\n",
            "14/14 - 0s - loss: 0.5625 - accuracy: 0.6901 - val_loss: 0.9619 - val_accuracy: 0.3776\n",
            "Epoch 8/50\n",
            "14/14 - 0s - loss: 0.4605 - accuracy: 0.7676 - val_loss: 0.8590 - val_accuracy: 0.3776\n",
            "Epoch 9/50\n",
            "14/14 - 0s - loss: 0.4471 - accuracy: 0.7629 - val_loss: 0.7699 - val_accuracy: 0.3776\n",
            "Epoch 10/50\n",
            "14/14 - 0s - loss: 0.7888 - accuracy: 0.7887 - val_loss: 0.6918 - val_accuracy: 0.3776\n",
            "Epoch 11/50\n",
            "14/14 - 0s - loss: 0.3921 - accuracy: 0.8592 - val_loss: 0.6187 - val_accuracy: 0.3776\n",
            "Epoch 12/50\n",
            "14/14 - 0s - loss: 0.3366 - accuracy: 0.8873 - val_loss: 0.5510 - val_accuracy: 0.3916\n",
            "Epoch 13/50\n",
            "14/14 - 0s - loss: 0.2833 - accuracy: 0.9178 - val_loss: 0.4888 - val_accuracy: 0.8322\n",
            "Epoch 14/50\n",
            "14/14 - 0s - loss: 0.3094 - accuracy: 0.9390 - val_loss: 0.4310 - val_accuracy: 0.9371\n",
            "Epoch 15/50\n",
            "14/14 - 0s - loss: 0.2484 - accuracy: 0.9390 - val_loss: 0.3771 - val_accuracy: 0.9580\n",
            "Epoch 16/50\n",
            "14/14 - 0s - loss: 0.2968 - accuracy: 0.9225 - val_loss: 0.3340 - val_accuracy: 0.9580\n",
            "Epoch 17/50\n",
            "14/14 - 0s - loss: 0.4106 - accuracy: 0.9319 - val_loss: 0.3113 - val_accuracy: 0.9650\n",
            "Epoch 18/50\n",
            "14/14 - 0s - loss: 0.2008 - accuracy: 0.9272 - val_loss: 0.2757 - val_accuracy: 0.9650\n",
            "Epoch 19/50\n",
            "14/14 - 0s - loss: 0.1911 - accuracy: 0.9531 - val_loss: 0.2388 - val_accuracy: 0.9650\n",
            "Epoch 20/50\n",
            "14/14 - 0s - loss: 0.2701 - accuracy: 0.9507 - val_loss: 0.2009 - val_accuracy: 0.9650\n",
            "Epoch 21/50\n",
            "14/14 - 0s - loss: 0.1967 - accuracy: 0.9601 - val_loss: 0.1717 - val_accuracy: 0.9650\n",
            "Epoch 22/50\n",
            "14/14 - 0s - loss: 0.6256 - accuracy: 0.9390 - val_loss: 0.1437 - val_accuracy: 0.9580\n",
            "Epoch 23/50\n",
            "14/14 - 0s - loss: 0.1066 - accuracy: 0.9695 - val_loss: 0.1215 - val_accuracy: 0.9650\n",
            "Epoch 24/50\n",
            "14/14 - 0s - loss: 0.2150 - accuracy: 0.9554 - val_loss: 0.0985 - val_accuracy: 0.9650\n",
            "Epoch 25/50\n",
            "14/14 - 0s - loss: 0.2480 - accuracy: 0.9484 - val_loss: 0.0860 - val_accuracy: 0.9650\n",
            "Epoch 26/50\n",
            "14/14 - 0s - loss: 0.2500 - accuracy: 0.9577 - val_loss: 0.1079 - val_accuracy: 0.9650\n",
            "Epoch 27/50\n",
            "14/14 - 0s - loss: 0.2373 - accuracy: 0.9484 - val_loss: 0.0910 - val_accuracy: 0.9720\n",
            "Epoch 28/50\n",
            "14/14 - 0s - loss: 0.2806 - accuracy: 0.9554 - val_loss: 0.0722 - val_accuracy: 0.9650\n",
            "Epoch 29/50\n",
            "14/14 - 0s - loss: 0.2093 - accuracy: 0.9484 - val_loss: 0.0653 - val_accuracy: 0.9720\n",
            "Epoch 30/50\n",
            "14/14 - 0s - loss: 0.1721 - accuracy: 0.9484 - val_loss: 0.0622 - val_accuracy: 0.9720\n",
            "Epoch 31/50\n",
            "14/14 - 0s - loss: 0.1793 - accuracy: 0.9671 - val_loss: 0.0617 - val_accuracy: 0.9720\n",
            "Epoch 32/50\n",
            "14/14 - 0s - loss: 0.1561 - accuracy: 0.9765 - val_loss: 0.0640 - val_accuracy: 0.9720\n",
            "Epoch 33/50\n",
            "14/14 - 0s - loss: 0.1935 - accuracy: 0.9624 - val_loss: 0.0609 - val_accuracy: 0.9790\n",
            "Epoch 34/50\n",
            "14/14 - 0s - loss: 0.0730 - accuracy: 0.9765 - val_loss: 0.0603 - val_accuracy: 0.9790\n",
            "Epoch 35/50\n",
            "14/14 - 0s - loss: 0.1746 - accuracy: 0.9695 - val_loss: 0.0611 - val_accuracy: 0.9790\n",
            "Epoch 36/50\n",
            "14/14 - 0s - loss: 0.0901 - accuracy: 0.9601 - val_loss: 0.0709 - val_accuracy: 0.9790\n",
            "Epoch 37/50\n",
            "14/14 - 0s - loss: 0.1171 - accuracy: 0.9836 - val_loss: 0.1307 - val_accuracy: 0.9790\n",
            "Epoch 38/50\n",
            "Restoring model weights from the end of the best epoch.\n",
            "14/14 - 0s - loss: 0.0673 - accuracy: 0.9789 - val_loss: 0.0800 - val_accuracy: 0.9720\n",
            "Epoch 00038: early stopping\n"
          ],
          "name": "stdout"
        }
      ]
    },
    {
      "cell_type": "code",
      "metadata": {
        "id": "rIFKeY1WEQ0Y",
        "colab_type": "code",
        "colab": {}
      },
      "source": [
        "\n",
        "def plot_lc(history,epochs):\n",
        "  ##Accuracy\n",
        "  epoch_range=range(1,epochs+1)\n",
        "  plt.plot(epoch_range,history.history['accuracy'])\n",
        "  plt.plot(epoch_range,history.history['val_accuracy'])\n",
        "  plt.title(\"Model_accuracy\")\n",
        "  plt.ylabel(\"Accuracy\")\n",
        "  plt.xlabel(\"Epoch\")\n",
        "  plt.show()\n",
        "\n",
        "\n",
        "   ##Loss\n",
        "  epoch_range=range(1,epochs+1)\n",
        "  plt.plot(epoch_range,history.history['loss'])\n",
        "  plt.plot(epoch_range,history.history['val_loss'])\n",
        "  plt.title(\"Model_loss\")\n",
        "  plt.ylabel(\"Loss\")\n",
        "  plt.xlabel(\"Epoch\")\n",
        "\n",
        "  plt.legend([\"Train\",\"Val\"],loc=\"upper left\")\n",
        "  plt.show()"
      ],
      "execution_count": 0,
      "outputs": []
    },
    {
      "cell_type": "code",
      "metadata": {
        "id": "oxw-YeOkFIJ3",
        "colab_type": "code",
        "outputId": "15083aa1-6ce4-444a-c5ae-820727a665d3",
        "colab": {
          "base_uri": "https://localhost:8080/",
          "height": 572
        }
      },
      "source": [
        "plot_lc(history,38)"
      ],
      "execution_count": 178,
      "outputs": [
        {
          "output_type": "display_data",
          "data": {
            "image/png": "[encoded data removed]",
            "text/plain": [
              "<Figure size 432x288 with 1 Axes>"
            ]
          },
          "metadata": {
            "tags": [],
            "needs_background": "light"
          }
        },
        {
          "output_type": "display_data",
          "data": {
            "image/png": "[encoded data removed]",
            "text/plain": [
              "<Figure size 432x288 with 1 Axes>"
            ]
          },
          "metadata": {
            "tags": [],
            "needs_background": "light"
          }
        }
      ]
    },
    {
      "cell_type": "code",
      "metadata": {
        "id": "ttZnMWkTFPC6",
        "colab_type": "code",
        "colab": {}
      },
      "source": [
        "def plot_roc(pred,y):\n",
        "    fpr, tpr, _ = roc_curve(y, pred)\n",
        "    roc_auc = auc(fpr, tpr)\n",
        "\n",
        "    plt.figure()\n",
        "    plt.plot(fpr, tpr, label='ROC curve (area = %0.2f)' % roc_auc)\n",
        "    plt.plot([0, 1], [0, 1], 'k--')\n",
        "    plt.xlim([0.0, 1.0])\n",
        "    plt.ylim([0.0, 1.05])\n",
        "    plt.xlabel('False Positive Rate')\n",
        "    plt.ylabel('True Positive Rate')\n",
        "    plt.title('Receiver Operating Characteristic (ROC)')\n",
        "    plt.legend(loc=\"lower right\")\n",
        "    plt.show()"
      ],
      "execution_count": 0,
      "outputs": []
    },
    {
      "cell_type": "code",
      "metadata": {
        "id": "EfbBtcdUOs4h",
        "colab_type": "code",
        "colab": {
          "base_uri": "https://localhost:8080/",
          "height": 295
        },
        "outputId": "899feb32-42e0-4d8d-cacb-390ac9110ef7"
      },
      "source": [
        "pred = model.predict(X_test)\n",
        "plot_roc(pred,y_test)"
      ],
      "execution_count": 179,
      "outputs": [
        {
          "output_type": "display_data",
          "data": {
            "image/png": "[encoded data removed]",
            "text/plain": [
              "<Figure size 432x288 with 1 Axes>"
            ]
          },
          "metadata": {
            "tags": [],
            "needs_background": "light"
          }
        }
      ]
    },
    {
      "cell_type": "code",
      "metadata": {
        "id": "u0fbpsIiTb2F",
        "colab_type": "code",
        "colab": {}
      },
      "source": [
        ""
      ],
      "execution_count": 0,
      "outputs": []
    }
  ]
}