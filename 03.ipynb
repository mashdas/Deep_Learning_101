{
  "nbformat": 4,
  "nbformat_minor": 0,
  "metadata": {
    "colab": {
      "name": "03.ipynb",
      "provenance": []
    },
    "kernelspec": {
      "name": "python3",
      "display_name": "Python 3"
    },
    "accelerator": "TPU"
  },
  "cells": [
    {
      "cell_type": "code",
      "metadata": {
        "id": "4aRMCBaH9UI9",
        "colab_type": "code",
        "colab": {}
      },
      "source": [
        "import tensorflow as tf\n",
        "from tensorflow.keras import Sequential\n",
        "from tensorflow .keras.layers import Flatten,Dense,Conv2D,MaxPool2D,Dropout"
      ],
      "execution_count": 0,
      "outputs": []
    },
    {
      "cell_type": "code",
      "metadata": {
        "id": "9CUtGxMmcMLg",
        "colab_type": "code",
        "colab": {}
      },
      "source": [
        "import numpy as np\n",
        "import matplotlib.pyplot as plt\n",
        "import matplotlib"
      ],
      "execution_count": 0,
      "outputs": []
    },
    {
      "cell_type": "code",
      "metadata": {
        "id": "NMl0yaHncmNC",
        "colab_type": "code",
        "colab": {}
      },
      "source": [
        "from tensorflow.keras.datasets import cifar10"
      ],
      "execution_count": 0,
      "outputs": []
    },
    {
      "cell_type": "code",
      "metadata": {
        "id": "w75AVVM6cwER",
        "colab_type": "code",
        "colab": {}
      },
      "source": [
        "(X_train,y_train),(X_test,y_test)=cifar10.load_data()"
      ],
      "execution_count": 0,
      "outputs": []
    },
    {
      "cell_type": "code",
      "metadata": {
        "id": "cSC0_MZTc4Kz",
        "colab_type": "code",
        "colab": {}
      },
      "source": [
        "class_names=['airplane','automobile','bird','cat','deer','dog','frog','horse','ship','truck']"
      ],
      "execution_count": 0,
      "outputs": []
    },
    {
      "cell_type": "code",
      "metadata": {
        "id": "sDVhl1jXdTax",
        "colab_type": "code",
        "colab": {}
      },
      "source": [
        "X_train,X_test=X_train/255,X_test/255\n"
      ],
      "execution_count": 0,
      "outputs": []
    },
    {
      "cell_type": "code",
      "metadata": {
        "id": "uw410V2wdWpO",
        "colab_type": "code",
        "colab": {}
      },
      "source": [
        "plt.imshow(X_test[0])"
      ],
      "execution_count": 0,
      "outputs": []
    },
    {
      "cell_type": "code",
      "metadata": {
        "id": "jS4uXq4wepBd",
        "colab_type": "code",
        "colab": {}
      },
      "source": [
        "##Building a CNN model\n",
        "\n",
        "model=Sequential()\n",
        "\n",
        "model.add(Conv2D(filters=32,kernel_size=(3,3),padding='same',activation='relu',input_shape=[32,32,3]))\n",
        "model.add(Conv2D(filters=32,kernel_size=(3,3),padding='same',activation='relu'))\n",
        "model.add(MaxPool2D(pool_size=(2,2),strides=2,padding='valid'))\n",
        "model.add(Dropout(0.5))\n",
        "model.add(Flatten())\n",
        "model.add(Dense(units=128,activation='relu'))\n",
        "model.add(Dense(units=10,activation='softmax'))\n",
        "model.summary()\n"
      ],
      "execution_count": 0,
      "outputs": []
    },
    {
      "cell_type": "code",
      "metadata": {
        "id": "8mhkheJCg06Q",
        "colab_type": "code",
        "colab": {}
      },
      "source": [
        "model.compile(optimizer='adam',loss='sparse_categorical_crossentropy',metrics=['sparse_categorical_accuracy'])"
      ],
      "execution_count": 0,
      "outputs": []
    },
    {
      "cell_type": "code",
      "metadata": {
        "id": "O6PBIlotmbqy",
        "colab_type": "code",
        "colab": {}
      },
      "source": [
        "history=model.fit(X_train,y_train,epochs=10,batch_size=10,verbose=1,validation_data=(X_test,y_test))"
      ],
      "execution_count": 0,
      "outputs": []
    },
    {
      "cell_type": "code",
      "metadata": {
        "id": "rU4F2fVImuYC",
        "colab_type": "code",
        "colab": {}
      },
      "source": [
        "#Plot training and validation accuracy values\n",
        "epoch_range=range(1,11)\n",
        "plt.plot(epoch_range,history.history['sparse_categorical_accuracy'])\n",
        "plt.plot(epoch_range,history.history['val_sparse_categorical_accuracy'])\n",
        "plt.title('Model accuracy')\n",
        "plt.ylabel('Accuracy')\n",
        "plt.xlabel('Epoch')\n",
        "plt.legend(['Train','Val'],loc='upper left')\n",
        "plt.show()"
      ],
      "execution_count": 0,
      "outputs": []
    },
    {
      "cell_type": "code",
      "metadata": {
        "id": "J_vTx-fdyRlW",
        "colab_type": "code",
        "colab": {}
      },
      "source": [
        "from mlxtend.plotting import plot_confusion_matrix\n",
        "from sklearn.metrics import confusion_matrix\n",
        "\n",
        "y_pred=model.predict_classes(X_test)"
      ],
      "execution_count": 0,
      "outputs": []
    },
    {
      "cell_type": "code",
      "metadata": {
        "id": "3qHngruxzjEo",
        "colab_type": "code",
        "colab": {}
      },
      "source": [
        "plot_confusion_matrix(mat,figsize=(12,12))"
      ],
      "execution_count": 0,
      "outputs": []
    },
    {
      "cell_type": "code",
      "metadata": {
        "id": "8AK2NEM-zLxm",
        "colab_type": "code",
        "colab": {}
      },
      "source": [
        "mat=confusion_matrix(y_test,y_pred)"
      ],
      "execution_count": 0,
      "outputs": []
    },
    {
      "cell_type": "code",
      "metadata": {
        "id": "TOEHKFdGzdN6",
        "colab_type": "code",
        "colab": {
          "base_uri": "https://localhost:8080/",
          "height": 180
        },
        "outputId": "dfe072c3-47b2-4a28-c998-8c4b3801bcac"
      },
      "source": [
        "mat"
      ],
      "execution_count": 39,
      "outputs": [
        {
          "output_type": "execute_result",
          "data": {
            "text/plain": [
              "array([[723,  15,  31,  29,  22,  11,  15,  17,  78,  59],\n",
              "       [ 16, 799,   1,  23,   2,   7,  15,   2,  22, 113],\n",
              "       [ 71,   4, 415,  80, 110, 153,  91,  51,  17,   8],\n",
              "       [ 18,  10,  30, 500,  55, 265,  70,  25,  12,  15],\n",
              "       [ 18,   2,  43, 100, 612,  63,  67,  84,   7,   4],\n",
              "       [ 14,   3,  19, 166,  32, 685,  27,  41,   5,   8],\n",
              "       [  6,   4,  24,  64,  33,  54, 798,   5,   5,   7],\n",
              "       [ 18,   0,   9,  53,  44,  85,  12, 761,   1,  17],\n",
              "       [ 51,  37,   8,  18,   3,  13,   6,   1, 814,  49],\n",
              "       [ 21,  76,   3,  28,   3,   9,  10,  20,  24, 806]])"
            ]
          },
          "metadata": {
            "tags": []
          },
          "execution_count": 39
        }
      ]
    },
    {
      "cell_type": "code",
      "metadata": {
        "id": "VvtQujBHzvut",
        "colab_type": "code",
        "colab": {}
      },
      "source": [
        ""
      ],
      "execution_count": 0,
      "outputs": []
    }
  ]
}