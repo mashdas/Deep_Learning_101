{
  "nbformat": 4,
  "nbformat_minor": 0,
  "metadata": {
    "colab": {
      "name": "digits_mnist.ipynb",
      "provenance": [],
      "authorship_tag": "ABX9TyNa7ixLAjuSaYCbgM5OGqho",
      "include_colab_link": true
    },
    "kernelspec": {
      "name": "python3",
      "display_name": "Python 3"
    },
    "accelerator": "TPU"
  },
  "cells": [
    {
      "cell_type": "markdown",
      "metadata": {
        "id": "view-in-github",
        "colab_type": "text"
      },
      "source": [
        "<a href=\"https://colab.research.google.com/github/mashdas/Deep_Learning_101/blob/master/digits_mnist.ipynb\" target=\"_parent\"><img src=\"https://colab.research.google.com/assets/colab-badge.svg\" alt=\"Open In Colab\"/></a>"
      ]
    },
    {
      "cell_type": "code",
      "metadata": {
        "id": "xm4vDUPi54Qb",
        "colab_type": "code",
        "colab": {}
      },
      "source": [
        "import numpy as np\n",
        "import pandas as pd\n",
        "import matplotlib.pyplot as plt\n",
        "import tensorflow as tf"
      ],
      "execution_count": 0,
      "outputs": []
    },
    {
      "cell_type": "code",
      "metadata": {
        "id": "XjUQf1217KXD",
        "colab_type": "code",
        "colab": {}
      },
      "source": [
        "from tensorflow.keras import Sequential\n",
        "from tensorflow.keras.layers import Conv2D,MaxPool2D,Dense,Flatten,Dropout"
      ],
      "execution_count": 0,
      "outputs": []
    },
    {
      "cell_type": "code",
      "metadata": {
        "id": "7o32_sPn7cTJ",
        "colab_type": "code",
        "colab": {}
      },
      "source": [
        "from tensorflow.keras.datasets import mnist\n",
        "\n",
        "(X_train,y_train),(X_test,y_test)=mnist.load_data()\n"
      ],
      "execution_count": 0,
      "outputs": []
    },
    {
      "cell_type": "code",
      "metadata": {
        "id": "pBCg3Jt372ms",
        "colab_type": "code",
        "colab": {}
      },
      "source": [
        "X_train,X_test=X_train/255.00,X_test/255.00"
      ],
      "execution_count": 0,
      "outputs": []
    },
    {
      "cell_type": "code",
      "metadata": {
        "id": "uMcd9Irz766X",
        "colab_type": "code",
        "colab": {}
      },
      "source": [
        "X_train=X_train.reshape(60000,28,28,1)\n",
        "X_test=X_test.reshape(10000,28,28,1)"
      ],
      "execution_count": 0,
      "outputs": []
    },
    {
      "cell_type": "code",
      "metadata": {
        "id": "nrUwypQF83kU",
        "colab_type": "code",
        "outputId": "719784a2-d53a-4ac2-a92e-9b45fb085103",
        "colab": {
          "base_uri": "https://localhost:8080/",
          "height": 362
        }
      },
      "source": [
        "input_shape=X_train[0].shape\n",
        "\n",
        "model=Sequential()\n",
        "model.add(Conv2D(filters=32,kernel_size=(3,3),activation='relu',input_shape=input_shape))\n",
        "model.add(Conv2D(filters=64,kernel_size=(3,3),activation='relu'))\n",
        "model.add(MaxPool2D(2,2))\n",
        "model.add(Dropout(0.25))\n",
        "\n",
        "model.add(Flatten())\n",
        "model.add(Dense(128,activation='relu'))\n",
        "model.add(Dropout(0.5))\n",
        "model.add(Dense(10,activation='softmax'))\n",
        "\n",
        "\n",
        "model.compile(loss='sparse_categorical_crossentropy',optimizer='adam',metrics=['accuracy'])\n",
        "\n",
        "history=model.fit(X_train,y_train,batch_siz=120,epochs=10,verbose=1,validation_data=(X_test,y_test))"
      ],
      "execution_count": 0,
      "outputs": [
        {
          "output_type": "stream",
          "text": [
            "Epoch 1/10\n",
            "1875/1875 [==============================] - 158s 84ms/step - loss: 0.1974 - accuracy: 0.9400 - val_loss: 0.0471 - val_accuracy: 0.9854\n",
            "Epoch 2/10\n",
            "1875/1875 [==============================] - 158s 84ms/step - loss: 0.0831 - accuracy: 0.9758 - val_loss: 0.0395 - val_accuracy: 0.9873\n",
            "Epoch 3/10\n",
            "1875/1875 [==============================] - 158s 84ms/step - loss: 0.0635 - accuracy: 0.9804 - val_loss: 0.0328 - val_accuracy: 0.9893\n",
            "Epoch 4/10\n",
            "1875/1875 [==============================] - 158s 84ms/step - loss: 0.0488 - accuracy: 0.9849 - val_loss: 0.0325 - val_accuracy: 0.9904\n",
            "Epoch 5/10\n",
            "1875/1875 [==============================] - 157s 84ms/step - loss: 0.0461 - accuracy: 0.9857 - val_loss: 0.0308 - val_accuracy: 0.9906\n",
            "Epoch 6/10\n",
            "1875/1875 [==============================] - 158s 84ms/step - loss: 0.0387 - accuracy: 0.9877 - val_loss: 0.0259 - val_accuracy: 0.9921\n",
            "Epoch 7/10\n",
            "1875/1875 [==============================] - 158s 84ms/step - loss: 0.0336 - accuracy: 0.9893 - val_loss: 0.0326 - val_accuracy: 0.9905\n",
            "Epoch 8/10\n",
            "1875/1875 [==============================] - 157s 84ms/step - loss: 0.0301 - accuracy: 0.9905 - val_loss: 0.0278 - val_accuracy: 0.9922\n",
            "Epoch 9/10\n",
            "1875/1875 [==============================] - 157s 84ms/step - loss: 0.0263 - accuracy: 0.9919 - val_loss: 0.0293 - val_accuracy: 0.9922\n",
            "Epoch 10/10\n",
            "1875/1875 [==============================] - 156s 83ms/step - loss: 0.0252 - accuracy: 0.9920 - val_loss: 0.0300 - val_accuracy: 0.9920\n"
          ],
          "name": "stdout"
        }
      ]
    },
    {
      "cell_type": "code",
      "metadata": {
        "id": "L9DqjBbVFcXx",
        "colab_type": "code",
        "colab": {}
      },
      "source": [
        "def plot_lc(history,epochs):\n",
        "  ##Accuracy\n",
        "  epoch_range=range(1,epochs+1)\n",
        "  plt.plot(epoch_range,history.history['accuracy'])\n",
        "  plt.plot(epoch_range,history.history['val_accuracy'])\n",
        "  plt.title(\"Model_accuracy\")\n",
        "  plt.ylabel(\"Accuracy\")\n",
        "  plt.xlabel(\"Epoch\")\n",
        "\n",
        "\n",
        "   ##Loss\n",
        "  epoch_range=range(1,epochs+1)\n",
        "  plt.plot(epoch_range,history.history['loss'])\n",
        "  plt.plot(epoch_range,history.history['val_loss'])\n",
        "  plt.title(\"Model_loss\")\n",
        "  plt.ylabel(\"Loss\")\n",
        "  plt.xlabel(\"Epoch\")\n",
        "\n",
        "  plt.legend([\"Train\",\"Val\"],loc=\"upper left\")\n",
        "  plt.show()"
      ],
      "execution_count": 0,
      "outputs": []
    },
    {
      "cell_type": "code",
      "metadata": {
        "id": "sGauUbviH65o",
        "colab_type": "code",
        "colab": {}
      },
      "source": [
        ""
      ],
      "execution_count": 0,
      "outputs": []
    }
  ]
}