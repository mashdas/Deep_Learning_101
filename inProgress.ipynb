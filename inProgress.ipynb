{
  "nbformat": 4,
  "nbformat_minor": 0,
  "metadata": {
    "colab": {
      "name": "inProgress.ipynb",
      "provenance": [],
      "collapsed_sections": [],
      "authorship_tag": "ABX9TyN4QcopATwWfJUt9E7opD/X",
      "include_colab_link": true
    },
    "kernelspec": {
      "name": "python3",
      "display_name": "Python 3"
    }
  },
  "cells": [
    {
      "cell_type": "markdown",
      "metadata": {
        "id": "view-in-github",
        "colab_type": "text"
      },
      "source": [
        "<a href=\"https://colab.research.google.com/github/mashdas/Deep_Learning_101/blob/master/inProgress.ipynb\" target=\"_parent\"><img src=\"https://colab.research.google.com/assets/colab-badge.svg\" alt=\"Open In Colab\"/></a>"
      ]
    },
    {
      "cell_type": "code",
      "metadata": {
        "id": "TRT5F3Gr9gOP",
        "colab_type": "code",
        "colab": {}
      },
      "source": [
        "import pandas as pd"
      ],
      "execution_count": 0,
      "outputs": []
    },
    {
      "cell_type": "code",
      "metadata": {
        "id": "kGIHA1do-Dtg",
        "colab_type": "code",
        "colab": {}
      },
      "source": [
        "df=pd.read_csv('filtered.csv')"
      ],
      "execution_count": 0,
      "outputs": []
    },
    {
      "cell_type": "code",
      "metadata": {
        "id": "utIdPDPZ-IMh",
        "colab_type": "code",
        "colab": {}
      },
      "source": [
        "X=df.iloc[:,1:].drop([\"drop_lat\",\"drop_lng\",\"Fri\",\"Mon\",\"Sat\",\"Sun\",\"Thr\",\"Tue\",\"Wed\"],axis=1)"
      ],
      "execution_count": 0,
      "outputs": []
    },
    {
      "cell_type": "code",
      "metadata": {
        "id": "Pt0OcyTI-Jcw",
        "colab_type": "code",
        "colab": {}
      },
      "source": [
        "X[\"Result\"]= 1"
      ],
      "execution_count": 0,
      "outputs": []
    },
    {
      "cell_type": "code",
      "metadata": {
        "id": "hkttfehXAogw",
        "colab_type": "code",
        "colab": {
          "base_uri": "https://localhost:8080/",
          "height": 121
        },
        "outputId": "290cb108-ff52-447f-e6d4-42fd17fc1131"
      },
      "source": [
        "X.isnull().sum()"
      ],
      "execution_count": 38,
      "outputs": [
        {
          "output_type": "execute_result",
          "data": {
            "text/plain": [
              "number      0\n",
              "pick_lat    0\n",
              "pick_lng    0\n",
              "time        1\n",
              "Result      0\n",
              "dtype: int64"
            ]
          },
          "metadata": {
            "tags": []
          },
          "execution_count": 38
        }
      ]
    },
    {
      "cell_type": "code",
      "metadata": {
        "id": "AfEcdYlDBcKe",
        "colab_type": "code",
        "colab": {}
      },
      "source": [
        "X.dropna(axis=0,inplace=True)"
      ],
      "execution_count": 0,
      "outputs": []
    },
    {
      "cell_type": "code",
      "metadata": {
        "id": "jSKC0NWlBwul",
        "colab_type": "code",
        "colab": {}
      },
      "source": [
        "X.to_csv(\"f_filtred.csv\")"
      ],
      "execution_count": 0,
      "outputs": []
    },
    {
      "cell_type": "code",
      "metadata": {
        "id": "EgBuIzaJBzv7",
        "colab_type": "code",
        "colab": {
          "base_uri": "https://localhost:8080/",
          "height": 416
        },
        "outputId": "e9460a2d-3608-4100-b2f9-053b98d3a6f0"
      },
      "source": [
        "X"
      ],
      "execution_count": 41,
      "outputs": [
        {
          "output_type": "execute_result",
          "data": {
            "text/html": [
              "<div>\n",
              "<style scoped>\n",
              "    .dataframe tbody tr th:only-of-type {\n",
              "        vertical-align: middle;\n",
              "    }\n",
              "\n",
              "    .dataframe tbody tr th {\n",
              "        vertical-align: top;\n",
              "    }\n",
              "\n",
              "    .dataframe thead th {\n",
              "        text-align: right;\n",
              "    }\n",
              "</style>\n",
              "<table border=\"1\" class=\"dataframe\">\n",
              "  <thead>\n",
              "    <tr style=\"text-align: right;\">\n",
              "      <th></th>\n",
              "      <th>number</th>\n",
              "      <th>pick_lat</th>\n",
              "      <th>pick_lng</th>\n",
              "      <th>time</th>\n",
              "      <th>Result</th>\n",
              "    </tr>\n",
              "  </thead>\n",
              "  <tbody>\n",
              "    <tr>\n",
              "      <th>0</th>\n",
              "      <td>50291.0</td>\n",
              "      <td>12.947308</td>\n",
              "      <td>77.624740</td>\n",
              "      <td>10.163056</td>\n",
              "      <td>1</td>\n",
              "    </tr>\n",
              "    <tr>\n",
              "      <th>1</th>\n",
              "      <td>50291.0</td>\n",
              "      <td>12.916829</td>\n",
              "      <td>77.651794</td>\n",
              "      <td>20.409167</td>\n",
              "      <td>1</td>\n",
              "    </tr>\n",
              "    <tr>\n",
              "      <th>2</th>\n",
              "      <td>50291.0</td>\n",
              "      <td>12.916829</td>\n",
              "      <td>77.651794</td>\n",
              "      <td>20.426389</td>\n",
              "      <td>1</td>\n",
              "    </tr>\n",
              "    <tr>\n",
              "      <th>3</th>\n",
              "      <td>50291.0</td>\n",
              "      <td>12.916829</td>\n",
              "      <td>77.651794</td>\n",
              "      <td>20.427222</td>\n",
              "      <td>1</td>\n",
              "    </tr>\n",
              "    <tr>\n",
              "      <th>4</th>\n",
              "      <td>50291.0</td>\n",
              "      <td>12.916829</td>\n",
              "      <td>77.651794</td>\n",
              "      <td>20.454722</td>\n",
              "      <td>1</td>\n",
              "    </tr>\n",
              "    <tr>\n",
              "      <th>...</th>\n",
              "      <td>...</td>\n",
              "      <td>...</td>\n",
              "      <td>...</td>\n",
              "      <td>...</td>\n",
              "      <td>...</td>\n",
              "    </tr>\n",
              "    <tr>\n",
              "      <th>204700</th>\n",
              "      <td>65249.0</td>\n",
              "      <td>12.992170</td>\n",
              "      <td>77.583206</td>\n",
              "      <td>17.617222</td>\n",
              "      <td>1</td>\n",
              "    </tr>\n",
              "    <tr>\n",
              "      <th>204701</th>\n",
              "      <td>65249.0</td>\n",
              "      <td>12.935562</td>\n",
              "      <td>77.607475</td>\n",
              "      <td>10.181944</td>\n",
              "      <td>1</td>\n",
              "    </tr>\n",
              "    <tr>\n",
              "      <th>204702</th>\n",
              "      <td>65249.0</td>\n",
              "      <td>12.935562</td>\n",
              "      <td>77.607475</td>\n",
              "      <td>10.183889</td>\n",
              "      <td>1</td>\n",
              "    </tr>\n",
              "    <tr>\n",
              "      <th>204703</th>\n",
              "      <td>65249.0</td>\n",
              "      <td>12.935562</td>\n",
              "      <td>77.607475</td>\n",
              "      <td>10.229167</td>\n",
              "      <td>1</td>\n",
              "    </tr>\n",
              "    <tr>\n",
              "      <th>204704</th>\n",
              "      <td>65249.0</td>\n",
              "      <td>12.935562</td>\n",
              "      <td>77.607475</td>\n",
              "      <td>10.246389</td>\n",
              "      <td>1</td>\n",
              "    </tr>\n",
              "  </tbody>\n",
              "</table>\n",
              "<p>204705 rows × 5 columns</p>\n",
              "</div>"
            ],
            "text/plain": [
              "         number   pick_lat   pick_lng       time  Result\n",
              "0       50291.0  12.947308  77.624740  10.163056       1\n",
              "1       50291.0  12.916829  77.651794  20.409167       1\n",
              "2       50291.0  12.916829  77.651794  20.426389       1\n",
              "3       50291.0  12.916829  77.651794  20.427222       1\n",
              "4       50291.0  12.916829  77.651794  20.454722       1\n",
              "...         ...        ...        ...        ...     ...\n",
              "204700  65249.0  12.992170  77.583206  17.617222       1\n",
              "204701  65249.0  12.935562  77.607475  10.181944       1\n",
              "204702  65249.0  12.935562  77.607475  10.183889       1\n",
              "204703  65249.0  12.935562  77.607475  10.229167       1\n",
              "204704  65249.0  12.935562  77.607475  10.246389       1\n",
              "\n",
              "[204705 rows x 5 columns]"
            ]
          },
          "metadata": {
            "tags": []
          },
          "execution_count": 41
        }
      ]
    },
    {
      "cell_type": "code",
      "metadata": {
        "id": "R1rUasvmCZgt",
        "colab_type": "code",
        "colab": {}
      },
      "source": [
        "X[\"pick_lat\"]=X.apply(lambda row: round(row['pick_lat'],4)*10000,axis=1)"
      ],
      "execution_count": 0,
      "outputs": []
    },
    {
      "cell_type": "code",
      "metadata": {
        "id": "R66I7HtHC3ap",
        "colab_type": "code",
        "colab": {}
      },
      "source": [
        "X[\"pick_lng\"]=X.apply(lambda row: round(row['pick_lng'],4)*10000,axis=1)"
      ],
      "execution_count": 0,
      "outputs": []
    },
    {
      "cell_type": "code",
      "metadata": {
        "id": "mlY5jbWHDEAi",
        "colab_type": "code",
        "colab": {}
      },
      "source": [
        "X[\"time\"]=X.apply(lambda row: round(row['time'],2)*100,axis=1)"
      ],
      "execution_count": 0,
      "outputs": []
    },
    {
      "cell_type": "code",
      "metadata": {
        "id": "SZqv8EgDDcw0",
        "colab_type": "code",
        "colab": {}
      },
      "source": [
        "import numpy as np\n",
        "\n",
        "def pin_loc(x,y):\n",
        "  return np.sqrt(x**2+y**2)"
      ],
      "execution_count": 0,
      "outputs": []
    },
    {
      "cell_type": "code",
      "metadata": {
        "id": "Ax-3m6ZKDp5u",
        "colab_type": "code",
        "colab": {}
      },
      "source": [
        "X[\"loc\"]=X.apply(lambda row:pin_loc(row[\"pick_lat\"],row[\"pick_lng\"]),axis=1)"
      ],
      "execution_count": 0,
      "outputs": []
    },
    {
      "cell_type": "code",
      "metadata": {
        "id": "U4LKm072Eomr",
        "colab_type": "code",
        "colab": {}
      },
      "source": [
        "X_one=X.copy()"
      ],
      "execution_count": 0,
      "outputs": []
    },
    {
      "cell_type": "code",
      "metadata": {
        "id": "uBlvVwE2E0Va",
        "colab_type": "code",
        "colab": {
          "base_uri": "https://localhost:8080/",
          "height": 416
        },
        "outputId": "3ce813b6-0597-48c3-8dae-c938b7e53628"
      },
      "source": [
        "X_one"
      ],
      "execution_count": 110,
      "outputs": [
        {
          "output_type": "execute_result",
          "data": {
            "text/html": [
              "<div>\n",
              "<style scoped>\n",
              "    .dataframe tbody tr th:only-of-type {\n",
              "        vertical-align: middle;\n",
              "    }\n",
              "\n",
              "    .dataframe tbody tr th {\n",
              "        vertical-align: top;\n",
              "    }\n",
              "\n",
              "    .dataframe thead th {\n",
              "        text-align: right;\n",
              "    }\n",
              "</style>\n",
              "<table border=\"1\" class=\"dataframe\">\n",
              "  <thead>\n",
              "    <tr style=\"text-align: right;\">\n",
              "      <th></th>\n",
              "      <th>number</th>\n",
              "      <th>pick_lat</th>\n",
              "      <th>pick_lng</th>\n",
              "      <th>time</th>\n",
              "      <th>Result</th>\n",
              "      <th>loc</th>\n",
              "    </tr>\n",
              "  </thead>\n",
              "  <tbody>\n",
              "    <tr>\n",
              "      <th>0</th>\n",
              "      <td>50291.0</td>\n",
              "      <td>129473.0</td>\n",
              "      <td>776247.0</td>\n",
              "      <td>1016.0</td>\n",
              "      <td>1</td>\n",
              "      <td>786970.560274</td>\n",
              "    </tr>\n",
              "    <tr>\n",
              "      <th>1</th>\n",
              "      <td>50291.0</td>\n",
              "      <td>129168.0</td>\n",
              "      <td>776518.0</td>\n",
              "      <td>2041.0</td>\n",
              "      <td>1</td>\n",
              "      <td>787187.764481</td>\n",
              "    </tr>\n",
              "    <tr>\n",
              "      <th>2</th>\n",
              "      <td>50291.0</td>\n",
              "      <td>129168.0</td>\n",
              "      <td>776518.0</td>\n",
              "      <td>2043.0</td>\n",
              "      <td>1</td>\n",
              "      <td>787187.764481</td>\n",
              "    </tr>\n",
              "    <tr>\n",
              "      <th>3</th>\n",
              "      <td>50291.0</td>\n",
              "      <td>129168.0</td>\n",
              "      <td>776518.0</td>\n",
              "      <td>2043.0</td>\n",
              "      <td>1</td>\n",
              "      <td>787187.764481</td>\n",
              "    </tr>\n",
              "    <tr>\n",
              "      <th>4</th>\n",
              "      <td>50291.0</td>\n",
              "      <td>129168.0</td>\n",
              "      <td>776518.0</td>\n",
              "      <td>2045.0</td>\n",
              "      <td>1</td>\n",
              "      <td>787187.764481</td>\n",
              "    </tr>\n",
              "    <tr>\n",
              "      <th>...</th>\n",
              "      <td>...</td>\n",
              "      <td>...</td>\n",
              "      <td>...</td>\n",
              "      <td>...</td>\n",
              "      <td>...</td>\n",
              "      <td>...</td>\n",
              "    </tr>\n",
              "    <tr>\n",
              "      <th>204700</th>\n",
              "      <td>65249.0</td>\n",
              "      <td>129922.0</td>\n",
              "      <td>775832.0</td>\n",
              "      <td>1762.0</td>\n",
              "      <td>1</td>\n",
              "      <td>786635.251122</td>\n",
              "    </tr>\n",
              "    <tr>\n",
              "      <th>204701</th>\n",
              "      <td>65249.0</td>\n",
              "      <td>129356.0</td>\n",
              "      <td>776075.0</td>\n",
              "      <td>1018.0</td>\n",
              "      <td>1</td>\n",
              "      <td>786781.659904</td>\n",
              "    </tr>\n",
              "    <tr>\n",
              "      <th>204702</th>\n",
              "      <td>65249.0</td>\n",
              "      <td>129356.0</td>\n",
              "      <td>776075.0</td>\n",
              "      <td>1018.0</td>\n",
              "      <td>1</td>\n",
              "      <td>786781.659904</td>\n",
              "    </tr>\n",
              "    <tr>\n",
              "      <th>204703</th>\n",
              "      <td>65249.0</td>\n",
              "      <td>129356.0</td>\n",
              "      <td>776075.0</td>\n",
              "      <td>1023.0</td>\n",
              "      <td>1</td>\n",
              "      <td>786781.659904</td>\n",
              "    </tr>\n",
              "    <tr>\n",
              "      <th>204704</th>\n",
              "      <td>65249.0</td>\n",
              "      <td>129356.0</td>\n",
              "      <td>776075.0</td>\n",
              "      <td>1025.0</td>\n",
              "      <td>1</td>\n",
              "      <td>786781.659904</td>\n",
              "    </tr>\n",
              "  </tbody>\n",
              "</table>\n",
              "<p>204705 rows × 6 columns</p>\n",
              "</div>"
            ],
            "text/plain": [
              "         number  pick_lat  pick_lng    time  Result            loc\n",
              "0       50291.0  129473.0  776247.0  1016.0       1  786970.560274\n",
              "1       50291.0  129168.0  776518.0  2041.0       1  787187.764481\n",
              "2       50291.0  129168.0  776518.0  2043.0       1  787187.764481\n",
              "3       50291.0  129168.0  776518.0  2043.0       1  787187.764481\n",
              "4       50291.0  129168.0  776518.0  2045.0       1  787187.764481\n",
              "...         ...       ...       ...     ...     ...            ...\n",
              "204700  65249.0  129922.0  775832.0  1762.0       1  786635.251122\n",
              "204701  65249.0  129356.0  776075.0  1018.0       1  786781.659904\n",
              "204702  65249.0  129356.0  776075.0  1018.0       1  786781.659904\n",
              "204703  65249.0  129356.0  776075.0  1023.0       1  786781.659904\n",
              "204704  65249.0  129356.0  776075.0  1025.0       1  786781.659904\n",
              "\n",
              "[204705 rows x 6 columns]"
            ]
          },
          "metadata": {
            "tags": []
          },
          "execution_count": 110
        }
      ]
    },
    {
      "cell_type": "code",
      "metadata": {
        "id": "eUnQ8Cy2FKDs",
        "colab_type": "code",
        "colab": {}
      },
      "source": [
        "xs=X_one[X_one[\"number\"]==50291.0][\"loc\"]"
      ],
      "execution_count": 0,
      "outputs": []
    },
    {
      "cell_type": "code",
      "metadata": {
        "id": "ohZGDEapFeg5",
        "colab_type": "code",
        "colab": {
          "base_uri": "https://localhost:8080/",
          "height": 34
        },
        "outputId": "4e452e87-4e96-4ab9-8520-ed9607a86494"
      },
      "source": [
        "xs.shape"
      ],
      "execution_count": 79,
      "outputs": [
        {
          "output_type": "execute_result",
          "data": {
            "text/plain": [
              "(1024,)"
            ]
          },
          "metadata": {
            "tags": []
          },
          "execution_count": 79
        }
      ]
    },
    {
      "cell_type": "code",
      "metadata": {
        "id": "Idq4CPyDFfKO",
        "colab_type": "code",
        "colab": {}
      },
      "source": [
        "#Partucular Customer\n",
        "ys=X_one[X_one[\"number\"]==50291.0][\"time\"]"
      ],
      "execution_count": 0,
      "outputs": []
    },
    {
      "cell_type": "code",
      "metadata": {
        "id": "k9VOhT5bFn6h",
        "colab_type": "code",
        "colab": {
          "base_uri": "https://localhost:8080/",
          "height": 225
        },
        "outputId": "94485b6b-1fcb-4889-e53f-bb2bdc2a21ff"
      },
      "source": [
        "ys"
      ],
      "execution_count": 59,
      "outputs": [
        {
          "output_type": "execute_result",
          "data": {
            "text/plain": [
              "0       1016.0\n",
              "1       2041.0\n",
              "2       2043.0\n",
              "3       2043.0\n",
              "4       2045.0\n",
              "         ...  \n",
              "1019    2069.0\n",
              "1020    2070.0\n",
              "1021    2070.0\n",
              "1022    2070.0\n",
              "1023    2071.0\n",
              "Name: time, Length: 1024, dtype: float64"
            ]
          },
          "metadata": {
            "tags": []
          },
          "execution_count": 59
        }
      ]
    },
    {
      "cell_type": "code",
      "metadata": {
        "id": "6HUbNirHFon6",
        "colab_type": "code",
        "colab": {
          "base_uri": "https://localhost:8080/",
          "height": 282
        },
        "outputId": "1a6bf1f7-5a39-4a8d-d90d-b5a3dfd2ffb0"
      },
      "source": [
        "import matplotlib.pyplot as plt\n",
        "plt.scatter(ys,xs,color=\"blue\")\n",
        "plt.plot()"
      ],
      "execution_count": 65,
      "outputs": [
        {
          "output_type": "execute_result",
          "data": {
            "text/plain": [
              "[]"
            ]
          },
          "metadata": {
            "tags": []
          },
          "execution_count": 65
        },
        {
          "output_type": "display_data",
          "data": {
            "image/png": "[encoded data removed]",
            "text/plain": [
              "<Figure size 432x288 with 1 Axes>"
            ]
          },
          "metadata": {
            "tags": [],
            "needs_background": "light"
          }
        }
      ]
    },
    {
      "cell_type": "code",
      "metadata": {
        "id": "To8tNQRkFxm_",
        "colab_type": "code",
        "colab": {
          "base_uri": "https://localhost:8080/",
          "height": 225
        },
        "outputId": "015a075b-6268-4601-8411-bb72cae5d14d"
      },
      "source": [
        "ys"
      ],
      "execution_count": 102,
      "outputs": [
        {
          "output_type": "execute_result",
          "data": {
            "text/plain": [
              "0       1016.0\n",
              "1       2041.0\n",
              "2       2043.0\n",
              "3       2043.0\n",
              "4       2045.0\n",
              "         ...  \n",
              "1019    2069.0\n",
              "1020    2070.0\n",
              "1021    2070.0\n",
              "1022    2070.0\n",
              "1023    2071.0\n",
              "Name: time, Length: 1024, dtype: float64"
            ]
          },
          "metadata": {
            "tags": []
          },
          "execution_count": 102
        }
      ]
    },
    {
      "cell_type": "code",
      "metadata": {
        "id": "QACVqTxqHgea",
        "colab_type": "code",
        "colab": {
          "base_uri": "https://localhost:8080/",
          "height": 297
        },
        "outputId": "28f304c2-e5e1-4ddd-b78c-ad2d44feef3f"
      },
      "source": [
        "fig, axs = plt.subplots(1, 2, sharey=True, tight_layout=True)\n",
        "n_bins = int(xs.shape[0]/2)\n",
        "f_data=axs[0].hist(xs, bins=n_bins)\n",
        "#axs[1].hist(ys, bins=n_bins)"
      ],
      "execution_count": 81,
      "outputs": [
        {
          "output_type": "display_data",
          "data": {
            "image/png": "[encoded data removed]",
            "text/plain": [
              "<Figure size 432x288 with 2 Axes>"
            ]
          },
          "metadata": {
            "tags": [],
            "needs_background": "light"
          }
        }
      ]
    },
    {
      "cell_type": "code",
      "metadata": {
        "id": "OQv6jqojHtKk",
        "colab_type": "code",
        "colab": {}
      },
      "source": [
        "f_data[0]##HOlds frequency"
      ],
      "execution_count": 0,
      "outputs": []
    },
    {
      "cell_type": "code",
      "metadata": {
        "id": "PYmkYVwoIZn9",
        "colab_type": "code",
        "colab": {}
      },
      "source": [
        "f_data[1]##Holds the position"
      ],
      "execution_count": 0,
      "outputs": []
    },
    {
      "cell_type": "code",
      "metadata": {
        "id": "in0YSYUdNtNt",
        "colab_type": "code",
        "colab": {}
      },
      "source": [
        "indexes=[]\n",
        "for i,x in enumerate(f_data[0]):\n",
        "  if x==0:\n",
        "    indexes.append(i)"
      ],
      "execution_count": 0,
      "outputs": []
    },
    {
      "cell_type": "code",
      "metadata": {
        "id": "Q6FNr89uPVXV",
        "colab_type": "code",
        "colab": {}
      },
      "source": [
        "neg_positions=[f_data[1][i] for i in indexes]"
      ],
      "execution_count": 0,
      "outputs": []
    },
    {
      "cell_type": "code",
      "metadata": {
        "id": "cQOu1GLoPf5p",
        "colab_type": "code",
        "colab": {
          "base_uri": "https://localhost:8080/",
          "height": 34
        },
        "outputId": "5baa7afb-0374-48a5-8400-b9d3a8074c39"
      },
      "source": [
        "len(neg_positions)"
      ],
      "execution_count": 91,
      "outputs": [
        {
          "output_type": "execute_result",
          "data": {
            "text/plain": [
              "465"
            ]
          },
          "metadata": {
            "tags": []
          },
          "execution_count": 91
        }
      ]
    },
    {
      "cell_type": "code",
      "metadata": {
        "id": "7h7J6TlRPy_v",
        "colab_type": "code",
        "colab": {}
      },
      "source": [
        "lat=X_one[\"pick_lat\"].values\n",
        "time=X_one[\"time\"].values\n",
        "lng=X_one[\"pick_lng\"].values\n",
        "loc=X_one[\"pick_lng\"].values##Function of lat and lng"
      ],
      "execution_count": 0,
      "outputs": []
    },
    {
      "cell_type": "code",
      "metadata": {
        "id": "cwCAK3M8QVmA",
        "colab_type": "code",
        "colab": {
          "base_uri": "https://localhost:8080/",
          "height": 248
        },
        "outputId": "ed3a55e3-942c-4ecf-a0c7-c5c1de6f3285"
      },
      "source": [
        "#3d plotting\n",
        "\n",
        "from mpl_toolkits.mplot3d import Axes3D  \n",
        "\n",
        "import matplotlib.pyplot as plt\n",
        "import numpy as np\n",
        "\n",
        "\n",
        "fig = plt.figure()\n",
        "ax = fig.add_subplot(111, projection='3d')\n",
        "\n",
        "hist, xedges, yedges = np.histogram2d(lat, time, bins=500, )\n",
        "\n",
        "# Construct arrays for the anchor positions of the 16 bars.\n",
        "xpos, ypos = np.meshgrid(xedges[:-1] + 0.25, yedges[:-1] + 0.25, indexing=\"ij\")\n",
        "xpos = xpos.ravel()\n",
        "ypos = ypos.ravel()\n",
        "zpos = 0\n",
        "\n",
        "# Construct arrays with the dimensions for the 16 bars.\n",
        "dx = dy = 0.5 * np.ones_like(zpos)\n",
        "dz = hist.ravel()\n",
        "\n",
        "ax.bar3d(xpos, ypos, zpos, dx, dy, dz, zsort='average')\n",
        "\n",
        "plt.show()"
      ],
      "execution_count": 96,
      "outputs": [
        {
          "output_type": "display_data",
          "data": {
            "image/png": "[encoded data removed]",
            "text/plain": [
              "<Figure size 432x288 with 1 Axes>"
            ]
          },
          "metadata": {
            "tags": [],
            "needs_background": "light"
          }
        }
      ]
    },
    {
      "cell_type": "code",
      "metadata": {
        "id": "VdlHx5pCRwyj",
        "colab_type": "code",
        "colab": {
          "base_uri": "https://localhost:8080/",
          "height": 265
        },
        "outputId": "266527a0-4278-4cb4-de7f-85e3461911a7"
      },
      "source": [
        "\n",
        "fig = plt.figure()\n",
        "ax = fig.add_subplot(111, projection='3d')\n",
        "\n",
        "hist, xedges, yedges = np.histogram2d(lng, time, bins=500, )\n",
        "\n",
        "# Construct arrays for the anchor positions of the 16 bars.\n",
        "xpos, ypos = np.meshgrid(xedges[:-1] + 0.25, yedges[:-1] + 0.25, indexing=\"ij\")\n",
        "xpos = xpos.ravel()\n",
        "ypos = ypos.ravel()\n",
        "zpos = 0\n",
        "\n",
        "# Construct arrays with the dimensions for the 16 bars.\n",
        "dx = dy = 0.5 * np.ones_like(zpos)\n",
        "dz = hist.ravel()\n",
        "\n",
        "ax.bar3d(xpos, ypos, zpos, dx, dy, dz, zsort='average')"
      ],
      "execution_count": 98,
      "outputs": [
        {
          "output_type": "execute_result",
          "data": {
            "text/plain": [
              "<mpl_toolkits.mplot3d.art3d.Poly3DCollection at 0x7f3ff3999518>"
            ]
          },
          "metadata": {
            "tags": []
          },
          "execution_count": 98
        },
        {
          "output_type": "display_data",
          "data": {
            "image/png": "[encoded data removed]",
            "text/plain": [
              "<Figure size 432x288 with 1 Axes>"
            ]
          },
          "metadata": {
            "tags": [],
            "needs_background": "light"
          }
        }
      ]
    },
    {
      "cell_type": "code",
      "metadata": {
        "id": "gfybu_u_T0iu",
        "colab_type": "code",
        "colab": {
          "base_uri": "https://localhost:8080/",
          "height": 248
        },
        "outputId": "4f81006c-b3a4-4386-cc47-d6693e24dc7e"
      },
      "source": [
        "#Latitudes and Longitues show the same trend.Checking for loc\n",
        "\n",
        "#3d plotting\n",
        "\n",
        "from mpl_toolkits.mplot3d import Axes3D  \n",
        "\n",
        "import matplotlib.pyplot as plt\n",
        "import numpy as np\n",
        "\n",
        "\n",
        "fig = plt.figure()\n",
        "ax = fig.add_subplot(111, projection='3d')\n",
        "\n",
        "hist, xedges, yedges = np.histogram2d(loc, time, bins=500, )\n",
        "\n",
        "# Construct arrays for the anchor positions of the 16 bars.\n",
        "xpos, ypos = np.meshgrid(xedges[:-1] + 0.25, yedges[:-1] + 0.25, indexing=\"ij\")\n",
        "xpos = xpos.ravel()\n",
        "ypos = ypos.ravel()\n",
        "zpos = 0\n",
        "\n",
        "# Construct arrays with the dimensions for the 16 bars.\n",
        "dx = dy = 0.5 * np.ones_like(zpos)\n",
        "dz = hist.ravel()\n",
        "\n",
        "ax.bar3d(xpos, ypos, zpos, dx, dy, dz, zsort='average')\n",
        "\n",
        "plt.show()"
      ],
      "execution_count": 100,
      "outputs": [
        {
          "output_type": "display_data",
          "data": {
            "image/png": "[encoded data removed]",
            "text/plain": [
              "<Figure size 432x288 with 1 Axes>"
            ]
          },
          "metadata": {
            "tags": [],
            "needs_background": "light"
          }
        }
      ]
    },
    {
      "cell_type": "code",
      "metadata": {
        "id": "pAxgU5CwYm1n",
        "colab_type": "code",
        "colab": {}
      },
      "source": [
        "##NOICE..SAME TREND FOLLOWS\n",
        "##Now..locations from where there are no rides\n",
        "neg_positions"
      ],
      "execution_count": 0,
      "outputs": []
    },
    {
      "cell_type": "code",
      "metadata": {
        "id": "pXbiO6rxaRGL",
        "colab_type": "code",
        "colab": {
          "base_uri": "https://localhost:8080/",
          "height": 297
        },
        "outputId": "989a1803-4338-4d23-8cc5-b8a2b2908516"
      },
      "source": [
        "#Find the times where there are no rides\n",
        "\n",
        "fig, axs = plt.subplots(1, 2, sharey=True, tight_layout=True)\n",
        "n_bins = int(xs.shape[0]/2)\n",
        "f_time=axs[0].hist(ys, bins=n_bins)\n",
        "#axs[1].hist(ys, bins=n_bins)"
      ],
      "execution_count": 103,
      "outputs": [
        {
          "output_type": "display_data",
          "data": {
            "image/png": "[encoded data removed]",
            "text/plain": [
              "<Figure size 432x288 with 2 Axes>"
            ]
          },
          "metadata": {
            "tags": [],
            "needs_background": "light"
          }
        }
      ]
    },
    {
      "cell_type": "code",
      "metadata": {
        "id": "en6lWG5za06t",
        "colab_type": "code",
        "colab": {}
      },
      "source": [
        "time_indexes=[]\n",
        "for i,x in enumerate(f_time[0]):\n",
        "  if x==0:\n",
        "    time_indexes.append(i)"
      ],
      "execution_count": 0,
      "outputs": []
    },
    {
      "cell_type": "code",
      "metadata": {
        "id": "MUy-CzRJa25q",
        "colab_type": "code",
        "colab": {}
      },
      "source": [
        "neg_time=[f_time[1][i] for i in time_indexes]"
      ],
      "execution_count": 0,
      "outputs": []
    },
    {
      "cell_type": "code",
      "metadata": {
        "id": "u_da7dkFbMT0",
        "colab_type": "code",
        "colab": {}
      },
      "source": [
        "##We now have new data:neg_time,neg_positions"
      ],
      "execution_count": 0,
      "outputs": []
    },
    {
      "cell_type": "code",
      "metadata": {
        "id": "5rkYLtzrbYfP",
        "colab_type": "code",
        "colab": {}
      },
      "source": [
        "##Need to add them to the df X_one\n",
        "X_one=X_one[X_one[\"number\"]==50291]\n",
        "\n"
      ],
      "execution_count": 0,
      "outputs": []
    },
    {
      "cell_type": "code",
      "metadata": {
        "id": "K3vd1Vn4cxo-",
        "colab_type": "code",
        "colab": {
          "base_uri": "https://localhost:8080/",
          "height": 416
        },
        "outputId": "b7be44c9-e7ff-492f-83ed-f1000feba63b"
      },
      "source": [
        "X_one="
      ],
      "execution_count": 115,
      "outputs": [
        {
          "output_type": "execute_result",
          "data": {
            "text/html": [
              "<div>\n",
              "<style scoped>\n",
              "    .dataframe tbody tr th:only-of-type {\n",
              "        vertical-align: middle;\n",
              "    }\n",
              "\n",
              "    .dataframe tbody tr th {\n",
              "        vertical-align: top;\n",
              "    }\n",
              "\n",
              "    .dataframe thead th {\n",
              "        text-align: right;\n",
              "    }\n",
              "</style>\n",
              "<table border=\"1\" class=\"dataframe\">\n",
              "  <thead>\n",
              "    <tr style=\"text-align: right;\">\n",
              "      <th></th>\n",
              "      <th>number</th>\n",
              "      <th>pick_lat</th>\n",
              "      <th>pick_lng</th>\n",
              "      <th>time</th>\n",
              "      <th>Result</th>\n",
              "      <th>loc</th>\n",
              "    </tr>\n",
              "  </thead>\n",
              "  <tbody>\n",
              "    <tr>\n",
              "      <th>0</th>\n",
              "      <td>50291.0</td>\n",
              "      <td>129473.0</td>\n",
              "      <td>776247.0</td>\n",
              "      <td>1016.0</td>\n",
              "      <td>1</td>\n",
              "      <td>786970.560274</td>\n",
              "    </tr>\n",
              "    <tr>\n",
              "      <th>1</th>\n",
              "      <td>50291.0</td>\n",
              "      <td>129168.0</td>\n",
              "      <td>776518.0</td>\n",
              "      <td>2041.0</td>\n",
              "      <td>1</td>\n",
              "      <td>787187.764481</td>\n",
              "    </tr>\n",
              "    <tr>\n",
              "      <th>2</th>\n",
              "      <td>50291.0</td>\n",
              "      <td>129168.0</td>\n",
              "      <td>776518.0</td>\n",
              "      <td>2043.0</td>\n",
              "      <td>1</td>\n",
              "      <td>787187.764481</td>\n",
              "    </tr>\n",
              "    <tr>\n",
              "      <th>3</th>\n",
              "      <td>50291.0</td>\n",
              "      <td>129168.0</td>\n",
              "      <td>776518.0</td>\n",
              "      <td>2043.0</td>\n",
              "      <td>1</td>\n",
              "      <td>787187.764481</td>\n",
              "    </tr>\n",
              "    <tr>\n",
              "      <th>4</th>\n",
              "      <td>50291.0</td>\n",
              "      <td>129168.0</td>\n",
              "      <td>776518.0</td>\n",
              "      <td>2045.0</td>\n",
              "      <td>1</td>\n",
              "      <td>787187.764481</td>\n",
              "    </tr>\n",
              "    <tr>\n",
              "      <th>...</th>\n",
              "      <td>...</td>\n",
              "      <td>...</td>\n",
              "      <td>...</td>\n",
              "      <td>...</td>\n",
              "      <td>...</td>\n",
              "      <td>...</td>\n",
              "    </tr>\n",
              "    <tr>\n",
              "      <th>1019</th>\n",
              "      <td>50291.0</td>\n",
              "      <td>129187.0</td>\n",
              "      <td>776516.0</td>\n",
              "      <td>2069.0</td>\n",
              "      <td>1</td>\n",
              "      <td>787188.909491</td>\n",
              "    </tr>\n",
              "    <tr>\n",
              "      <th>1020</th>\n",
              "      <td>50291.0</td>\n",
              "      <td>129187.0</td>\n",
              "      <td>776516.0</td>\n",
              "      <td>2070.0</td>\n",
              "      <td>1</td>\n",
              "      <td>787188.909491</td>\n",
              "    </tr>\n",
              "    <tr>\n",
              "      <th>1021</th>\n",
              "      <td>50291.0</td>\n",
              "      <td>129187.0</td>\n",
              "      <td>776516.0</td>\n",
              "      <td>2070.0</td>\n",
              "      <td>1</td>\n",
              "      <td>787188.909491</td>\n",
              "    </tr>\n",
              "    <tr>\n",
              "      <th>1022</th>\n",
              "      <td>50291.0</td>\n",
              "      <td>129187.0</td>\n",
              "      <td>776516.0</td>\n",
              "      <td>2070.0</td>\n",
              "      <td>1</td>\n",
              "      <td>787188.909491</td>\n",
              "    </tr>\n",
              "    <tr>\n",
              "      <th>1023</th>\n",
              "      <td>50291.0</td>\n",
              "      <td>129187.0</td>\n",
              "      <td>776516.0</td>\n",
              "      <td>2071.0</td>\n",
              "      <td>1</td>\n",
              "      <td>787188.909491</td>\n",
              "    </tr>\n",
              "  </tbody>\n",
              "</table>\n",
              "<p>1024 rows × 6 columns</p>\n",
              "</div>"
            ],
            "text/plain": [
              "       number  pick_lat  pick_lng    time  Result            loc\n",
              "0     50291.0  129473.0  776247.0  1016.0       1  786970.560274\n",
              "1     50291.0  129168.0  776518.0  2041.0       1  787187.764481\n",
              "2     50291.0  129168.0  776518.0  2043.0       1  787187.764481\n",
              "3     50291.0  129168.0  776518.0  2043.0       1  787187.764481\n",
              "4     50291.0  129168.0  776518.0  2045.0       1  787187.764481\n",
              "...       ...       ...       ...     ...     ...            ...\n",
              "1019  50291.0  129187.0  776516.0  2069.0       1  787188.909491\n",
              "1020  50291.0  129187.0  776516.0  2070.0       1  787188.909491\n",
              "1021  50291.0  129187.0  776516.0  2070.0       1  787188.909491\n",
              "1022  50291.0  129187.0  776516.0  2070.0       1  787188.909491\n",
              "1023  50291.0  129187.0  776516.0  2071.0       1  787188.909491\n",
              "\n",
              "[1024 rows x 6 columns]"
            ]
          },
          "metadata": {
            "tags": []
          },
          "execution_count": 115
        }
      ]
    },
    {
      "cell_type": "code",
      "metadata": {
        "id": "7M38zk1OdCFA",
        "colab_type": "code",
        "colab": {}
      },
      "source": [
        ""
      ],
      "execution_count": 0,
      "outputs": []
    }
  ]
}