{
  "nbformat": 4,
  "nbformat_minor": 0,
  "metadata": {
    "colab": {
      "name": "shopperAge.ipynb",
      "provenance": [],
      "authorship_tag": "ABX9TyN1xksJL4kKLDq01gNxXweh",
      "include_colab_link": true
    },
    "kernelspec": {
      "name": "python3",
      "display_name": "Python 3"
    }
  },
  "cells": [
    {
      "cell_type": "markdown",
      "metadata": {
        "id": "view-in-github",
        "colab_type": "text"
      },
      "source": [
        "<a href=\"https://colab.research.google.com/github/mashdas/Deep_Learning_101/blob/master/shopperAge.ipynb\" target=\"_parent\"><img src=\"https://colab.research.google.com/assets/colab-badge.svg\" alt=\"Open In Colab\"/></a>"
      ]
    },
    {
      "cell_type": "code",
      "metadata": {
        "id": "dhhgkvs3E_Yt",
        "colab_type": "code",
        "colab": {}
      },
      "source": [
        "import pandas as pd\n",
        "import numpy as np\n",
        "\n",
        "df = pd.read_csv(\n",
        "    \"https://data.heatonresearch.com/data/t81-558/jh-simple-dataset.csv\",\n",
        "    na_values=['NA','?'])"
      ],
      "execution_count": 0,
      "outputs": []
    },
    {
      "cell_type": "code",
      "metadata": {
        "id": "w_mx5gahFG8Q",
        "colab_type": "code",
        "colab": {
          "base_uri": "https://localhost:8080/",
          "height": 33
        },
        "outputId": "6cd70a19-0e8a-44a4-a630-843a54dc15d4"
      },
      "source": [
        "df[\"product\"].unique()"
      ],
      "execution_count": 137,
      "outputs": [
        {
          "output_type": "execute_result",
          "data": {
            "text/plain": [
              "array(['b', 'c', 'a', 'd', 'f', 'e', 'g'], dtype=object)"
            ]
          },
          "metadata": {
            "tags": []
          },
          "execution_count": 137
        }
      ]
    },
    {
      "cell_type": "code",
      "metadata": {
        "id": "m21WfgR2FfDy",
        "colab_type": "code",
        "colab": {
          "base_uri": "https://localhost:8080/",
          "height": 33
        },
        "outputId": "616d9ddb-d809-44d8-f520-e34d2174d245"
      },
      "source": [
        "df.isna().sum()\n",
        "df=df.dropna()\n",
        "len(df)"
      ],
      "execution_count": 138,
      "outputs": [
        {
          "output_type": "execute_result",
          "data": {
            "text/plain": [
              "1941"
            ]
          },
          "metadata": {
            "tags": []
          },
          "execution_count": 138
        }
      ]
    },
    {
      "cell_type": "code",
      "metadata": {
        "id": "6byWdCJAFsKh",
        "colab_type": "code",
        "colab": {
          "base_uri": "https://localhost:8080/",
          "height": 391
        },
        "outputId": "24e1a1b6-b5df-43dc-b284-e87f53edf528"
      },
      "source": [
        "x1=df.iloc[:,3:9]\n",
        "x2=df.iloc[:,10:]\n",
        "\n",
        "df"
      ],
      "execution_count": 139,
      "outputs": [
        {
          "output_type": "execute_result",
          "data": {
            "text/html": [
              "<div>\n",
              "<style scoped>\n",
              "    .dataframe tbody tr th:only-of-type {\n",
              "        vertical-align: middle;\n",
              "    }\n",
              "\n",
              "    .dataframe tbody tr th {\n",
              "        vertical-align: top;\n",
              "    }\n",
              "\n",
              "    .dataframe thead th {\n",
              "        text-align: right;\n",
              "    }\n",
              "</style>\n",
              "<table border=\"1\" class=\"dataframe\">\n",
              "  <thead>\n",
              "    <tr style=\"text-align: right;\">\n",
              "      <th></th>\n",
              "      <th>id</th>\n",
              "      <th>job</th>\n",
              "      <th>area</th>\n",
              "      <th>income</th>\n",
              "      <th>aspect</th>\n",
              "      <th>subscriptions</th>\n",
              "      <th>dist_healthy</th>\n",
              "      <th>save_rate</th>\n",
              "      <th>dist_unhealthy</th>\n",
              "      <th>age</th>\n",
              "      <th>pop_dense</th>\n",
              "      <th>retail_dense</th>\n",
              "      <th>crime</th>\n",
              "      <th>product</th>\n",
              "    </tr>\n",
              "  </thead>\n",
              "  <tbody>\n",
              "    <tr>\n",
              "      <th>0</th>\n",
              "      <td>1</td>\n",
              "      <td>vv</td>\n",
              "      <td>c</td>\n",
              "      <td>50876.0</td>\n",
              "      <td>13.100000</td>\n",
              "      <td>1</td>\n",
              "      <td>9.017895</td>\n",
              "      <td>35</td>\n",
              "      <td>11.738935</td>\n",
              "      <td>49</td>\n",
              "      <td>0.885827</td>\n",
              "      <td>0.492126</td>\n",
              "      <td>0.071100</td>\n",
              "      <td>b</td>\n",
              "    </tr>\n",
              "    <tr>\n",
              "      <th>1</th>\n",
              "      <td>2</td>\n",
              "      <td>kd</td>\n",
              "      <td>c</td>\n",
              "      <td>60369.0</td>\n",
              "      <td>18.625000</td>\n",
              "      <td>2</td>\n",
              "      <td>7.766643</td>\n",
              "      <td>59</td>\n",
              "      <td>6.805396</td>\n",
              "      <td>51</td>\n",
              "      <td>0.874016</td>\n",
              "      <td>0.342520</td>\n",
              "      <td>0.400809</td>\n",
              "      <td>c</td>\n",
              "    </tr>\n",
              "    <tr>\n",
              "      <th>2</th>\n",
              "      <td>3</td>\n",
              "      <td>pe</td>\n",
              "      <td>c</td>\n",
              "      <td>55126.0</td>\n",
              "      <td>34.766667</td>\n",
              "      <td>1</td>\n",
              "      <td>3.632069</td>\n",
              "      <td>6</td>\n",
              "      <td>13.671772</td>\n",
              "      <td>44</td>\n",
              "      <td>0.944882</td>\n",
              "      <td>0.724409</td>\n",
              "      <td>0.207723</td>\n",
              "      <td>b</td>\n",
              "    </tr>\n",
              "    <tr>\n",
              "      <th>3</th>\n",
              "      <td>4</td>\n",
              "      <td>11</td>\n",
              "      <td>c</td>\n",
              "      <td>51690.0</td>\n",
              "      <td>15.808333</td>\n",
              "      <td>1</td>\n",
              "      <td>5.372942</td>\n",
              "      <td>16</td>\n",
              "      <td>4.333286</td>\n",
              "      <td>50</td>\n",
              "      <td>0.889764</td>\n",
              "      <td>0.444882</td>\n",
              "      <td>0.361216</td>\n",
              "      <td>b</td>\n",
              "    </tr>\n",
              "    <tr>\n",
              "      <th>4</th>\n",
              "      <td>5</td>\n",
              "      <td>kl</td>\n",
              "      <td>d</td>\n",
              "      <td>28347.0</td>\n",
              "      <td>40.941667</td>\n",
              "      <td>3</td>\n",
              "      <td>3.822477</td>\n",
              "      <td>20</td>\n",
              "      <td>5.967121</td>\n",
              "      <td>38</td>\n",
              "      <td>0.744094</td>\n",
              "      <td>0.661417</td>\n",
              "      <td>0.068033</td>\n",
              "      <td>a</td>\n",
              "    </tr>\n",
              "    <tr>\n",
              "      <th>...</th>\n",
              "      <td>...</td>\n",
              "      <td>...</td>\n",
              "      <td>...</td>\n",
              "      <td>...</td>\n",
              "      <td>...</td>\n",
              "      <td>...</td>\n",
              "      <td>...</td>\n",
              "      <td>...</td>\n",
              "      <td>...</td>\n",
              "      <td>...</td>\n",
              "      <td>...</td>\n",
              "      <td>...</td>\n",
              "      <td>...</td>\n",
              "      <td>...</td>\n",
              "    </tr>\n",
              "    <tr>\n",
              "      <th>1995</th>\n",
              "      <td>1996</td>\n",
              "      <td>vv</td>\n",
              "      <td>c</td>\n",
              "      <td>51017.0</td>\n",
              "      <td>38.233333</td>\n",
              "      <td>1</td>\n",
              "      <td>5.454545</td>\n",
              "      <td>34</td>\n",
              "      <td>14.013489</td>\n",
              "      <td>41</td>\n",
              "      <td>0.881890</td>\n",
              "      <td>0.744094</td>\n",
              "      <td>0.104838</td>\n",
              "      <td>b</td>\n",
              "    </tr>\n",
              "    <tr>\n",
              "      <th>1996</th>\n",
              "      <td>1997</td>\n",
              "      <td>kl</td>\n",
              "      <td>d</td>\n",
              "      <td>26576.0</td>\n",
              "      <td>33.358333</td>\n",
              "      <td>2</td>\n",
              "      <td>3.632069</td>\n",
              "      <td>20</td>\n",
              "      <td>8.380497</td>\n",
              "      <td>38</td>\n",
              "      <td>0.944882</td>\n",
              "      <td>0.877953</td>\n",
              "      <td>0.063851</td>\n",
              "      <td>a</td>\n",
              "    </tr>\n",
              "    <tr>\n",
              "      <th>1997</th>\n",
              "      <td>1998</td>\n",
              "      <td>kl</td>\n",
              "      <td>d</td>\n",
              "      <td>28595.0</td>\n",
              "      <td>39.425000</td>\n",
              "      <td>3</td>\n",
              "      <td>7.168218</td>\n",
              "      <td>99</td>\n",
              "      <td>4.626950</td>\n",
              "      <td>36</td>\n",
              "      <td>0.759843</td>\n",
              "      <td>0.744094</td>\n",
              "      <td>0.098703</td>\n",
              "      <td>f</td>\n",
              "    </tr>\n",
              "    <tr>\n",
              "      <th>1998</th>\n",
              "      <td>1999</td>\n",
              "      <td>qp</td>\n",
              "      <td>c</td>\n",
              "      <td>67949.0</td>\n",
              "      <td>5.733333</td>\n",
              "      <td>0</td>\n",
              "      <td>8.936292</td>\n",
              "      <td>26</td>\n",
              "      <td>3.281439</td>\n",
              "      <td>46</td>\n",
              "      <td>0.909449</td>\n",
              "      <td>0.598425</td>\n",
              "      <td>0.117803</td>\n",
              "      <td>c</td>\n",
              "    </tr>\n",
              "    <tr>\n",
              "      <th>1999</th>\n",
              "      <td>2000</td>\n",
              "      <td>pe</td>\n",
              "      <td>c</td>\n",
              "      <td>61467.0</td>\n",
              "      <td>16.891667</td>\n",
              "      <td>0</td>\n",
              "      <td>4.312097</td>\n",
              "      <td>8</td>\n",
              "      <td>9.405648</td>\n",
              "      <td>48</td>\n",
              "      <td>0.925197</td>\n",
              "      <td>0.539370</td>\n",
              "      <td>0.451973</td>\n",
              "      <td>c</td>\n",
              "    </tr>\n",
              "  </tbody>\n",
              "</table>\n",
              "<p>1941 rows × 14 columns</p>\n",
              "</div>"
            ],
            "text/plain": [
              "        id job area   income  ...  pop_dense  retail_dense     crime  product\n",
              "0        1  vv    c  50876.0  ...   0.885827      0.492126  0.071100        b\n",
              "1        2  kd    c  60369.0  ...   0.874016      0.342520  0.400809        c\n",
              "2        3  pe    c  55126.0  ...   0.944882      0.724409  0.207723        b\n",
              "3        4  11    c  51690.0  ...   0.889764      0.444882  0.361216        b\n",
              "4        5  kl    d  28347.0  ...   0.744094      0.661417  0.068033        a\n",
              "...    ...  ..  ...      ...  ...        ...           ...       ...      ...\n",
              "1995  1996  vv    c  51017.0  ...   0.881890      0.744094  0.104838        b\n",
              "1996  1997  kl    d  26576.0  ...   0.944882      0.877953  0.063851        a\n",
              "1997  1998  kl    d  28595.0  ...   0.759843      0.744094  0.098703        f\n",
              "1998  1999  qp    c  67949.0  ...   0.909449      0.598425  0.117803        c\n",
              "1999  2000  pe    c  61467.0  ...   0.925197      0.539370  0.451973        c\n",
              "\n",
              "[1941 rows x 14 columns]"
            ]
          },
          "metadata": {
            "tags": []
          },
          "execution_count": 139
        }
      ]
    },
    {
      "cell_type": "code",
      "metadata": {
        "id": "AnN4SFs1GXBf",
        "colab_type": "code",
        "colab": {}
      },
      "source": [
        "X=pd.concat([x1,x2],axis=1)"
      ],
      "execution_count": 0,
      "outputs": []
    },
    {
      "cell_type": "code",
      "metadata": {
        "id": "TEq4oYXuGcMR",
        "colab_type": "code",
        "colab": {}
      },
      "source": [
        "y=df[\"age\"]\n"
      ],
      "execution_count": 0,
      "outputs": []
    },
    {
      "cell_type": "code",
      "metadata": {
        "id": "3_G7j91rHd_0",
        "colab_type": "code",
        "colab": {}
      },
      "source": [
        "X_prod=pd.get_dummies(X[\"product\"], prefix=\"prod\")"
      ],
      "execution_count": 0,
      "outputs": []
    },
    {
      "cell_type": "code",
      "metadata": {
        "id": "ZplShpikIHZu",
        "colab_type": "code",
        "colab": {}
      },
      "source": [
        "X=pd.concat([X,X_prod],axis=1)"
      ],
      "execution_count": 0,
      "outputs": []
    },
    {
      "cell_type": "code",
      "metadata": {
        "id": "RIuD9EBUIJJc",
        "colab_type": "code",
        "colab": {}
      },
      "source": [
        "X=X.drop([\"product\"],axis=1)"
      ],
      "execution_count": 0,
      "outputs": []
    },
    {
      "cell_type": "code",
      "metadata": {
        "id": "oCa-00_KIzxq",
        "colab_type": "code",
        "colab": {
          "base_uri": "https://localhost:8080/",
          "height": 212
        },
        "outputId": "35892865-e9e8-4f1c-9dc9-e568da1317d3"
      },
      "source": [
        "y\n"
      ],
      "execution_count": 147,
      "outputs": [
        {
          "output_type": "execute_result",
          "data": {
            "text/plain": [
              "0       49\n",
              "1       51\n",
              "2       44\n",
              "3       50\n",
              "4       38\n",
              "        ..\n",
              "1995    41\n",
              "1996    38\n",
              "1997    36\n",
              "1998    46\n",
              "1999    48\n",
              "Name: age, Length: 1941, dtype: int64"
            ]
          },
          "metadata": {
            "tags": []
          },
          "execution_count": 147
        }
      ]
    },
    {
      "cell_type": "code",
      "metadata": {
        "id": "HcGstOMdJMPE",
        "colab_type": "code",
        "colab": {}
      },
      "source": [
        "from sklearn.model_selection import train_test_split\n",
        "X_train,X_test,y_train,y_test=train_test_split(X.values,y.values,random_state=42,test_size=0.2)"
      ],
      "execution_count": 0,
      "outputs": []
    },
    {
      "cell_type": "code",
      "metadata": {
        "id": "ptQbJ71wJewm",
        "colab_type": "code",
        "colab": {}
      },
      "source": [
        "from sklearn.preprocessing import StandardScaler\n",
        "sc=StandardScaler()\n",
        "X_train=sc.fit_transform(X_train)\n",
        "X_test=sc.transform(X_test)"
      ],
      "execution_count": 0,
      "outputs": []
    },
    {
      "cell_type": "code",
      "metadata": {
        "id": "9SKuSIdvJpb3",
        "colab_type": "code",
        "colab": {}
      },
      "source": [
        "X_train=X_train.astype(float)\n",
        "X_test=X_test.astype(float)\n",
        "scy=StandardScaler()\n",
        "y_train=scy.fit_transform(y_train.reshape(-1,1))\n",
        "y_test=scy.transform(y_test.reshape(-1,1))"
      ],
      "execution_count": 0,
      "outputs": []
    },
    {
      "cell_type": "code",
      "metadata": {
        "id": "KvrfO1yAKBWl",
        "colab_type": "code",
        "colab": {}
      },
      "source": [
        "\n",
        "#y_test,y_train=y_test.astype(float),y_train.astype(float)\n",
        "\n",
        "\n",
        "from sklearn.linear_model import LinearRegression\n",
        "\n",
        "model=LinearRegression()\n",
        "help(model.fit(X_train,y_train))"
      ],
      "execution_count": 0,
      "outputs": []
    },
    {
      "cell_type": "code",
      "metadata": {
        "id": "Gikc2W12KvbM",
        "colab_type": "code",
        "colab": {}
      },
      "source": [
        "pred=model.predict(X_test)"
      ],
      "execution_count": 0,
      "outputs": []
    },
    {
      "cell_type": "code",
      "metadata": {
        "id": "kADQ4F2VLXVZ",
        "colab_type": "code",
        "colab": {
          "base_uri": "https://localhost:8080/",
          "height": 33
        },
        "outputId": "d49a72a0-68d3-4e26-fac0-6bc807264d01"
      },
      "source": [
        "model.score(X_test,y_test)"
      ],
      "execution_count": 157,
      "outputs": [
        {
          "output_type": "execute_result",
          "data": {
            "text/plain": [
              "0.9368399980981323"
            ]
          },
          "metadata": {
            "tags": []
          },
          "execution_count": 157
        }
      ]
    },
    {
      "cell_type": "code",
      "metadata": {
        "id": "SMRVVT10ONpd",
        "colab_type": "code",
        "colab": {
          "base_uri": "https://localhost:8080/",
          "height": 667
        },
        "outputId": "eeef2e3c-00ae-42b2-d48a-a83a6ebc67e5"
      },
      "source": [
        "##Got a score of 93.6 using Linear regression\n",
        "##Comparing it with a NN\n",
        "import tensorflow as tf\n",
        "from tensorflow.keras.models import Sequential\n",
        "from tensorflow.keras.layers import Dense,BatchNormalization,Dropout\n",
        "from tensorflow.keras.callbacks import EarlyStopping,ModelCheckpoint\n",
        "from tensorflow.keras.optimizers import SGD\n",
        "\n",
        "\n",
        "##Building the NN\n",
        "\n",
        "model=Sequential()\n",
        "model.add(Dense(25,input_dim=X_train.shape[1],activation=\"relu\"))\n",
        "\n",
        "model.add(Dense(25,activation=\"relu\"))\n",
        "\n",
        "model.add(Dense(25,activation=\"relu\"))\n",
        "model.add(Dense(25,activation=\"relu\"))\n",
        "\n",
        "model.add(Dense(25,activation=\"relu\"))\n",
        "model.add(Dense(25,activation=\"relu\"))\n",
        "\n",
        "model.add(Dense(25,activation=\"relu\"))\n",
        "\n",
        "model.add(Dense(1,activation=\"relu\"))\n",
        "\n",
        "\n",
        "\n",
        "\n",
        "model.compile(loss=\"mean_squared_logarithmic_error\",optimizer=SGD(lr=0.01, momentum=0.9))\n",
        "monitor=EarlyStopping(monitor=\"val_loss\",min_delta=1e-3,patience=5,verbose=1,\n",
        "                      mode='auto', restore_best_weights=True)\n",
        "#checkpointer=ModelCheckpoint(filepath=\"SOMEPATH\",varbose=1,save_bestweights=True)\n",
        "history=model.fit(X_train,y_train,validation_data=(X_test,y_test),callbacks=[monitor],epochs=100)"
      ],
      "execution_count": 186,
      "outputs": [
        {
          "output_type": "stream",
          "text": [
            "Epoch 1/100\n",
            "49/49 [==============================] - 0s 4ms/step - loss: 0.0982 - val_loss: 0.0851\n",
            "Epoch 2/100\n",
            "49/49 [==============================] - 0s 2ms/step - loss: 0.0803 - val_loss: 0.0667\n",
            "Epoch 3/100\n",
            "49/49 [==============================] - 0s 2ms/step - loss: 0.0580 - val_loss: 0.0433\n",
            "Epoch 4/100\n",
            "49/49 [==============================] - 0s 2ms/step - loss: 0.0430 - val_loss: 0.0348\n",
            "Epoch 5/100\n",
            "49/49 [==============================] - 0s 2ms/step - loss: 0.0320 - val_loss: 0.0238\n",
            "Epoch 6/100\n",
            "49/49 [==============================] - 0s 2ms/step - loss: 0.0209 - val_loss: 0.0176\n",
            "Epoch 7/100\n",
            "49/49 [==============================] - 0s 3ms/step - loss: 0.0137 - val_loss: 0.0144\n",
            "Epoch 8/100\n",
            "49/49 [==============================] - 0s 2ms/step - loss: 0.0108 - val_loss: 0.0105\n",
            "Epoch 9/100\n",
            "49/49 [==============================] - 0s 2ms/step - loss: 0.0090 - val_loss: 0.0092\n",
            "Epoch 10/100\n",
            "49/49 [==============================] - 0s 2ms/step - loss: 0.0066 - val_loss: 0.0090\n",
            "Epoch 11/100\n",
            "49/49 [==============================] - 0s 2ms/step - loss: 0.0057 - val_loss: 0.0081\n",
            "Epoch 12/100\n",
            "49/49 [==============================] - 0s 2ms/step - loss: 0.0050 - val_loss: 0.0075\n",
            "Epoch 13/100\n",
            "49/49 [==============================] - 0s 2ms/step - loss: 0.0046 - val_loss: 0.0074\n",
            "Epoch 14/100\n",
            "49/49 [==============================] - 0s 2ms/step - loss: 0.0042 - val_loss: 0.0070\n",
            "Epoch 15/100\n",
            "49/49 [==============================] - 0s 2ms/step - loss: 0.0041 - val_loss: 0.0070\n",
            "Epoch 16/100\n",
            "49/49 [==============================] - 0s 2ms/step - loss: 0.0037 - val_loss: 0.0069\n",
            "Epoch 17/100\n",
            "49/49 [==============================] - 0s 2ms/step - loss: 0.0036 - val_loss: 0.0067\n",
            "Epoch 18/100\n",
            "49/49 [==============================] - 0s 2ms/step - loss: 0.0036 - val_loss: 0.0067\n",
            "Epoch 19/100\n",
            "41/49 [========================>.....] - ETA: 0s - loss: 0.0034Restoring model weights from the end of the best epoch.\n",
            "49/49 [==============================] - 0s 2ms/step - loss: 0.0035 - val_loss: 0.0067\n",
            "Epoch 00019: early stopping\n"
          ],
          "name": "stdout"
        }
      ]
    },
    {
      "cell_type": "code",
      "metadata": {
        "id": "1_C0w0UBQ5Fm",
        "colab_type": "code",
        "colab": {}
      },
      "source": [
        "import matplotlib.pyplot as plt\n",
        "def plot_lc(history,epochs):\n",
        "  ##Accuracy\n",
        "  # epoch_range=range(1,epochs+1)\n",
        "  # plt.plot(epoch_range,history.history['accuracy'])\n",
        "  # plt.plot(epoch_range,history.history['val_accuracy'])\n",
        "  # plt.title(\"Model_accuracy\")\n",
        "  # plt.ylabel(\"Accuracy\")\n",
        "  # plt.xlabel(\"Epoch\")\n",
        "  # plt.show()\n",
        "\n",
        "\n",
        "   ##Loss\n",
        "  epoch_range=range(1,epochs+1)\n",
        "  plt.plot(epoch_range,history.history['loss'])\n",
        "  plt.plot(epoch_range,history.history['val_loss'])\n",
        "  plt.title(\"Model_loss\")\n",
        "  plt.ylabel(\"Loss\")\n",
        "  plt.xlabel(\"Epoch\")\n",
        "\n",
        "  plt.legend([\"Train\",\"Val\"],loc=\"upper left\")\n",
        "  plt.show()"
      ],
      "execution_count": 0,
      "outputs": []
    },
    {
      "cell_type": "code",
      "metadata": {
        "id": "OV0_We3SR4po",
        "colab_type": "code",
        "colab": {
          "base_uri": "https://localhost:8080/",
          "height": 295
        },
        "outputId": "8527fa4d-fcf4-432b-c4e9-27d8e82fd30f"
      },
      "source": [
        "plot_lc(history,19)"
      ],
      "execution_count": 189,
      "outputs": [
        {
          "output_type": "display_data",
          "data": {
            "image/png": "[encoded data removed]",
            "text/plain": [
              "<Figure size 432x288 with 1 Axes>"
            ]
          },
          "metadata": {
            "tags": [],
            "needs_background": "light"
          }
        }
      ]
    },
    {
      "cell_type": "code",
      "metadata": {
        "id": "cJwqqC2SVFtD",
        "colab_type": "code",
        "colab": {}
      },
      "source": [
        "##Accuracy sucked so much had to comment it out....might be because of the use of StandardScaler or small amount of Data present"
      ],
      "execution_count": 0,
      "outputs": []
    },
    {
      "cell_type": "code",
      "metadata": {
        "id": "_amDSpWbVt6Z",
        "colab_type": "code",
        "colab": {}
      },
      "source": [
        ""
      ],
      "execution_count": 0,
      "outputs": []
    }
  ]
}