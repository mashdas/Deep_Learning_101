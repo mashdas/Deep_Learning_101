{
  "nbformat": 4,
  "nbformat_minor": 0,
  "metadata": {
    "colab": {
      "name": "mpg.ipynb",
      "provenance": [],
      "collapsed_sections": [],
      "authorship_tag": "ABX9TyNyOItP1nkfv0UtyH3vWIhq",
      "include_colab_link": true
    },
    "kernelspec": {
      "name": "python3",
      "display_name": "Python 3"
    }
  },
  "cells": [
    {
      "cell_type": "markdown",
      "metadata": {
        "id": "view-in-github",
        "colab_type": "text"
      },
      "source": [
        "<a href=\"https://colab.research.google.com/github/mashdas/Deep_Learning_101/blob/master/mpg.ipynb\" target=\"_parent\"><img src=\"https://colab.research.google.com/assets/colab-badge.svg\" alt=\"Open In Colab\"/></a>"
      ]
    },
    {
      "cell_type": "code",
      "metadata": {
        "id": "ss2v6RWdd7sO",
        "colab_type": "code",
        "colab": {}
      },
      "source": [
        "import pandas as pd\n",
        "from sklearn.preprocessing import StandardScaler\n",
        "import numpy as np\n"
      ],
      "execution_count": 0,
      "outputs": []
    },
    {
      "cell_type": "code",
      "metadata": {
        "id": "oFlG6qKysD-F",
        "colab_type": "code",
        "colab": {}
      },
      "source": [
        "df=pd.read_csv('auto-mpg.csv',na_values=['NA','?'])\n",
        "\n",
        "\n",
        "##Went through kaggle eda to discover the ? problem and the involved column.Need to find a way to check the whole dataframe for outliers\n",
        "##and NaNs\n",
        "df[\"horsepower\"]=df[\"horsepower\"].fillna(df[\"horsepower\"].median())\n",
        "\n",
        "X=df[[\"cylinders\",\"displacement\",\"horsepower\",\"weight\",\"model year\",\"acceleration\",\"origin\"]].values\n",
        "y=df[\"mpg\"].values"
      ],
      "execution_count": 0,
      "outputs": []
    },
    {
      "cell_type": "code",
      "metadata": {
        "id": "o8Bi0bqxsH4V",
        "colab_type": "code",
        "outputId": "10788b8a-de6b-41d2-df1b-f376f67bfc21",
        "colab": {
          "base_uri": "https://localhost:8080/",
          "height": 1000
        }
      },
      "source": [
        "from tensorflow.keras import Sequential\n",
        "from tensorflow.keras.layers import Dense\n",
        "y=y.reshape(-1,1)\n",
        "model=Sequential()\n",
        "model.add(Dense(25,input_dim=X.shape[1],activation=\"relu\"))\n",
        "model.add(Dense(10,activation=\"relu\"))\n",
        "model.add(Dense(1))\n",
        "model.compile(loss='mean_squared_error',optimizer='adam',metrics=[\"accuracy\"])\n",
        "model.fit(X,y,verbose=1,epochs=100)"
      ],
      "execution_count": 0,
      "outputs": [
        {
          "output_type": "stream",
          "text": [
            "Epoch 1/100\n",
            "13/13 [==============================] - 0s 1ms/step - loss: 662970.1250 - accuracy: 0.0000e+00\n",
            "Epoch 2/100\n",
            "13/13 [==============================] - 0s 1ms/step - loss: 150883.9844 - accuracy: 0.0000e+00\n",
            "Epoch 3/100\n",
            "13/13 [==============================] - 0s 1ms/step - loss: 14652.4678 - accuracy: 0.0000e+00\n",
            "Epoch 4/100\n",
            "13/13 [==============================] - 0s 1ms/step - loss: 607.5104 - accuracy: 0.0000e+00\n",
            "Epoch 5/100\n",
            "13/13 [==============================] - 0s 1ms/step - loss: 701.9893 - accuracy: 0.0000e+00\n",
            "Epoch 6/100\n",
            "13/13 [==============================] - 0s 1ms/step - loss: 597.4387 - accuracy: 0.0000e+00\n",
            "Epoch 7/100\n",
            "13/13 [==============================] - 0s 1ms/step - loss: 240.0958 - accuracy: 0.0000e+00\n",
            "Epoch 8/100\n",
            "13/13 [==============================] - 0s 1ms/step - loss: 162.3863 - accuracy: 0.0000e+00\n",
            "Epoch 9/100\n",
            "13/13 [==============================] - 0s 1ms/step - loss: 163.3132 - accuracy: 0.0000e+00\n",
            "Epoch 10/100\n",
            "13/13 [==============================] - 0s 1ms/step - loss: 158.5709 - accuracy: 0.0000e+00\n",
            "Epoch 11/100\n",
            "13/13 [==============================] - 0s 1ms/step - loss: 157.1599 - accuracy: 0.0000e+00\n",
            "Epoch 12/100\n",
            "13/13 [==============================] - 0s 1ms/step - loss: 154.3792 - accuracy: 0.0000e+00\n",
            "Epoch 13/100\n",
            "13/13 [==============================] - 0s 1ms/step - loss: 153.4880 - accuracy: 0.0000e+00\n",
            "Epoch 14/100\n",
            "13/13 [==============================] - 0s 1ms/step - loss: 147.4740 - accuracy: 0.0000e+00\n",
            "Epoch 15/100\n",
            "13/13 [==============================] - 0s 1ms/step - loss: 147.2859 - accuracy: 0.0000e+00\n",
            "Epoch 16/100\n",
            "13/13 [==============================] - 0s 1ms/step - loss: 146.0293 - accuracy: 0.0000e+00\n",
            "Epoch 17/100\n",
            "13/13 [==============================] - 0s 1ms/step - loss: 141.2501 - accuracy: 0.0000e+00\n",
            "Epoch 18/100\n",
            "13/13 [==============================] - 0s 2ms/step - loss: 138.9049 - accuracy: 0.0000e+00\n",
            "Epoch 19/100\n",
            "13/13 [==============================] - 0s 1ms/step - loss: 138.3385 - accuracy: 0.0000e+00\n",
            "Epoch 20/100\n",
            "13/13 [==============================] - 0s 1ms/step - loss: 136.1930 - accuracy: 0.0000e+00\n",
            "Epoch 21/100\n",
            "13/13 [==============================] - 0s 1ms/step - loss: 133.0151 - accuracy: 0.0000e+00\n",
            "Epoch 22/100\n",
            "13/13 [==============================] - 0s 1ms/step - loss: 129.9257 - accuracy: 0.0000e+00\n",
            "Epoch 23/100\n",
            "13/13 [==============================] - 0s 2ms/step - loss: 127.6118 - accuracy: 0.0000e+00\n",
            "Epoch 24/100\n",
            "13/13 [==============================] - 0s 2ms/step - loss: 126.8313 - accuracy: 0.0000e+00\n",
            "Epoch 25/100\n",
            "13/13 [==============================] - 0s 2ms/step - loss: 122.3680 - accuracy: 0.0000e+00\n",
            "Epoch 26/100\n",
            "13/13 [==============================] - 0s 1ms/step - loss: 124.7937 - accuracy: 0.0000e+00\n",
            "Epoch 27/100\n",
            "13/13 [==============================] - 0s 1ms/step - loss: 127.1404 - accuracy: 0.0000e+00\n",
            "Epoch 28/100\n",
            "13/13 [==============================] - 0s 1ms/step - loss: 116.7201 - accuracy: 0.0000e+00\n",
            "Epoch 29/100\n",
            "13/13 [==============================] - 0s 2ms/step - loss: 121.3807 - accuracy: 0.0000e+00\n",
            "Epoch 30/100\n",
            "13/13 [==============================] - 0s 1ms/step - loss: 119.2075 - accuracy: 0.0000e+00\n",
            "Epoch 31/100\n",
            "13/13 [==============================] - 0s 1ms/step - loss: 115.9303 - accuracy: 0.0000e+00\n",
            "Epoch 32/100\n",
            "13/13 [==============================] - 0s 1ms/step - loss: 119.2496 - accuracy: 0.0000e+00\n",
            "Epoch 33/100\n",
            "13/13 [==============================] - 0s 1ms/step - loss: 112.8633 - accuracy: 0.0000e+00\n",
            "Epoch 34/100\n",
            "13/13 [==============================] - 0s 2ms/step - loss: 112.9095 - accuracy: 0.0000e+00\n",
            "Epoch 35/100\n",
            "13/13 [==============================] - 0s 1ms/step - loss: 113.5225 - accuracy: 0.0000e+00\n",
            "Epoch 36/100\n",
            "13/13 [==============================] - 0s 2ms/step - loss: 112.3508 - accuracy: 0.0000e+00\n",
            "Epoch 37/100\n",
            "13/13 [==============================] - 0s 1ms/step - loss: 110.8617 - accuracy: 0.0000e+00\n",
            "Epoch 38/100\n",
            "13/13 [==============================] - 0s 1ms/step - loss: 109.2858 - accuracy: 0.0000e+00\n",
            "Epoch 39/100\n",
            "13/13 [==============================] - 0s 1ms/step - loss: 108.2953 - accuracy: 0.0000e+00\n",
            "Epoch 40/100\n",
            "13/13 [==============================] - 0s 1ms/step - loss: 109.9455 - accuracy: 0.0000e+00\n",
            "Epoch 41/100\n",
            "13/13 [==============================] - 0s 1ms/step - loss: 106.2883 - accuracy: 0.0000e+00\n",
            "Epoch 42/100\n",
            "13/13 [==============================] - 0s 1ms/step - loss: 108.8082 - accuracy: 0.0000e+00\n",
            "Epoch 43/100\n",
            "13/13 [==============================] - 0s 1ms/step - loss: 104.6224 - accuracy: 0.0000e+00\n",
            "Epoch 44/100\n",
            "13/13 [==============================] - 0s 1ms/step - loss: 102.7415 - accuracy: 0.0000e+00\n",
            "Epoch 45/100\n",
            "13/13 [==============================] - 0s 1ms/step - loss: 106.4087 - accuracy: 0.0000e+00\n",
            "Epoch 46/100\n",
            "13/13 [==============================] - 0s 1ms/step - loss: 104.5225 - accuracy: 0.0000e+00\n",
            "Epoch 47/100\n",
            "13/13 [==============================] - 0s 1ms/step - loss: 102.7337 - accuracy: 0.0000e+00\n",
            "Epoch 48/100\n",
            "13/13 [==============================] - 0s 2ms/step - loss: 103.6122 - accuracy: 0.0000e+00\n",
            "Epoch 49/100\n",
            "13/13 [==============================] - 0s 2ms/step - loss: 100.6213 - accuracy: 0.0000e+00\n",
            "Epoch 50/100\n",
            "13/13 [==============================] - 0s 1ms/step - loss: 100.6888 - accuracy: 0.0000e+00\n",
            "Epoch 51/100\n",
            "13/13 [==============================] - 0s 1ms/step - loss: 100.6053 - accuracy: 0.0000e+00\n",
            "Epoch 52/100\n",
            "13/13 [==============================] - 0s 1ms/step - loss: 102.7403 - accuracy: 0.0000e+00\n",
            "Epoch 53/100\n",
            "13/13 [==============================] - 0s 2ms/step - loss: 98.4064 - accuracy: 0.0000e+00\n",
            "Epoch 54/100\n",
            "13/13 [==============================] - 0s 2ms/step - loss: 98.7712 - accuracy: 0.0000e+00\n",
            "Epoch 55/100\n",
            "13/13 [==============================] - 0s 2ms/step - loss: 97.2762 - accuracy: 0.0000e+00\n",
            "Epoch 56/100\n",
            "13/13 [==============================] - 0s 2ms/step - loss: 94.8269 - accuracy: 0.0000e+00\n",
            "Epoch 57/100\n",
            "13/13 [==============================] - 0s 2ms/step - loss: 98.1310 - accuracy: 0.0000e+00\n",
            "Epoch 58/100\n",
            "13/13 [==============================] - 0s 1ms/step - loss: 95.2022 - accuracy: 0.0000e+00\n",
            "Epoch 59/100\n",
            "13/13 [==============================] - 0s 1ms/step - loss: 94.5645 - accuracy: 0.0000e+00\n",
            "Epoch 60/100\n",
            "13/13 [==============================] - 0s 2ms/step - loss: 96.2877 - accuracy: 0.0000e+00\n",
            "Epoch 61/100\n",
            "13/13 [==============================] - 0s 1ms/step - loss: 93.1084 - accuracy: 0.0000e+00\n",
            "Epoch 62/100\n",
            "13/13 [==============================] - 0s 2ms/step - loss: 93.8683 - accuracy: 0.0000e+00\n",
            "Epoch 63/100\n",
            "13/13 [==============================] - 0s 2ms/step - loss: 92.5032 - accuracy: 0.0000e+00\n",
            "Epoch 64/100\n",
            "13/13 [==============================] - 0s 1ms/step - loss: 90.3587 - accuracy: 0.0000e+00\n",
            "Epoch 65/100\n",
            "13/13 [==============================] - 0s 1ms/step - loss: 89.7762 - accuracy: 0.0000e+00\n",
            "Epoch 66/100\n",
            "13/13 [==============================] - 0s 1ms/step - loss: 89.9909 - accuracy: 0.0000e+00\n",
            "Epoch 67/100\n",
            "13/13 [==============================] - 0s 1ms/step - loss: 89.4925 - accuracy: 0.0000e+00\n",
            "Epoch 68/100\n",
            "13/13 [==============================] - 0s 1ms/step - loss: 88.7708 - accuracy: 0.0000e+00\n",
            "Epoch 69/100\n",
            "13/13 [==============================] - 0s 1ms/step - loss: 89.6405 - accuracy: 0.0000e+00\n",
            "Epoch 70/100\n",
            "13/13 [==============================] - 0s 1ms/step - loss: 88.5504 - accuracy: 0.0000e+00\n",
            "Epoch 71/100\n",
            "13/13 [==============================] - 0s 1ms/step - loss: 89.2134 - accuracy: 0.0000e+00\n",
            "Epoch 72/100\n",
            "13/13 [==============================] - 0s 1ms/step - loss: 84.4133 - accuracy: 0.0000e+00\n",
            "Epoch 73/100\n",
            "13/13 [==============================] - 0s 1ms/step - loss: 87.5243 - accuracy: 0.0000e+00\n",
            "Epoch 74/100\n",
            "13/13 [==============================] - 0s 1ms/step - loss: 86.3086 - accuracy: 0.0000e+00\n",
            "Epoch 75/100\n",
            "13/13 [==============================] - 0s 1ms/step - loss: 83.6241 - accuracy: 0.0000e+00\n",
            "Epoch 76/100\n",
            "13/13 [==============================] - 0s 1ms/step - loss: 82.0224 - accuracy: 0.0000e+00\n",
            "Epoch 77/100\n",
            "13/13 [==============================] - 0s 1ms/step - loss: 82.5869 - accuracy: 0.0000e+00\n",
            "Epoch 78/100\n",
            "13/13 [==============================] - 0s 1ms/step - loss: 83.0584 - accuracy: 0.0000e+00\n",
            "Epoch 79/100\n",
            "13/13 [==============================] - 0s 1ms/step - loss: 80.7097 - accuracy: 0.0000e+00\n",
            "Epoch 80/100\n",
            "13/13 [==============================] - 0s 1ms/step - loss: 81.3225 - accuracy: 0.0000e+00\n",
            "Epoch 81/100\n",
            "13/13 [==============================] - 0s 1ms/step - loss: 79.6432 - accuracy: 0.0000e+00\n",
            "Epoch 82/100\n",
            "13/13 [==============================] - 0s 2ms/step - loss: 77.4176 - accuracy: 0.0000e+00\n",
            "Epoch 83/100\n",
            "13/13 [==============================] - 0s 1ms/step - loss: 78.9271 - accuracy: 0.0000e+00\n",
            "Epoch 84/100\n",
            "13/13 [==============================] - 0s 2ms/step - loss: 78.1582 - accuracy: 0.0000e+00\n",
            "Epoch 85/100\n",
            "13/13 [==============================] - 0s 2ms/step - loss: 79.2082 - accuracy: 0.0000e+00\n",
            "Epoch 86/100\n",
            "13/13 [==============================] - 0s 1ms/step - loss: 76.4240 - accuracy: 0.0000e+00\n",
            "Epoch 87/100\n",
            "13/13 [==============================] - 0s 2ms/step - loss: 75.9919 - accuracy: 0.0000e+00\n",
            "Epoch 88/100\n",
            "13/13 [==============================] - 0s 2ms/step - loss: 76.1836 - accuracy: 0.0000e+00\n",
            "Epoch 89/100\n",
            "13/13 [==============================] - 0s 2ms/step - loss: 78.0365 - accuracy: 0.0000e+00\n",
            "Epoch 90/100\n",
            "13/13 [==============================] - 0s 2ms/step - loss: 72.4945 - accuracy: 0.0000e+00\n",
            "Epoch 91/100\n",
            "13/13 [==============================] - 0s 1ms/step - loss: 77.3575 - accuracy: 0.0000e+00\n",
            "Epoch 92/100\n",
            "13/13 [==============================] - 0s 1ms/step - loss: 74.1734 - accuracy: 0.0000e+00\n",
            "Epoch 93/100\n",
            "13/13 [==============================] - 0s 1ms/step - loss: 74.5024 - accuracy: 0.0000e+00\n",
            "Epoch 94/100\n",
            "13/13 [==============================] - 0s 1ms/step - loss: 72.6613 - accuracy: 0.0000e+00\n",
            "Epoch 95/100\n",
            "13/13 [==============================] - 0s 1ms/step - loss: 71.5469 - accuracy: 0.0000e+00\n",
            "Epoch 96/100\n",
            "13/13 [==============================] - 0s 1ms/step - loss: 69.8860 - accuracy: 0.0000e+00\n",
            "Epoch 97/100\n",
            "13/13 [==============================] - 0s 2ms/step - loss: 69.5475 - accuracy: 0.0000e+00\n",
            "Epoch 98/100\n",
            "13/13 [==============================] - 0s 2ms/step - loss: 68.2931 - accuracy: 0.0000e+00\n",
            "Epoch 99/100\n",
            "13/13 [==============================] - 0s 2ms/step - loss: 69.0629 - accuracy: 0.0000e+00\n",
            "Epoch 100/100\n",
            "13/13 [==============================] - 0s 1ms/step - loss: 67.4806 - accuracy: 0.0000e+00\n"
          ],
          "name": "stdout"
        },
        {
          "output_type": "execute_result",
          "data": {
            "text/plain": [
              "<tensorflow.python.keras.callbacks.History at 0x7f90e5281cf8>"
            ]
          },
          "metadata": {
            "tags": []
          },
          "execution_count": 256
        }
      ]
    },
    {
      "cell_type": "code",
      "metadata": {
        "id": "RuxupLhWFQHC",
        "colab_type": "code",
        "outputId": "64c99449-d884-4a98-ecd1-baf3ebb24a36",
        "colab": {
          "base_uri": "https://localhost:8080/",
          "height": 33
        }
      },
      "source": [
        "len(X)"
      ],
      "execution_count": 0,
      "outputs": [
        {
          "output_type": "execute_result",
          "data": {
            "text/plain": [
              "398"
            ]
          },
          "metadata": {
            "tags": []
          },
          "execution_count": 259
        }
      ]
    },
    {
      "cell_type": "code",
      "metadata": {
        "id": "8-f9mpggDfNa",
        "colab_type": "code",
        "colab": {}
      },
      "source": [
        "##Doubt:even though X and Y have well over 390 samples,in each epoch only 13 samples are trained against..wh"
      ],
      "execution_count": 0,
      "outputs": []
    },
    {
      "cell_type": "code",
      "metadata": {
        "id": "Qw5_vRz_FhCF",
        "colab_type": "code",
        "colab": {}
      },
      "source": [
        ""
      ],
      "execution_count": 0,
      "outputs": []
    },
    {
      "cell_type": "code",
      "metadata": {
        "id": "5gZ2m3PsGRsq",
        "colab_type": "code",
        "colab": {}
      },
      "source": [
        ""
      ],
      "execution_count": 0,
      "outputs": []
    }
  ]
}