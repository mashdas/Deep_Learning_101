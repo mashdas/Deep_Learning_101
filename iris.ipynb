{
  "nbformat": 4,
  "nbformat_minor": 0,
  "metadata": {
    "colab": {
      "name": "iris.ipynb",
      "provenance": [],
      "authorship_tag": "ABX9TyNWFCN8ATaMmQBLXhuO9Uuk",
      "include_colab_link": true
    },
    "kernelspec": {
      "name": "python3",
      "display_name": "Python 3"
    }
  },
  "cells": [
    {
      "cell_type": "markdown",
      "metadata": {
        "id": "view-in-github",
        "colab_type": "text"
      },
      "source": [
        "<a href=\"https://colab.research.google.com/github/mashdas/Deep_Learning_101/blob/master/iris.ipynb\" target=\"_parent\"><img src=\"https://colab.research.google.com/assets/colab-badge.svg\" alt=\"Open In Colab\"/></a>"
      ]
    },
    {
      "cell_type": "code",
      "metadata": {
        "id": "D1ry5ZgTHJXh",
        "colab_type": "code",
        "colab": {}
      },
      "source": [
        "import pandas as pd\n",
        "import numpy as np\n",
        "from sklearn.model_selection import train_test_split\n",
        "import matplotlib.pyplot as plt\n",
        "from tensorflow.keras.callbacks import EarlyStopping"
      ],
      "execution_count": 0,
      "outputs": []
    },
    {
      "cell_type": "code",
      "metadata": {
        "id": "VHCwilOJhf9G",
        "colab_type": "code",
        "colab": {}
      },
      "source": [
        ""
      ],
      "execution_count": 0,
      "outputs": []
    },
    {
      "cell_type": "code",
      "metadata": {
        "id": "S2i8979-HiXl",
        "colab_type": "code",
        "colab": {}
      },
      "source": [
        "df=pd.read_csv(\"Iris.csv\",na_values=[\"NA\",\"?\"])\n",
        "df"
      ],
      "execution_count": 0,
      "outputs": []
    },
    {
      "cell_type": "code",
      "metadata": {
        "id": "EIyWhPrAHlyq",
        "colab_type": "code",
        "colab": {}
      },
      "source": [
        "df.isnull().sum()"
      ],
      "execution_count": 0,
      "outputs": []
    },
    {
      "cell_type": "code",
      "metadata": {
        "id": "BfFaDbqrHojk",
        "colab_type": "code",
        "colab": {}
      },
      "source": [
        "X,y=df.iloc[:,1:5],df.iloc[:,5]"
      ],
      "execution_count": 0,
      "outputs": []
    },
    {
      "cell_type": "code",
      "metadata": {
        "id": "0S6qcwUrITIK",
        "colab_type": "code",
        "colab": {}
      },
      "source": [
        "y=pd.get_dummies(df[\"Species\"])"
      ],
      "execution_count": 0,
      "outputs": []
    },
    {
      "cell_type": "code",
      "metadata": {
        "id": "w0MorqKTIjFu",
        "colab_type": "code",
        "colab": {}
      },
      "source": [
        "X,y=X.values,y.values"
      ],
      "execution_count": 0,
      "outputs": []
    },
    {
      "cell_type": "code",
      "metadata": {
        "id": "1oxtvmcWKcNq",
        "colab_type": "code",
        "colab": {}
      },
      "source": [
        ""
      ],
      "execution_count": 0,
      "outputs": []
    },
    {
      "cell_type": "code",
      "metadata": {
        "id": "2vX7kO7aLYqP",
        "colab_type": "code",
        "colab": {}
      },
      "source": [
        "X_train,X_test,y_train,y_test=train_test_split(X,y,test_size=0.2)"
      ],
      "execution_count": 0,
      "outputs": []
    },
    {
      "cell_type": "code",
      "metadata": {
        "id": "_-aRKK_9LnnQ",
        "colab_type": "code",
        "colab": {
          "base_uri": "https://localhost:8080/",
          "height": 1000
        },
        "outputId": "7c63c9b9-e61d-45f1-dc03-e755899f30f4"
      },
      "source": [
        "##Building a NN\n",
        "import tensorflow as tf\n",
        "from tensorflow.keras.layers import Dense,Activation\n",
        "from tensorflow.keras import Sequential\n",
        "\n",
        "\n",
        "model=Sequential()\n",
        "model.add(Dense(50,input_dim=X.shape[1],activation='relu'))\n",
        "model.add(Dense(25,activation='relu'))\n",
        "model.add(Dense(y.shape[1],activation='softmax'))\n",
        "\n",
        "monitor=EarlyStopping(monitor=\"val_loss\",min_delta=1e-3,patience=5,verbose=1,\n",
        "                      mode='auto',restore_best_weights=True)\n",
        "\n",
        "model.compile(loss=\"categorical_crossentropy\",optimizer=\"adam\",metrics=[\"accuracy\"])\n",
        "history=model.fit(X_train,y_train,verbose=1,epochs=35,validation_data=(X_test,y_test),call\n",
        "                  =[monitor])"
      ],
      "execution_count": 55,
      "outputs": [
        {
          "output_type": "stream",
          "text": [
            "Epoch 1/35\n",
            "4/4 [==============================] - 0s 30ms/step - loss: 0.9634 - accuracy: 0.5417 - val_loss: 0.9058 - val_accuracy: 0.5000\n",
            "Epoch 2/35\n",
            "4/4 [==============================] - 0s 9ms/step - loss: 0.8947 - accuracy: 0.4750 - val_loss: 0.8543 - val_accuracy: 0.5333\n",
            "Epoch 3/35\n",
            "4/4 [==============================] - 0s 10ms/step - loss: 0.8433 - accuracy: 0.4333 - val_loss: 0.8158 - val_accuracy: 0.3667\n",
            "Epoch 4/35\n",
            "4/4 [==============================] - 0s 9ms/step - loss: 0.7989 - accuracy: 0.4750 - val_loss: 0.7845 - val_accuracy: 0.4333\n",
            "Epoch 5/35\n",
            "4/4 [==============================] - 0s 9ms/step - loss: 0.7688 - accuracy: 0.5167 - val_loss: 0.7533 - val_accuracy: 0.4333\n",
            "Epoch 6/35\n",
            "4/4 [==============================] - 0s 10ms/step - loss: 0.7345 - accuracy: 0.4583 - val_loss: 0.7202 - val_accuracy: 0.4000\n",
            "Epoch 7/35\n",
            "4/4 [==============================] - 0s 9ms/step - loss: 0.7076 - accuracy: 0.4667 - val_loss: 0.6891 - val_accuracy: 0.5333\n",
            "Epoch 8/35\n",
            "4/4 [==============================] - 0s 9ms/step - loss: 0.6803 - accuracy: 0.5000 - val_loss: 0.6682 - val_accuracy: 0.4333\n",
            "Epoch 9/35\n",
            "4/4 [==============================] - 0s 9ms/step - loss: 0.6568 - accuracy: 0.6667 - val_loss: 0.6471 - val_accuracy: 0.5333\n",
            "Epoch 10/35\n",
            "4/4 [==============================] - 0s 11ms/step - loss: 0.6264 - accuracy: 0.6917 - val_loss: 0.6225 - val_accuracy: 0.5333\n",
            "Epoch 11/35\n",
            "4/4 [==============================] - 0s 9ms/step - loss: 0.6065 - accuracy: 0.8000 - val_loss: 0.5972 - val_accuracy: 0.9000\n",
            "Epoch 12/35\n",
            "4/4 [==============================] - 0s 9ms/step - loss: 0.5838 - accuracy: 0.9667 - val_loss: 0.5813 - val_accuracy: 0.8000\n",
            "Epoch 13/35\n",
            "4/4 [==============================] - 0s 9ms/step - loss: 0.5691 - accuracy: 0.9417 - val_loss: 0.5648 - val_accuracy: 0.8667\n",
            "Epoch 14/35\n",
            "4/4 [==============================] - 0s 9ms/step - loss: 0.5549 - accuracy: 0.9750 - val_loss: 0.5484 - val_accuracy: 0.9667\n",
            "Epoch 15/35\n",
            "4/4 [==============================] - 0s 9ms/step - loss: 0.5313 - accuracy: 0.9833 - val_loss: 0.5309 - val_accuracy: 0.9667\n",
            "Epoch 16/35\n",
            "4/4 [==============================] - 0s 9ms/step - loss: 0.5233 - accuracy: 0.9500 - val_loss: 0.5170 - val_accuracy: 0.9667\n",
            "Epoch 17/35\n",
            "4/4 [==============================] - 0s 9ms/step - loss: 0.5102 - accuracy: 0.9583 - val_loss: 0.5072 - val_accuracy: 1.0000\n",
            "Epoch 18/35\n",
            "4/4 [==============================] - 0s 9ms/step - loss: 0.4981 - accuracy: 0.9583 - val_loss: 0.4931 - val_accuracy: 0.9667\n",
            "Epoch 19/35\n",
            "4/4 [==============================] - 0s 11ms/step - loss: 0.4898 - accuracy: 0.9583 - val_loss: 0.4880 - val_accuracy: 1.0000\n",
            "Epoch 20/35\n",
            "4/4 [==============================] - 0s 13ms/step - loss: 0.4774 - accuracy: 0.9750 - val_loss: 0.4793 - val_accuracy: 0.9667\n",
            "Epoch 21/35\n",
            "4/4 [==============================] - 0s 11ms/step - loss: 0.4662 - accuracy: 0.9750 - val_loss: 0.4738 - val_accuracy: 0.9667\n",
            "Epoch 22/35\n",
            "4/4 [==============================] - 0s 9ms/step - loss: 0.4607 - accuracy: 0.9833 - val_loss: 0.4629 - val_accuracy: 0.9667\n",
            "Epoch 23/35\n",
            "4/4 [==============================] - 0s 9ms/step - loss: 0.4497 - accuracy: 0.9750 - val_loss: 0.4486 - val_accuracy: 1.0000\n",
            "Epoch 24/35\n",
            "4/4 [==============================] - 0s 9ms/step - loss: 0.4434 - accuracy: 0.9500 - val_loss: 0.4419 - val_accuracy: 1.0000\n",
            "Epoch 25/35\n",
            "4/4 [==============================] - 0s 9ms/step - loss: 0.4402 - accuracy: 0.9917 - val_loss: 0.4467 - val_accuracy: 0.8667\n",
            "Epoch 26/35\n",
            "4/4 [==============================] - 0s 9ms/step - loss: 0.4228 - accuracy: 0.9750 - val_loss: 0.4408 - val_accuracy: 0.8667\n",
            "Epoch 27/35\n",
            "4/4 [==============================] - 0s 9ms/step - loss: 0.4191 - accuracy: 0.9833 - val_loss: 0.4300 - val_accuracy: 0.9667\n",
            "Epoch 28/35\n",
            "4/4 [==============================] - 0s 9ms/step - loss: 0.4112 - accuracy: 0.9750 - val_loss: 0.4196 - val_accuracy: 0.9667\n",
            "Epoch 29/35\n",
            "4/4 [==============================] - 0s 12ms/step - loss: 0.4012 - accuracy: 0.9833 - val_loss: 0.4108 - val_accuracy: 1.0000\n",
            "Epoch 30/35\n",
            "4/4 [==============================] - 0s 9ms/step - loss: 0.3971 - accuracy: 0.9750 - val_loss: 0.3980 - val_accuracy: 1.0000\n",
            "Epoch 31/35\n",
            "4/4 [==============================] - 0s 9ms/step - loss: 0.3887 - accuracy: 0.9583 - val_loss: 0.3928 - val_accuracy: 1.0000\n",
            "Epoch 32/35\n",
            "4/4 [==============================] - 0s 9ms/step - loss: 0.3802 - accuracy: 0.9583 - val_loss: 0.3857 - val_accuracy: 1.0000\n",
            "Epoch 33/35\n",
            "4/4 [==============================] - 0s 9ms/step - loss: 0.3742 - accuracy: 0.9667 - val_loss: 0.3858 - val_accuracy: 1.0000\n",
            "Epoch 34/35\n",
            "4/4 [==============================] - 0s 9ms/step - loss: 0.3669 - accuracy: 0.9750 - val_loss: 0.3865 - val_accuracy: 0.9667\n",
            "Epoch 35/35\n",
            "4/4 [==============================] - 0s 9ms/step - loss: 0.3543 - accuracy: 0.9833 - val_loss: 0.3813 - val_accuracy: 0.9667\n"
          ],
          "name": "stdout"
        }
      ]
    },
    {
      "cell_type": "code",
      "metadata": {
        "id": "-BJNmWP_MZXQ",
        "colab_type": "code",
        "colab": {}
      },
      "source": [
        ""
      ],
      "execution_count": 0,
      "outputs": []
    },
    {
      "cell_type": "code",
      "metadata": {
        "id": "hM-Wqe_4Mdm3",
        "colab_type": "code",
        "colab": {}
      },
      "source": [
        "def plot_lc(history,epochs):\n",
        "  ##Accuracy\n",
        "  epoch_range=range(1,epochs+1)\n",
        "  plt.plot(epoch_range,history.history['accuracy'])\n",
        "  plt.plot(epoch_range,history.history['val_accuracy'])\n",
        "  plt.title(\"Model_accuracy\")\n",
        "  plt.ylabel(\"Accuracy\")\n",
        "  plt.xlabel(\"Epoch\")\n",
        "  plt.show()\n",
        "\n",
        "\n",
        "   ##Loss\n",
        "  epoch_range=range(1,epochs+1)\n",
        "  plt.plot(epoch_range,history.history['loss'])\n",
        "  plt.plot(epoch_range,history.history['val_loss'])\n",
        "  plt.title(\"Model_loss\")\n",
        "  plt.ylabel(\"Loss\")\n",
        "  plt.xlabel(\"Epoch\")\n",
        "\n",
        "  plt.legend([\"Train\",\"Val\"],loc=\"upper left\")\n",
        "  plt.show()"
      ],
      "execution_count": 0,
      "outputs": []
    },
    {
      "cell_type": "code",
      "metadata": {
        "id": "CHqojM4_M_d5",
        "colab_type": "code",
        "colab": {
          "base_uri": "https://localhost:8080/",
          "height": 572
        },
        "outputId": "c3bc10cf-08a0-4d08-eb75-30ccf4f79064"
      },
      "source": [
        "plot_lc(history,35)"
      ],
      "execution_count": 56,
      "outputs": [
        {
          "output_type": "display_data",
          "data": {
            "image/png": "[encoded data removed]",
            "text/plain": [
              "<Figure size 432x288 with 1 Axes>"
            ]
          },
          "metadata": {
            "tags": [],
            "needs_background": "light"
          }
        },
        {
          "output_type": "display_data",
          "data": {
            "image/png": "[encoded data removed]",
            "text/plain": [
              "<Figure size 432x288 with 1 Axes>"
            ]
          },
          "metadata": {
            "tags": [],
            "needs_background": "light"
          }
        }
      ]
    },
    {
      "cell_type": "code",
      "metadata": {
        "id": "dasc9UvMNHV4",
        "colab_type": "code",
        "colab": {}
      },
      "source": [
        "##Doubt:SAME AS THE PREVIOS>>HERE ONLY 5 samples are used for training when 120 are available"
      ],
      "execution_count": 0,
      "outputs": []
    },
    {
      "cell_type": "code",
      "metadata": {
        "id": "7VboTfxtNnCl",
        "colab_type": "code",
        "colab": {}
      },
      "source": [
        ""
      ],
      "execution_count": 0,
      "outputs": []
    }
  ]
}