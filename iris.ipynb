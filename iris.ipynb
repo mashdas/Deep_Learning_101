{
  "nbformat": 4,
  "nbformat_minor": 0,
  "metadata": {
    "colab": {
      "name": "iris.ipynb",
      "provenance": [],
      "authorship_tag": "ABX9TyOJqAP6n/IuAiEfbAjLN6UI",
      "include_colab_link": true
    },
    "kernelspec": {
      "name": "python3",
      "display_name": "Python 3"
    }
  },
  "cells": [
    {
      "cell_type": "markdown",
      "metadata": {
        "id": "view-in-github",
        "colab_type": "text"
      },
      "source": [
        "<a href=\"https://colab.research.google.com/github/mashdas/Deep_Learning_101/blob/master/iris.ipynb\" target=\"_parent\"><img src=\"https://colab.research.google.com/assets/colab-badge.svg\" alt=\"Open In Colab\"/></a>"
      ]
    },
    {
      "cell_type": "code",
      "metadata": {
        "id": "D1ry5ZgTHJXh",
        "colab_type": "code",
        "colab": {}
      },
      "source": [
        "import pandas as pd\n",
        "import numpy as np\n",
        "from sklearn.model_selection import train_test_split\n",
        "import matplotlib.pyplot as plt\n"
      ],
      "execution_count": 0,
      "outputs": []
    },
    {
      "cell_type": "code",
      "metadata": {
        "id": "S2i8979-HiXl",
        "colab_type": "code",
        "colab": {}
      },
      "source": [
        "df=pd.read_csv(\"Iris.csv\",na_values=[\"NA\",\"?\"])\n",
        "df"
      ],
      "execution_count": 0,
      "outputs": []
    },
    {
      "cell_type": "code",
      "metadata": {
        "id": "EIyWhPrAHlyq",
        "colab_type": "code",
        "colab": {}
      },
      "source": [
        "df.isnull().sum()"
      ],
      "execution_count": 0,
      "outputs": []
    },
    {
      "cell_type": "code",
      "metadata": {
        "id": "BfFaDbqrHojk",
        "colab_type": "code",
        "colab": {}
      },
      "source": [
        "X,y=df.iloc[:,1:5],df.iloc[:,5]"
      ],
      "execution_count": 0,
      "outputs": []
    },
    {
      "cell_type": "code",
      "metadata": {
        "id": "0S6qcwUrITIK",
        "colab_type": "code",
        "colab": {}
      },
      "source": [
        "y=pd.get_dummies(df[\"Species\"])"
      ],
      "execution_count": 0,
      "outputs": []
    },
    {
      "cell_type": "code",
      "metadata": {
        "id": "w0MorqKTIjFu",
        "colab_type": "code",
        "colab": {}
      },
      "source": [
        "X,y=X.values,y.values"
      ],
      "execution_count": 0,
      "outputs": []
    },
    {
      "cell_type": "code",
      "metadata": {
        "id": "1oxtvmcWKcNq",
        "colab_type": "code",
        "colab": {}
      },
      "source": [
        ""
      ],
      "execution_count": 0,
      "outputs": []
    },
    {
      "cell_type": "code",
      "metadata": {
        "id": "2vX7kO7aLYqP",
        "colab_type": "code",
        "colab": {}
      },
      "source": [
        "X_train,X_test,y_train,y_test=train_test_split(X,y,test_size=0.2)"
      ],
      "execution_count": 0,
      "outputs": []
    },
    {
      "cell_type": "code",
      "metadata": {
        "id": "_-aRKK_9LnnQ",
        "colab_type": "code",
        "colab": {
          "base_uri": "https://localhost:8080/",
          "height": 1000
        },
        "outputId": "2a33c5a9-086f-4a8a-b28e-1b2797dc8438"
      },
      "source": [
        "##Building a NN\n",
        "import tensorflow as tf\n",
        "from tensorflow.keras.layers import Dense,Activation\n",
        "from tensorflow.keras import Sequential\n",
        "\n",
        "\n",
        "model=Sequential()\n",
        "model.add(Dense(50,input_dim=X.shape[1],activation='relu'))\n",
        "model.add(Dense(25,activation='relu'))\n",
        "model.add(Dense(y.shape[1],activation='softmax'))\n",
        "\n",
        "model.compile(loss=\"categorical_crossentropy\",optimizer=\"adam\",metrics=[\"accuracy\"])\n",
        "history=model.fit(X,y,verbose=1,epochs=40,validation_data=(X_test,y_test))"
      ],
      "execution_count": 39,
      "outputs": [
        {
          "output_type": "stream",
          "text": [
            "Epoch 1/40\n",
            "5/5 [==============================] - 0s 23ms/step - loss: 1.1977 - accuracy: 0.1067 - val_loss: 1.0826 - val_accuracy: 0.5000\n",
            "Epoch 2/40\n",
            "5/5 [==============================] - 0s 7ms/step - loss: 1.0688 - accuracy: 0.5667 - val_loss: 0.9784 - val_accuracy: 0.7667\n",
            "Epoch 3/40\n",
            "5/5 [==============================] - 0s 7ms/step - loss: 0.9686 - accuracy: 0.6667 - val_loss: 0.8955 - val_accuracy: 0.7667\n",
            "Epoch 4/40\n",
            "5/5 [==============================] - 0s 8ms/step - loss: 0.8973 - accuracy: 0.6667 - val_loss: 0.8377 - val_accuracy: 0.7667\n",
            "Epoch 5/40\n",
            "5/5 [==============================] - 0s 7ms/step - loss: 0.8396 - accuracy: 0.6667 - val_loss: 0.7893 - val_accuracy: 0.8000\n",
            "Epoch 6/40\n",
            "5/5 [==============================] - 0s 7ms/step - loss: 0.7862 - accuracy: 0.7133 - val_loss: 0.7464 - val_accuracy: 0.9333\n",
            "Epoch 7/40\n",
            "5/5 [==============================] - 0s 7ms/step - loss: 0.7418 - accuracy: 0.8333 - val_loss: 0.7004 - val_accuracy: 0.9333\n",
            "Epoch 8/40\n",
            "5/5 [==============================] - 0s 7ms/step - loss: 0.6927 - accuracy: 0.7667 - val_loss: 0.6547 - val_accuracy: 0.8667\n",
            "Epoch 9/40\n",
            "5/5 [==============================] - 0s 7ms/step - loss: 0.6532 - accuracy: 0.7600 - val_loss: 0.6184 - val_accuracy: 0.9000\n",
            "Epoch 10/40\n",
            "5/5 [==============================] - 0s 8ms/step - loss: 0.6231 - accuracy: 0.7733 - val_loss: 0.5846 - val_accuracy: 0.9000\n",
            "Epoch 11/40\n",
            "5/5 [==============================] - 0s 7ms/step - loss: 0.5953 - accuracy: 0.7800 - val_loss: 0.5514 - val_accuracy: 0.9000\n",
            "Epoch 12/40\n",
            "5/5 [==============================] - 0s 7ms/step - loss: 0.5658 - accuracy: 0.8267 - val_loss: 0.5287 - val_accuracy: 0.9333\n",
            "Epoch 13/40\n",
            "5/5 [==============================] - 0s 7ms/step - loss: 0.5329 - accuracy: 0.8667 - val_loss: 0.4995 - val_accuracy: 0.9333\n",
            "Epoch 14/40\n",
            "5/5 [==============================] - 0s 7ms/step - loss: 0.5067 - accuracy: 0.8600 - val_loss: 0.4795 - val_accuracy: 0.9333\n",
            "Epoch 15/40\n",
            "5/5 [==============================] - 0s 7ms/step - loss: 0.4873 - accuracy: 0.8933 - val_loss: 0.4636 - val_accuracy: 0.9333\n",
            "Epoch 16/40\n",
            "5/5 [==============================] - 0s 8ms/step - loss: 0.4737 - accuracy: 0.9333 - val_loss: 0.4488 - val_accuracy: 0.9667\n",
            "Epoch 17/40\n",
            "5/5 [==============================] - 0s 7ms/step - loss: 0.4538 - accuracy: 0.9333 - val_loss: 0.4260 - val_accuracy: 0.9333\n",
            "Epoch 18/40\n",
            "5/5 [==============================] - 0s 7ms/step - loss: 0.4267 - accuracy: 0.9267 - val_loss: 0.4089 - val_accuracy: 0.9333\n",
            "Epoch 19/40\n",
            "5/5 [==============================] - 0s 7ms/step - loss: 0.4175 - accuracy: 0.9467 - val_loss: 0.3979 - val_accuracy: 1.0000\n",
            "Epoch 20/40\n",
            "5/5 [==============================] - 0s 8ms/step - loss: 0.4020 - accuracy: 0.9467 - val_loss: 0.3832 - val_accuracy: 1.0000\n",
            "Epoch 21/40\n",
            "5/5 [==============================] - 0s 7ms/step - loss: 0.3941 - accuracy: 0.9533 - val_loss: 0.3720 - val_accuracy: 1.0000\n",
            "Epoch 22/40\n",
            "5/5 [==============================] - 0s 7ms/step - loss: 0.3753 - accuracy: 0.9333 - val_loss: 0.3533 - val_accuracy: 0.9667\n",
            "Epoch 23/40\n",
            "5/5 [==============================] - 0s 7ms/step - loss: 0.3643 - accuracy: 0.9533 - val_loss: 0.3465 - val_accuracy: 1.0000\n",
            "Epoch 24/40\n",
            "5/5 [==============================] - 0s 7ms/step - loss: 0.3544 - accuracy: 0.9667 - val_loss: 0.3474 - val_accuracy: 1.0000\n",
            "Epoch 25/40\n",
            "5/5 [==============================] - 0s 7ms/step - loss: 0.3378 - accuracy: 0.9733 - val_loss: 0.3242 - val_accuracy: 1.0000\n",
            "Epoch 26/40\n",
            "5/5 [==============================] - 0s 7ms/step - loss: 0.3253 - accuracy: 0.9667 - val_loss: 0.3160 - val_accuracy: 1.0000\n",
            "Epoch 27/40\n",
            "5/5 [==============================] - 0s 8ms/step - loss: 0.3143 - accuracy: 0.9733 - val_loss: 0.3165 - val_accuracy: 1.0000\n",
            "Epoch 28/40\n",
            "5/5 [==============================] - 0s 8ms/step - loss: 0.3107 - accuracy: 0.9733 - val_loss: 0.2960 - val_accuracy: 1.0000\n",
            "Epoch 29/40\n",
            "5/5 [==============================] - 0s 10ms/step - loss: 0.2946 - accuracy: 0.9733 - val_loss: 0.2911 - val_accuracy: 1.0000\n",
            "Epoch 30/40\n",
            "5/5 [==============================] - 0s 7ms/step - loss: 0.2788 - accuracy: 0.9733 - val_loss: 0.2805 - val_accuracy: 1.0000\n",
            "Epoch 31/40\n",
            "5/5 [==============================] - 0s 7ms/step - loss: 0.2742 - accuracy: 0.9733 - val_loss: 0.2724 - val_accuracy: 1.0000\n",
            "Epoch 32/40\n",
            "5/5 [==============================] - 0s 7ms/step - loss: 0.2661 - accuracy: 0.9733 - val_loss: 0.2716 - val_accuracy: 1.0000\n",
            "Epoch 33/40\n",
            "5/5 [==============================] - 0s 7ms/step - loss: 0.2559 - accuracy: 0.9800 - val_loss: 0.2648 - val_accuracy: 1.0000\n",
            "Epoch 34/40\n",
            "5/5 [==============================] - 0s 7ms/step - loss: 0.2461 - accuracy: 0.9733 - val_loss: 0.2432 - val_accuracy: 1.0000\n",
            "Epoch 35/40\n",
            "5/5 [==============================] - 0s 7ms/step - loss: 0.2374 - accuracy: 0.9733 - val_loss: 0.2411 - val_accuracy: 1.0000\n",
            "Epoch 36/40\n",
            "5/5 [==============================] - 0s 7ms/step - loss: 0.2299 - accuracy: 0.9733 - val_loss: 0.2326 - val_accuracy: 1.0000\n",
            "Epoch 37/40\n",
            "5/5 [==============================] - 0s 7ms/step - loss: 0.2226 - accuracy: 0.9733 - val_loss: 0.2254 - val_accuracy: 1.0000\n",
            "Epoch 38/40\n",
            "5/5 [==============================] - 0s 7ms/step - loss: 0.2168 - accuracy: 0.9733 - val_loss: 0.2266 - val_accuracy: 1.0000\n",
            "Epoch 39/40\n",
            "5/5 [==============================] - 0s 9ms/step - loss: 0.2044 - accuracy: 0.9800 - val_loss: 0.2153 - val_accuracy: 1.0000\n",
            "Epoch 40/40\n",
            "5/5 [==============================] - 0s 7ms/step - loss: 0.2022 - accuracy: 0.9733 - val_loss: 0.2034 - val_accuracy: 1.0000\n"
          ],
          "name": "stdout"
        }
      ]
    },
    {
      "cell_type": "code",
      "metadata": {
        "id": "-BJNmWP_MZXQ",
        "colab_type": "code",
        "colab": {}
      },
      "source": [
        ""
      ],
      "execution_count": 0,
      "outputs": []
    },
    {
      "cell_type": "code",
      "metadata": {
        "id": "hM-Wqe_4Mdm3",
        "colab_type": "code",
        "colab": {}
      },
      "source": [
        "def plot_lc(history,epochs):\n",
        "  ##Accuracy\n",
        "  epoch_range=range(1,epochs+1)\n",
        "  plt.plot(epoch_range,history.history['accuracy'])\n",
        "  plt.plot(epoch_range,history.history['val_accuracy'])\n",
        "  plt.title(\"Model_accuracy\")\n",
        "  plt.ylabel(\"Accuracy\")\n",
        "  plt.xlabel(\"Epoch\")\n",
        "  plt.show()\n",
        "\n",
        "\n",
        "   ##Loss\n",
        "  epoch_range=range(1,epochs+1)\n",
        "  plt.plot(epoch_range,history.history['loss'])\n",
        "  plt.plot(epoch_range,history.history['val_loss'])\n",
        "  plt.title(\"Model_loss\")\n",
        "  plt.ylabel(\"Loss\")\n",
        "  plt.xlabel(\"Epoch\")\n",
        "\n",
        "  plt.legend([\"Train\",\"Val\"],loc=\"upper left\")\n",
        "  plt.show()"
      ],
      "execution_count": 0,
      "outputs": []
    },
    {
      "cell_type": "code",
      "metadata": {
        "id": "CHqojM4_M_d5",
        "colab_type": "code",
        "colab": {
          "base_uri": "https://localhost:8080/",
          "height": 572
        },
        "outputId": "1816c293-d370-4250-baa7-3115c3a89390"
      },
      "source": [
        "plot_lc(history,40)"
      ],
      "execution_count": 42,
      "outputs": [
        {
          "output_type": "display_data",
          "data": {
            "image/png": "[encoded data removed]",
            "text/plain": [
              "<Figure size 432x288 with 1 Axes>"
            ]
          },
          "metadata": {
            "tags": [],
            "needs_background": "light"
          }
        },
        {
          "output_type": "display_data",
          "data": {
            "image/png": "[encoded data removed]",
            "text/plain": [
              "<Figure size 432x288 with 1 Axes>"
            ]
          },
          "metadata": {
            "tags": [],
            "needs_background": "light"
          }
        }
      ]
    },
    {
      "cell_type": "code",
      "metadata": {
        "id": "dasc9UvMNHV4",
        "colab_type": "code",
        "colab": {}
      },
      "source": [
        "##Doubt:SAME AS THE PREVIOS>>HERE ONLY 5 samples are used for training when 120 are available"
      ],
      "execution_count": 0,
      "outputs": []
    },
    {
      "cell_type": "code",
      "metadata": {
        "id": "7VboTfxtNnCl",
        "colab_type": "code",
        "colab": {}
      },
      "source": [
        ""
      ],
      "execution_count": 0,
      "outputs": []
    }
  ]
}